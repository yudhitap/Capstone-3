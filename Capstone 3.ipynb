{
 "cells": [
  {
   "cell_type": "markdown",
   "id": "a8975c1a",
   "metadata": {},
   "source": [
    "## Travel Insurance Claim Detection System"
   ]
  },
  {
   "cell_type": "markdown",
   "id": "0b33d1e3",
   "metadata": {},
   "source": [
    "### Business Problem Understanding"
   ]
  },
  {
   "cell_type": "markdown",
   "id": "0f36a0d8",
   "metadata": {},
   "source": [
    "##### Latar Belakang"
   ]
  },
  {
   "cell_type": "markdown",
   "id": "2a3cb077",
   "metadata": {},
   "source": [
    "Asuransi perjalanan adalah jenis asuransi yang memberikan perlindungan selama kita melakukan perjalanan baik di dalam negeri maupun di luar negeri. Beberapa negara bahkan sudah mewajibkan para pelancong untuk memiliki asuransi perjalanan, misalnya negara-negara di Eropa dan Amerika. Besarnya premi tergantung dari pertanggungan yang diinginkan, lama perjalanan, dan tujuan perjalanan. Sebuah perusahaan yang bergerak di bidang asuransi perjalanan ingin mengetahui pemegang polis yang akan mengajukan klaim pertanggungan. Data pemegang polis pada perusahaan asuransi merupakan data historis yang terdiri dari tujuan, produk asuransi, dan lain sebagainya."
   ]
  },
  {
   "cell_type": "markdown",
   "id": "9323cf5c",
   "metadata": {},
   "source": [
    "##### Problem Statement"
   ]
  },
  {
   "cell_type": "markdown",
   "id": "03786964",
   "metadata": {},
   "source": [
    "Perusahaan perlu memprediksi pemegang polis yang akan klaim asuransi dengan tepat. Dengan prediksi yang tepat, perusahaan akan dapat menyiapkan dana asuransi dengan tepat juga sesuai dengan klaim.\n",
    "1. Jika perusahaan tidak dapat menyiapkan dana untuk proses pengajuan klaim yang ada, maka dapat menurunkan kredibilitas perusahaan di masyarakat dan akan berdampak pada penjualan produk kedepannya.\n",
    "2. Jika perusahaan hanya menyiapkan dana saja di setiap waktu tanpa mempertimbangkan apakah dana tersebut akan terpakai atau tidak untuk klaim nasabah, maka dana tersebut akan merugikan karena tidak menjadi instrumen investasi sehingga menyebabkan opportunity loss."
   ]
  },
  {
   "cell_type": "markdown",
   "id": "17755be4",
   "metadata": {},
   "source": [
    "##### Goals"
   ]
  },
  {
   "cell_type": "markdown",
   "id": "a9b8b950",
   "metadata": {},
   "source": [
    "Perusahaan ingin memiliki kemampuan untuk memprediksi kemungkinan seorang pemegang polis akan mengajukan klaim asuransi, sehingga perusahaan dapat membuat rencana yang lebih baik dalam menangani klaim asuransi."
   ]
  },
  {
   "cell_type": "markdown",
   "id": "ab84b95d",
   "metadata": {},
   "source": [
    "##### Metric Evaluation"
   ]
  },
  {
   "cell_type": "markdown",
   "id": "56ac2bec",
   "metadata": {},
   "source": [
    "<img src=\"image.webp\" width=\"500\" height=\"300\"/>\n",
    "\n",
    "Type 1 error : False Positive  \n",
    "Konsekuensi: Persiapan dana pencairan menjadi tidak tepat sasaran dan jumlah, sehingga akan menjadi sia-sia.\n",
    "\n",
    "Type 2 error : False Negative\n",
    "Konsekuensi: Dana pencairan tidak disiapkan sehingga dapat menghambat proses klaim asuransi.\n",
    "\n",
    "Berdasarkan konsekuensi tersebut, maka diharapkan model yang dibuat dapat mencegah False Positive dan False Negative. Perlu untuk diseimbangkan antara precision dan recallnya dari kelas positive (potential claim) sehingga metric utama yang akan digunakan adalah F1 Score."
   ]
  },
  {
   "cell_type": "code",
   "execution_count": 1,
   "id": "e0b91c28",
   "metadata": {},
   "outputs": [],
   "source": [
    "# Import Library\n",
    "\n",
    "import numpy as np\n",
    "import pandas as pd\n",
    "import seaborn as sns\n",
    "import matplotlib.pyplot as plt\n",
    "import seaborn as sns\n",
    "import pickle\n",
    "\n",
    "from sklearn.preprocessing import StandardScaler, RobustScaler, MinMaxScaler\n",
    "from sklearn.model_selection import train_test_split\n",
    "from sklearn.model_selection import cross_val_score, StratifiedKFold\n",
    "from sklearn.preprocessing import OneHotEncoder, LabelEncoder\n",
    "from sklearn.compose import ColumnTransformer\n",
    "from sklearn.impute import SimpleImputer\n",
    "import category_encoders as ce\n",
    "from imblearn.pipeline import Pipeline\n",
    "import pycountry_convert as pc\n",
    "from collections import defaultdict\n",
    "\n",
    "from imblearn.over_sampling import RandomOverSampler, SMOTE\n",
    "from imblearn.under_sampling import RandomUnderSampler, NearMiss\n",
    "\n",
    "from sklearn.linear_model import LogisticRegression\n",
    "from sklearn.ensemble import VotingClassifier, RandomForestClassifier\n",
    "from sklearn.tree import plot_tree, DecisionTreeClassifier\n",
    "from sklearn.neighbors import KNeighborsClassifier\n",
    "from sklearn.metrics import accuracy_score, confusion_matrix, recall_score, precision_score, classification_report, f1_score, roc_auc_score, RocCurveDisplay\n",
    "from sklearn.model_selection import GridSearchCV, RandomizedSearchCV\n",
    "from xgboost import XGBClassifier\n",
    "\n",
    "import warnings\n",
    "warnings.filterwarnings('ignore')"
   ]
  },
  {
   "cell_type": "markdown",
   "id": "29e591f4",
   "metadata": {},
   "source": [
    "#### Load Dataset"
   ]
  },
  {
   "cell_type": "code",
   "execution_count": 2,
   "id": "909cd058",
   "metadata": {},
   "outputs": [
    {
     "data": {
      "application/vnd.microsoft.datawrangler.viewer.v0+json": {
       "columns": [
        {
         "name": "index",
         "rawType": "int64",
         "type": "integer"
        },
        {
         "name": "Agency",
         "rawType": "object",
         "type": "string"
        },
        {
         "name": "Agency Type",
         "rawType": "object",
         "type": "string"
        },
        {
         "name": "Distribution Channel",
         "rawType": "object",
         "type": "string"
        },
        {
         "name": "Product Name",
         "rawType": "object",
         "type": "string"
        },
        {
         "name": "Gender",
         "rawType": "object",
         "type": "unknown"
        },
        {
         "name": "Duration",
         "rawType": "int64",
         "type": "integer"
        },
        {
         "name": "Destination",
         "rawType": "object",
         "type": "string"
        },
        {
         "name": "Net Sales",
         "rawType": "float64",
         "type": "float"
        },
        {
         "name": "Commision (in value)",
         "rawType": "float64",
         "type": "float"
        },
        {
         "name": "Age",
         "rawType": "int64",
         "type": "integer"
        },
        {
         "name": "Claim",
         "rawType": "object",
         "type": "string"
        }
       ],
       "ref": "e9356221-bd3d-4245-82eb-44e0f3d162d5",
       "rows": [
        [
         "0",
         "C2B",
         "Airlines",
         "Online",
         "Annual Silver Plan",
         "F",
         "365",
         "SINGAPORE",
         "216.0",
         "54.0",
         "57",
         "No"
        ],
        [
         "1",
         "EPX",
         "Travel Agency",
         "Online",
         "Cancellation Plan",
         null,
         "4",
         "MALAYSIA",
         "10.0",
         "0.0",
         "33",
         "No"
        ],
        [
         "2",
         "JZI",
         "Airlines",
         "Online",
         "Basic Plan",
         "M",
         "19",
         "INDIA",
         "22.0",
         "7.7",
         "26",
         "No"
        ],
        [
         "3",
         "EPX",
         "Travel Agency",
         "Online",
         "2 way Comprehensive Plan",
         null,
         "20",
         "UNITED STATES",
         "112.0",
         "0.0",
         "59",
         "No"
        ],
        [
         "4",
         "C2B",
         "Airlines",
         "Online",
         "Bronze Plan",
         "M",
         "8",
         "SINGAPORE",
         "16.0",
         "4.0",
         "28",
         "No"
        ],
        [
         "5",
         "EPX",
         "Travel Agency",
         "Online",
         "Cancellation Plan",
         null,
         "2",
         "SINGAPORE",
         "10.0",
         "0.0",
         "36",
         "No"
        ],
        [
         "6",
         "EPX",
         "Travel Agency",
         "Online",
         "1 way Comprehensive Plan",
         null,
         "25",
         "KOREA, REPUBLIC OF",
         "50.0",
         "0.0",
         "36",
         "No"
        ],
        [
         "7",
         "EPX",
         "Travel Agency",
         "Online",
         "Cancellation Plan",
         null,
         "90",
         "SINGAPORE",
         "78.0",
         "0.0",
         "22",
         "No"
        ],
        [
         "8",
         "JZI",
         "Airlines",
         "Online",
         "Basic Plan",
         "M",
         "4",
         "THAILAND",
         "22.0",
         "7.7",
         "39",
         "No"
        ],
        [
         "9",
         "EPX",
         "Travel Agency",
         "Online",
         "Cancellation Plan",
         null,
         "24",
         "GERMANY",
         "80.0",
         "0.0",
         "36",
         "No"
        ],
        [
         "10",
         "EPX",
         "Travel Agency",
         "Online",
         "2 way Comprehensive Plan",
         null,
         "43",
         "JAPAN",
         "40.0",
         "0.0",
         "28",
         "No"
        ],
        [
         "11",
         "C2B",
         "Airlines",
         "Online",
         "Annual Silver Plan",
         "M",
         "365",
         "SINGAPORE",
         "216.0",
         "54.0",
         "27",
         "No"
        ],
        [
         "12",
         "JZI",
         "Airlines",
         "Online",
         "Basic Plan",
         "F",
         "103",
         "KOREA, REPUBLIC OF",
         "26.0",
         "9.1",
         "48",
         "No"
        ],
        [
         "13",
         "C2B",
         "Airlines",
         "Online",
         "Annual Silver Plan",
         "F",
         "376",
         "SINGAPORE",
         "252.85",
         "63.21",
         "43",
         "Yes"
        ],
        [
         "14",
         "EPX",
         "Travel Agency",
         "Online",
         "Cancellation Plan",
         null,
         "6",
         "SINGAPORE",
         "10.0",
         "0.0",
         "43",
         "No"
        ],
        [
         "15",
         "EPX",
         "Travel Agency",
         "Online",
         "2 way Comprehensive Plan",
         null,
         "16",
         "INDONESIA",
         "47.0",
         "0.0",
         "36",
         "No"
        ],
        [
         "16",
         "EPX",
         "Travel Agency",
         "Online",
         "1 way Comprehensive Plan",
         null,
         "8",
         "JAPAN",
         "25.0",
         "0.0",
         "27",
         "No"
        ],
        [
         "17",
         "EPX",
         "Travel Agency",
         "Online",
         "Cancellation Plan",
         null,
         "27",
         "SINGAPORE",
         "10.0",
         "0.0",
         "51",
         "No"
        ],
        [
         "18",
         "EPX",
         "Travel Agency",
         "Online",
         "1 way Comprehensive Plan",
         null,
         "34",
         "THAILAND",
         "23.0",
         "0.0",
         "36",
         "No"
        ],
        [
         "19",
         "EPX",
         "Travel Agency",
         "Online",
         "2 way Comprehensive Plan",
         null,
         "3",
         "MALAYSIA",
         "20.0",
         "0.0",
         "65",
         "No"
        ],
        [
         "20",
         "EPX",
         "Travel Agency",
         "Online",
         "Cancellation Plan",
         null,
         "14",
         "MALAYSIA",
         "10.0",
         "0.0",
         "47",
         "No"
        ],
        [
         "21",
         "JZI",
         "Airlines",
         "Online",
         "Basic Plan",
         "M",
         "12",
         "VIET NAM",
         "30.0",
         "10.5",
         "35",
         "Yes"
        ],
        [
         "22",
         "EPX",
         "Travel Agency",
         "Online",
         "Cancellation Plan",
         null,
         "31",
         "UNITED STATES",
         "80.0",
         "0.0",
         "54",
         "No"
        ],
        [
         "23",
         "EPX",
         "Travel Agency",
         "Online",
         "2 way Comprehensive Plan",
         null,
         "43",
         "AUSTRALIA",
         "42.0",
         "0.0",
         "36",
         "No"
        ],
        [
         "24",
         "EPX",
         "Travel Agency",
         "Online",
         "Cancellation Plan",
         null,
         "5",
         "MALAYSIA",
         "10.0",
         "0.0",
         "23",
         "No"
        ],
        [
         "25",
         "EPX",
         "Travel Agency",
         "Online",
         "2 way Comprehensive Plan",
         null,
         "7",
         "THAILAND",
         "56.0",
         "0.0",
         "46",
         "No"
        ],
        [
         "26",
         "CWT",
         "Travel Agency",
         "Online",
         "Rental Vehicle Excess Insurance",
         null,
         "56",
         "UNITED STATES",
         "19.8",
         "11.88",
         "33",
         "No"
        ],
        [
         "27",
         "EPX",
         "Travel Agency",
         "Online",
         "Cancellation Plan",
         null,
         "29",
         "INDIA",
         "14.0",
         "0.0",
         "36",
         "No"
        ],
        [
         "28",
         "C2B",
         "Airlines",
         "Online",
         "Bronze Plan",
         "F",
         "30",
         "SINGAPORE",
         "16.0",
         "4.0",
         "58",
         "Yes"
        ],
        [
         "29",
         "JZI",
         "Airlines",
         "Online",
         "Basic Plan",
         "F",
         "8",
         "THAILAND",
         "30.0",
         "10.5",
         "42",
         "No"
        ],
        [
         "30",
         "CWT",
         "Travel Agency",
         "Online",
         "Rental Vehicle Excess Insurance",
         null,
         "58",
         "FINLAND",
         "29.7",
         "17.82",
         "31",
         "No"
        ],
        [
         "31",
         "EPX",
         "Travel Agency",
         "Online",
         "Cancellation Plan",
         null,
         "19",
         "UNITED KINGDOM",
         "10.0",
         "0.0",
         "36",
         "No"
        ],
        [
         "32",
         "LWC",
         "Travel Agency",
         "Online",
         "Single Trip Travel Protect Gold",
         "F",
         "9",
         "SRI LANKA",
         "36.0",
         "23.4",
         "29",
         "No"
        ],
        [
         "33",
         "C2B",
         "Airlines",
         "Online",
         "Silver Plan",
         "M",
         "2",
         "SINGAPORE",
         "30.0",
         "7.5",
         "37",
         "No"
        ],
        [
         "34",
         "EPX",
         "Travel Agency",
         "Online",
         "Cancellation Plan",
         null,
         "24",
         "THAILAND",
         "31.0",
         "0.0",
         "36",
         "No"
        ],
        [
         "35",
         "EPX",
         "Travel Agency",
         "Online",
         "Cancellation Plan",
         null,
         "38",
         "AUSTRALIA",
         "58.0",
         "0.0",
         "36",
         "No"
        ],
        [
         "36",
         "CWT",
         "Travel Agency",
         "Online",
         "Rental Vehicle Excess Insurance",
         null,
         "12",
         "SPAIN",
         "9.9",
         "5.94",
         "26",
         "No"
        ],
        [
         "37",
         "EPX",
         "Travel Agency",
         "Online",
         "Cancellation Plan",
         null,
         "4",
         "SINGAPORE",
         "15.0",
         "0.0",
         "68",
         "No"
        ],
        [
         "38",
         "EPX",
         "Travel Agency",
         "Online",
         "Cancellation Plan",
         null,
         "42",
         "HONG KONG",
         "21.0",
         "0.0",
         "36",
         "No"
        ],
        [
         "39",
         "EPX",
         "Travel Agency",
         "Online",
         "Cancellation Plan",
         null,
         "11",
         "MALAYSIA",
         "29.0",
         "0.0",
         "36",
         "No"
        ],
        [
         "40",
         "EPX",
         "Travel Agency",
         "Online",
         "2 way Comprehensive Plan",
         null,
         "2",
         "MACAO",
         "32.0",
         "0.0",
         "35",
         "No"
        ],
        [
         "41",
         "JZI",
         "Airlines",
         "Online",
         "Value Plan",
         "M",
         "30",
         "UNITED KINGDOM",
         "125.0",
         "43.75",
         "43",
         "No"
        ],
        [
         "42",
         "EPX",
         "Travel Agency",
         "Online",
         "2 way Comprehensive Plan",
         null,
         "8",
         "CHINA",
         "48.0",
         "0.0",
         "36",
         "No"
        ],
        [
         "43",
         "CWT",
         "Travel Agency",
         "Online",
         "Rental Vehicle Excess Insurance",
         null,
         "13",
         "MALAYSIA",
         "29.7",
         "17.82",
         "27",
         "No"
        ],
        [
         "44",
         "EPX",
         "Travel Agency",
         "Online",
         "Cancellation Plan",
         null,
         "34",
         "SRI LANKA",
         "20.0",
         "0.0",
         "36",
         "No"
        ],
        [
         "45",
         "CWT",
         "Travel Agency",
         "Online",
         "Rental Vehicle Excess Insurance",
         null,
         "24",
         "UNITED ARAB EMIRATES",
         "0.0",
         "23.76",
         "27",
         "No"
        ],
        [
         "46",
         "ART",
         "Airlines",
         "Online",
         "24 Protect",
         "M",
         "3",
         "IRAN, ISLAMIC REPUBLIC OF",
         "21.04",
         "7.36",
         "48",
         "No"
        ],
        [
         "47",
         "EPX",
         "Travel Agency",
         "Online",
         "2 way Comprehensive Plan",
         null,
         "40",
         "TAIWAN, PROVINCE OF CHINA",
         "33.0",
         "0.0",
         "36",
         "No"
        ],
        [
         "48",
         "JZI",
         "Airlines",
         "Online",
         "Basic Plan",
         "M",
         "5",
         "CHINA",
         "26.0",
         "9.1",
         "29",
         "No"
        ],
        [
         "49",
         "EPX",
         "Travel Agency",
         "Online",
         "2 way Comprehensive Plan",
         null,
         "79",
         "INDONESIA",
         "23.0",
         "0.0",
         "39",
         "No"
        ]
       ],
       "shape": {
        "columns": 11,
        "rows": 44328
       }
      },
      "text/html": [
       "<div>\n",
       "<style scoped>\n",
       "    .dataframe tbody tr th:only-of-type {\n",
       "        vertical-align: middle;\n",
       "    }\n",
       "\n",
       "    .dataframe tbody tr th {\n",
       "        vertical-align: top;\n",
       "    }\n",
       "\n",
       "    .dataframe thead th {\n",
       "        text-align: right;\n",
       "    }\n",
       "</style>\n",
       "<table border=\"1\" class=\"dataframe\">\n",
       "  <thead>\n",
       "    <tr style=\"text-align: right;\">\n",
       "      <th></th>\n",
       "      <th>Agency</th>\n",
       "      <th>Agency Type</th>\n",
       "      <th>Distribution Channel</th>\n",
       "      <th>Product Name</th>\n",
       "      <th>Gender</th>\n",
       "      <th>Duration</th>\n",
       "      <th>Destination</th>\n",
       "      <th>Net Sales</th>\n",
       "      <th>Commision (in value)</th>\n",
       "      <th>Age</th>\n",
       "      <th>Claim</th>\n",
       "    </tr>\n",
       "  </thead>\n",
       "  <tbody>\n",
       "    <tr>\n",
       "      <th>0</th>\n",
       "      <td>C2B</td>\n",
       "      <td>Airlines</td>\n",
       "      <td>Online</td>\n",
       "      <td>Annual Silver Plan</td>\n",
       "      <td>F</td>\n",
       "      <td>365</td>\n",
       "      <td>SINGAPORE</td>\n",
       "      <td>216.0</td>\n",
       "      <td>54.00</td>\n",
       "      <td>57</td>\n",
       "      <td>No</td>\n",
       "    </tr>\n",
       "    <tr>\n",
       "      <th>1</th>\n",
       "      <td>EPX</td>\n",
       "      <td>Travel Agency</td>\n",
       "      <td>Online</td>\n",
       "      <td>Cancellation Plan</td>\n",
       "      <td>NaN</td>\n",
       "      <td>4</td>\n",
       "      <td>MALAYSIA</td>\n",
       "      <td>10.0</td>\n",
       "      <td>0.00</td>\n",
       "      <td>33</td>\n",
       "      <td>No</td>\n",
       "    </tr>\n",
       "    <tr>\n",
       "      <th>2</th>\n",
       "      <td>JZI</td>\n",
       "      <td>Airlines</td>\n",
       "      <td>Online</td>\n",
       "      <td>Basic Plan</td>\n",
       "      <td>M</td>\n",
       "      <td>19</td>\n",
       "      <td>INDIA</td>\n",
       "      <td>22.0</td>\n",
       "      <td>7.70</td>\n",
       "      <td>26</td>\n",
       "      <td>No</td>\n",
       "    </tr>\n",
       "    <tr>\n",
       "      <th>3</th>\n",
       "      <td>EPX</td>\n",
       "      <td>Travel Agency</td>\n",
       "      <td>Online</td>\n",
       "      <td>2 way Comprehensive Plan</td>\n",
       "      <td>NaN</td>\n",
       "      <td>20</td>\n",
       "      <td>UNITED STATES</td>\n",
       "      <td>112.0</td>\n",
       "      <td>0.00</td>\n",
       "      <td>59</td>\n",
       "      <td>No</td>\n",
       "    </tr>\n",
       "    <tr>\n",
       "      <th>4</th>\n",
       "      <td>C2B</td>\n",
       "      <td>Airlines</td>\n",
       "      <td>Online</td>\n",
       "      <td>Bronze Plan</td>\n",
       "      <td>M</td>\n",
       "      <td>8</td>\n",
       "      <td>SINGAPORE</td>\n",
       "      <td>16.0</td>\n",
       "      <td>4.00</td>\n",
       "      <td>28</td>\n",
       "      <td>No</td>\n",
       "    </tr>\n",
       "    <tr>\n",
       "      <th>...</th>\n",
       "      <td>...</td>\n",
       "      <td>...</td>\n",
       "      <td>...</td>\n",
       "      <td>...</td>\n",
       "      <td>...</td>\n",
       "      <td>...</td>\n",
       "      <td>...</td>\n",
       "      <td>...</td>\n",
       "      <td>...</td>\n",
       "      <td>...</td>\n",
       "      <td>...</td>\n",
       "    </tr>\n",
       "    <tr>\n",
       "      <th>44323</th>\n",
       "      <td>EPX</td>\n",
       "      <td>Travel Agency</td>\n",
       "      <td>Online</td>\n",
       "      <td>2 way Comprehensive Plan</td>\n",
       "      <td>NaN</td>\n",
       "      <td>14</td>\n",
       "      <td>CHINA</td>\n",
       "      <td>30.0</td>\n",
       "      <td>0.00</td>\n",
       "      <td>36</td>\n",
       "      <td>Yes</td>\n",
       "    </tr>\n",
       "    <tr>\n",
       "      <th>44324</th>\n",
       "      <td>CWT</td>\n",
       "      <td>Travel Agency</td>\n",
       "      <td>Online</td>\n",
       "      <td>Rental Vehicle Excess Insurance</td>\n",
       "      <td>NaN</td>\n",
       "      <td>17</td>\n",
       "      <td>AUSTRALIA</td>\n",
       "      <td>79.2</td>\n",
       "      <td>47.52</td>\n",
       "      <td>47</td>\n",
       "      <td>No</td>\n",
       "    </tr>\n",
       "    <tr>\n",
       "      <th>44325</th>\n",
       "      <td>TST</td>\n",
       "      <td>Travel Agency</td>\n",
       "      <td>Offline</td>\n",
       "      <td>Travel Cruise Protect</td>\n",
       "      <td>M</td>\n",
       "      <td>64</td>\n",
       "      <td>THAILAND</td>\n",
       "      <td>30.0</td>\n",
       "      <td>10.50</td>\n",
       "      <td>50</td>\n",
       "      <td>No</td>\n",
       "    </tr>\n",
       "    <tr>\n",
       "      <th>44326</th>\n",
       "      <td>EPX</td>\n",
       "      <td>Travel Agency</td>\n",
       "      <td>Online</td>\n",
       "      <td>2 way Comprehensive Plan</td>\n",
       "      <td>NaN</td>\n",
       "      <td>51</td>\n",
       "      <td>CHINA</td>\n",
       "      <td>36.0</td>\n",
       "      <td>0.00</td>\n",
       "      <td>36</td>\n",
       "      <td>No</td>\n",
       "    </tr>\n",
       "    <tr>\n",
       "      <th>44327</th>\n",
       "      <td>CWT</td>\n",
       "      <td>Travel Agency</td>\n",
       "      <td>Online</td>\n",
       "      <td>Rental Vehicle Excess Insurance</td>\n",
       "      <td>NaN</td>\n",
       "      <td>172</td>\n",
       "      <td>SINGAPORE</td>\n",
       "      <td>0.0</td>\n",
       "      <td>17.82</td>\n",
       "      <td>31</td>\n",
       "      <td>No</td>\n",
       "    </tr>\n",
       "  </tbody>\n",
       "</table>\n",
       "<p>44328 rows × 11 columns</p>\n",
       "</div>"
      ],
      "text/plain": [
       "      Agency    Agency Type Distribution Channel  \\\n",
       "0        C2B       Airlines               Online   \n",
       "1        EPX  Travel Agency               Online   \n",
       "2        JZI       Airlines               Online   \n",
       "3        EPX  Travel Agency               Online   \n",
       "4        C2B       Airlines               Online   \n",
       "...      ...            ...                  ...   \n",
       "44323    EPX  Travel Agency               Online   \n",
       "44324    CWT  Travel Agency               Online   \n",
       "44325    TST  Travel Agency              Offline   \n",
       "44326    EPX  Travel Agency               Online   \n",
       "44327    CWT  Travel Agency               Online   \n",
       "\n",
       "                          Product Name Gender  Duration    Destination  \\\n",
       "0                   Annual Silver Plan      F       365      SINGAPORE   \n",
       "1                    Cancellation Plan    NaN         4       MALAYSIA   \n",
       "2                           Basic Plan      M        19          INDIA   \n",
       "3             2 way Comprehensive Plan    NaN        20  UNITED STATES   \n",
       "4                          Bronze Plan      M         8      SINGAPORE   \n",
       "...                                ...    ...       ...            ...   \n",
       "44323         2 way Comprehensive Plan    NaN        14          CHINA   \n",
       "44324  Rental Vehicle Excess Insurance    NaN        17      AUSTRALIA   \n",
       "44325            Travel Cruise Protect      M        64       THAILAND   \n",
       "44326         2 way Comprehensive Plan    NaN        51          CHINA   \n",
       "44327  Rental Vehicle Excess Insurance    NaN       172      SINGAPORE   \n",
       "\n",
       "       Net Sales  Commision (in value)  Age Claim  \n",
       "0          216.0                 54.00   57    No  \n",
       "1           10.0                  0.00   33    No  \n",
       "2           22.0                  7.70   26    No  \n",
       "3          112.0                  0.00   59    No  \n",
       "4           16.0                  4.00   28    No  \n",
       "...          ...                   ...  ...   ...  \n",
       "44323       30.0                  0.00   36   Yes  \n",
       "44324       79.2                 47.52   47    No  \n",
       "44325       30.0                 10.50   50    No  \n",
       "44326       36.0                  0.00   36    No  \n",
       "44327        0.0                 17.82   31    No  \n",
       "\n",
       "[44328 rows x 11 columns]"
      ]
     },
     "execution_count": 2,
     "metadata": {},
     "output_type": "execute_result"
    }
   ],
   "source": [
    "df = pd.read_csv('/Users/AXIOO/Downloads/Purwadhika/Module 3/Capstone 3/Travel Insurance/data_travel_insurance.csv')\n",
    "df"
   ]
  },
  {
   "cell_type": "markdown",
   "id": "3d246273",
   "metadata": {},
   "source": [
    "### Data Understanding"
   ]
  },
  {
   "cell_type": "code",
   "execution_count": 3,
   "id": "0303a89c",
   "metadata": {},
   "outputs": [
    {
     "name": "stdout",
     "output_type": "stream",
     "text": [
      "<class 'pandas.core.frame.DataFrame'>\n",
      "RangeIndex: 44328 entries, 0 to 44327\n",
      "Data columns (total 11 columns):\n",
      " #   Column                Non-Null Count  Dtype  \n",
      "---  ------                --------------  -----  \n",
      " 0   Agency                44328 non-null  object \n",
      " 1   Agency Type           44328 non-null  object \n",
      " 2   Distribution Channel  44328 non-null  object \n",
      " 3   Product Name          44328 non-null  object \n",
      " 4   Gender                12681 non-null  object \n",
      " 5   Duration              44328 non-null  int64  \n",
      " 6   Destination           44328 non-null  object \n",
      " 7   Net Sales             44328 non-null  float64\n",
      " 8   Commision (in value)  44328 non-null  float64\n",
      " 9   Age                   44328 non-null  int64  \n",
      " 10  Claim                 44328 non-null  object \n",
      "dtypes: float64(2), int64(2), object(7)\n",
      "memory usage: 3.7+ MB\n"
     ]
    }
   ],
   "source": [
    "df.info()"
   ]
  },
  {
   "cell_type": "code",
   "execution_count": 4,
   "id": "e0bfdf32",
   "metadata": {},
   "outputs": [
    {
     "data": {
      "application/vnd.microsoft.datawrangler.viewer.v0+json": {
       "columns": [
        {
         "name": "index",
         "rawType": "object",
         "type": "string"
        },
        {
         "name": "0",
         "rawType": "int64",
         "type": "integer"
        }
       ],
       "ref": "2f661c66-0774-4399-aa89-fbecf94a08fa",
       "rows": [
        [
         "Agency",
         "0"
        ],
        [
         "Agency Type",
         "0"
        ],
        [
         "Distribution Channel",
         "0"
        ],
        [
         "Product Name",
         "0"
        ],
        [
         "Gender",
         "31647"
        ],
        [
         "Duration",
         "0"
        ],
        [
         "Destination",
         "0"
        ],
        [
         "Net Sales",
         "0"
        ],
        [
         "Commision (in value)",
         "0"
        ],
        [
         "Age",
         "0"
        ],
        [
         "Claim",
         "0"
        ]
       ],
       "shape": {
        "columns": 1,
        "rows": 11
       }
      },
      "text/plain": [
       "Agency                      0\n",
       "Agency Type                 0\n",
       "Distribution Channel        0\n",
       "Product Name                0\n",
       "Gender                  31647\n",
       "Duration                    0\n",
       "Destination                 0\n",
       "Net Sales                   0\n",
       "Commision (in value)        0\n",
       "Age                         0\n",
       "Claim                       0\n",
       "dtype: int64"
      ]
     },
     "execution_count": 4,
     "metadata": {},
     "output_type": "execute_result"
    }
   ],
   "source": [
    "df.isna().sum()"
   ]
  },
  {
   "cell_type": "code",
   "execution_count": 5,
   "id": "b5c0e8d8",
   "metadata": {},
   "outputs": [
    {
     "data": {
      "text/plain": [
       "<Axes: >"
      ]
     },
     "execution_count": 5,
     "metadata": {},
     "output_type": "execute_result"
    },
    {
     "data": {
      "image/png": "[encoded data removed]",
      "text/plain": [
       "<Figure size 600x400 with 2 Axes>"
      ]
     },
     "metadata": {},
     "output_type": "display_data"
    }
   ],
   "source": [
    "plt.figure(figsize=(6,4))\n",
    "sns.heatmap(df.isna())"
   ]
  },
  {
   "cell_type": "code",
   "execution_count": 6,
   "id": "b23bcf8d",
   "metadata": {},
   "outputs": [
    {
     "data": {
      "application/vnd.microsoft.datawrangler.viewer.v0+json": {
       "columns": [
        {
         "name": "index",
         "rawType": "object",
         "type": "string"
        },
        {
         "name": "Duration",
         "rawType": "float64",
         "type": "float"
        },
        {
         "name": "Net Sales",
         "rawType": "float64",
         "type": "float"
        },
        {
         "name": "Commision (in value)",
         "rawType": "float64",
         "type": "float"
        },
        {
         "name": "Age",
         "rawType": "float64",
         "type": "float"
        }
       ],
       "ref": "c732c4f2-31db-4f64-acbf-d54f48b3cb7c",
       "rows": [
        [
         "count",
         "44328.0",
         "44328.0",
         "44328.0",
         "44328.0"
        ],
        [
         "mean",
         "49.42429164410756",
         "40.55094815917705",
         "9.707691526800216",
         "39.925600072189134"
        ],
        [
         "std",
         "109.15396110542265",
         "48.66197006129917",
         "19.625637467831922",
         "13.95492635318513"
        ],
        [
         "min",
         "-1.0",
         "-357.5",
         "0.0",
         "0.0"
        ],
        [
         "25%",
         "9.0",
         "18.0",
         "0.0",
         "35.0"
        ],
        [
         "50%",
         "22.0",
         "26.5",
         "0.0",
         "36.0"
        ],
        [
         "75%",
         "53.0",
         "48.0",
         "11.55",
         "43.0"
        ],
        [
         "max",
         "4881.0",
         "810.0",
         "283.5",
         "118.0"
        ]
       ],
       "shape": {
        "columns": 4,
        "rows": 8
       }
      },
      "text/html": [
       "<div>\n",
       "<style scoped>\n",
       "    .dataframe tbody tr th:only-of-type {\n",
       "        vertical-align: middle;\n",
       "    }\n",
       "\n",
       "    .dataframe tbody tr th {\n",
       "        vertical-align: top;\n",
       "    }\n",
       "\n",
       "    .dataframe thead th {\n",
       "        text-align: right;\n",
       "    }\n",
       "</style>\n",
       "<table border=\"1\" class=\"dataframe\">\n",
       "  <thead>\n",
       "    <tr style=\"text-align: right;\">\n",
       "      <th></th>\n",
       "      <th>Duration</th>\n",
       "      <th>Net Sales</th>\n",
       "      <th>Commision (in value)</th>\n",
       "      <th>Age</th>\n",
       "    </tr>\n",
       "  </thead>\n",
       "  <tbody>\n",
       "    <tr>\n",
       "      <th>count</th>\n",
       "      <td>44328.000000</td>\n",
       "      <td>44328.000000</td>\n",
       "      <td>44328.000000</td>\n",
       "      <td>44328.000000</td>\n",
       "    </tr>\n",
       "    <tr>\n",
       "      <th>mean</th>\n",
       "      <td>49.424292</td>\n",
       "      <td>40.550948</td>\n",
       "      <td>9.707692</td>\n",
       "      <td>39.925600</td>\n",
       "    </tr>\n",
       "    <tr>\n",
       "      <th>std</th>\n",
       "      <td>109.153961</td>\n",
       "      <td>48.661970</td>\n",
       "      <td>19.625637</td>\n",
       "      <td>13.954926</td>\n",
       "    </tr>\n",
       "    <tr>\n",
       "      <th>min</th>\n",
       "      <td>-1.000000</td>\n",
       "      <td>-357.500000</td>\n",
       "      <td>0.000000</td>\n",
       "      <td>0.000000</td>\n",
       "    </tr>\n",
       "    <tr>\n",
       "      <th>25%</th>\n",
       "      <td>9.000000</td>\n",
       "      <td>18.000000</td>\n",
       "      <td>0.000000</td>\n",
       "      <td>35.000000</td>\n",
       "    </tr>\n",
       "    <tr>\n",
       "      <th>50%</th>\n",
       "      <td>22.000000</td>\n",
       "      <td>26.500000</td>\n",
       "      <td>0.000000</td>\n",
       "      <td>36.000000</td>\n",
       "    </tr>\n",
       "    <tr>\n",
       "      <th>75%</th>\n",
       "      <td>53.000000</td>\n",
       "      <td>48.000000</td>\n",
       "      <td>11.550000</td>\n",
       "      <td>43.000000</td>\n",
       "    </tr>\n",
       "    <tr>\n",
       "      <th>max</th>\n",
       "      <td>4881.000000</td>\n",
       "      <td>810.000000</td>\n",
       "      <td>283.500000</td>\n",
       "      <td>118.000000</td>\n",
       "    </tr>\n",
       "  </tbody>\n",
       "</table>\n",
       "</div>"
      ],
      "text/plain": [
       "           Duration     Net Sales  Commision (in value)           Age\n",
       "count  44328.000000  44328.000000          44328.000000  44328.000000\n",
       "mean      49.424292     40.550948              9.707692     39.925600\n",
       "std      109.153961     48.661970             19.625637     13.954926\n",
       "min       -1.000000   -357.500000              0.000000      0.000000\n",
       "25%        9.000000     18.000000              0.000000     35.000000\n",
       "50%       22.000000     26.500000              0.000000     36.000000\n",
       "75%       53.000000     48.000000             11.550000     43.000000\n",
       "max     4881.000000    810.000000            283.500000    118.000000"
      ]
     },
     "execution_count": 6,
     "metadata": {},
     "output_type": "execute_result"
    }
   ],
   "source": [
    "df.describe()"
   ]
  },
  {
   "cell_type": "code",
   "execution_count": 7,
   "id": "a95a966e",
   "metadata": {},
   "outputs": [
    {
     "data": {
      "application/vnd.microsoft.datawrangler.viewer.v0+json": {
       "columns": [
        {
         "name": "index",
         "rawType": "bool",
         "type": "boolean"
        },
        {
         "name": "count",
         "rawType": "int64",
         "type": "integer"
        }
       ],
       "ref": "b03c32e5-cb4f-46eb-8cfe-ba7ae56842f9",
       "rows": [
        [
         "False",
         "39661"
        ],
        [
         "True",
         "4667"
        ]
       ],
       "shape": {
        "columns": 1,
        "rows": 2
       }
      },
      "text/plain": [
       "False    39661\n",
       "True      4667\n",
       "Name: count, dtype: int64"
      ]
     },
     "execution_count": 7,
     "metadata": {},
     "output_type": "execute_result"
    }
   ],
   "source": [
    "df.duplicated().value_counts()"
   ]
  },
  {
   "cell_type": "code",
   "execution_count": 8,
   "id": "1539839f",
   "metadata": {},
   "outputs": [
    {
     "data": {
      "application/vnd.microsoft.datawrangler.viewer.v0+json": {
       "columns": [
        {
         "name": "index",
         "rawType": "int64",
         "type": "integer"
        },
        {
         "name": "Column Name",
         "rawType": "object",
         "type": "string"
        },
        {
         "name": "Data Type",
         "rawType": "object",
         "type": "unknown"
        },
        {
         "name": "Null",
         "rawType": "int64",
         "type": "integer"
        },
        {
         "name": "Null Percentage",
         "rawType": "float64",
         "type": "float"
        },
        {
         "name": "Number of Unique",
         "rawType": "int64",
         "type": "integer"
        },
        {
         "name": "Unique Sample",
         "rawType": "object",
         "type": "unknown"
        }
       ],
       "ref": "248c566f-82bf-4306-a5e3-15a38eb1e05a",
       "rows": [
        [
         "0",
         "Agency",
         "object",
         "0",
         "0.0",
         "16",
         "['C2B' 'EPX' 'JZI' 'CWT' 'LWC' 'ART' 'CSR' 'SSI' 'RAB' 'KML' 'TST' 'TTW'\n 'JWT' 'ADM' 'CCR' 'CBH']"
        ],
        [
         "1",
         "Agency Type",
         "object",
         "0",
         "0.0",
         "2",
         "['Airlines' 'Travel Agency']"
        ],
        [
         "2",
         "Distribution Channel",
         "object",
         "0",
         "0.0",
         "2",
         "['Online' 'Offline']"
        ],
        [
         "3",
         "Product Name",
         "object",
         "0",
         "0.0",
         "26",
         "['Annual Silver Plan' 'Cancellation Plan' 'Basic Plan'\n '2 way Comprehensive Plan' 'Bronze Plan' '1 way Comprehensive Plan'\n 'Rental Vehicle Excess Insurance' 'Single Trip Travel Protect Gold'\n 'Silver Plan' 'Value Plan' '24 Protect' 'Annual Travel Protect Gold'\n 'Comprehensive Plan' 'Ticket Protector' 'Travel Cruise Protect'\n 'Single Trip Travel Protect Silver' 'Individual Comprehensive Plan'\n 'Gold Plan' 'Annual Gold Plan' 'Child Comprehensive Plan' 'Premier Plan'\n 'Annual Travel Protect Silver' 'Single Trip Travel Protect Platinum'\n 'Annual Travel Protect Platinum' 'Spouse or Parents Comprehensive Plan'\n 'Travel Cruise Protect Family']"
        ],
        [
         "4",
         "Gender",
         "object",
         "31647",
         "71.39",
         "2",
         "['F' nan 'M']"
        ],
        [
         "5",
         "Duration",
         "int64",
         "0",
         "0.0",
         "437",
         "[ 365    4   19   20    8    2   25   90   24   43  103  376    6   16\n   27   34    3   14   12   31    5    7   56   29   30   58    9   38\n   42   11   13   40   79  370  366   26   83   55   18  100    1   35\n   36   75   23   73   32  232   37   10 4736   15   17   99  173   74\n   82   66  156   39   95   98  111  430   53   77   87   70  151   45\n   54  114  118   62   28  112  326   22   59   44   21   97   63   60\n   51  180  160  368   65   93   71   57    0   76   69  110  146  116\n  129   84   33  149   68   64  101  145   88  222  176  165  169  387\n   49  109   41  381   50  161  154  330   46   78   47  121  106  140\n   91  104  134  393  282  123  172   86  102  314  386  383   81  283\n  115  144   61  206  213  271  174  152  122   94  215  228  108  124\n   48  159  135  179  369  372  150  107   85  142   52  137   80  278\n   92   89  276  226  373  113  132  187  120  158  171  183  379  163\n  266   72  531  364  204  199  168   67  181  148  256  157  377  224\n  117  177  138  128  392  105  217  378  245  388  185  119  141  189\n  164   96  147  487  192  253  374  212  162  136  425  155  126  195\n  131  130  200  125  198  143  190  153  235  203  420  371  166  389\n  257  133  241  375  196  182  289  127  367  391  384  304  315  267\n  167  252  380  433  230  263  328  402  207  249  254  419  275  139\n  227  244  237  234  396  397  170  299  258  178  319  306  211  231\n  269  214  191  408  238  307 4857  193  194  305  251  233  273  294\n  240  287  255  202  316  260  225  279  229  309  322  280  418  218\n  382  197  428  243  236  416  390  209  296  432  325  445  270  216\n  281  186  208  415  399  201  184  411  417  497  426  274  331  188\n  488  219  413  205  461  444  406  405  457  385 4815  403  221  264\n  398  246  317 4652  394  277  297  259  422  268  395  175  261  288\n  310  285  262  220  223  409  400  272  431  210  547  293  318  247\n 4881  286  466 4844  436  404  242  351  250  265  740  303  292 4580\n  423  440  450  291  323  300 4685  435   -1  412  284 4829  410  474\n  437  321  472  324  312  463  490  401  239  311  519  298  512  465\n  427  414  529  424  421 4609  301 4784  334  342  248  327  494 4831\n 4847  290  407]"
        ],
        [
         "6",
         "Destination",
         "object",
         "0",
         "0.0",
         "138",
         "['SINGAPORE' 'MALAYSIA' 'INDIA' 'UNITED STATES' 'KOREA, REPUBLIC OF'\n 'THAILAND' 'GERMANY' 'JAPAN' 'INDONESIA' 'VIET NAM' 'AUSTRALIA' 'FINLAND'\n 'UNITED KINGDOM' 'SRI LANKA' 'SPAIN' 'HONG KONG' 'MACAO' 'CHINA'\n 'UNITED ARAB EMIRATES' 'IRAN, ISLAMIC REPUBLIC OF'\n 'TAIWAN, PROVINCE OF CHINA' 'POLAND' 'CANADA' 'OMAN' 'PHILIPPINES'\n 'GREECE' 'BELGIUM' 'TURKEY' 'BRUNEI DARUSSALAM' 'DENMARK' 'SWITZERLAND'\n 'NETHERLANDS' 'SWEDEN' 'MYANMAR' 'KENYA' 'CZECH REPUBLIC' 'FRANCE'\n 'RUSSIAN FEDERATION' 'PAKISTAN' 'ARGENTINA'\n 'TANZANIA, UNITED REPUBLIC OF' 'SERBIA' 'ITALY' 'CROATIA' 'NEW ZEALAND'\n 'PERU' 'MONGOLIA' 'CAMBODIA' 'QATAR' 'NORWAY' 'LUXEMBOURG' 'MALTA'\n \"LAO PEOPLE'S DEMOCRATIC REPUBLIC\" 'ISRAEL' 'SAUDI ARABIA' 'AUSTRIA'\n 'PORTUGAL' 'NEPAL' 'UKRAINE' 'ESTONIA' 'ICELAND' 'BRAZIL' 'MEXICO'\n 'CAYMAN ISLANDS' 'PANAMA' 'BANGLADESH' 'TURKMENISTAN' 'BAHRAIN'\n 'KAZAKHSTAN' 'TUNISIA' 'IRELAND' 'ETHIOPIA' 'NORTHERN MARIANA ISLANDS'\n 'MALDIVES' 'SOUTH AFRICA' 'VENEZUELA' 'COSTA RICA' 'JORDAN' 'MALI'\n 'CYPRUS' 'MAURITIUS' 'LEBANON' 'KUWAIT' 'AZERBAIJAN' 'HUNGARY' 'BHUTAN'\n 'BELARUS' 'MOROCCO' 'ECUADOR' 'UZBEKISTAN' 'CHILE' 'FIJI'\n 'PAPUA NEW GUINEA' 'ANGOLA' 'FRENCH POLYNESIA' 'NIGERIA'\n 'MACEDONIA, THE FORMER YUGOSLAV REPUBLIC OF' 'NAMIBIA' 'GEORGIA'\n 'COLOMBIA' 'SLOVENIA' 'EGYPT' 'ZIMBABWE' 'BULGARIA' 'BERMUDA' 'URUGUAY'\n 'GUINEA' 'GHANA' 'BOLIVIA' 'TRINIDAD AND TOBAGO' 'VANUATU' 'GUAM'\n 'UGANDA' 'JAMAICA' 'LATVIA' 'ROMANIA' 'REPUBLIC OF MONTENEGRO'\n 'KYRGYZSTAN' 'GUADELOUPE' 'ZAMBIA' 'RWANDA' 'BOTSWANA' 'GUYANA'\n 'LITHUANIA' 'GUINEA-BISSAU' 'SENEGAL' 'CAMEROON' 'TIBET' 'SAMOA'\n 'PUERTO RICO' 'TAJIKISTAN' 'ARMENIA'\n \"KOREA, DEMOCRATIC PEOPLE'S REPUBLIC OF\" 'FAROE ISLANDS'\n 'DOMINICAN REPUBLIC' 'MOLDOVA, REPUBLIC OF' 'BENIN' 'REUNION']"
        ],
        [
         "7",
         "Net Sales",
         "float64",
         "0",
         "0.0",
         "1006",
         "[216.    10.    22.   ...   4.38  16.54  49.39]"
        ],
        [
         "8",
         "Commision (in value)",
         "float64",
         "0",
         "0.0",
         "915",
         "[5.4000e+01 0.0000e+00 7.7000e+00 4.0000e+00 9.1000e+00 6.3210e+01\n 1.0500e+01 1.1880e+01 1.7820e+01 2.3400e+01 7.5000e+00 5.9400e+00\n 4.3750e+01 2.3760e+01 7.3600e+00 1.3299e+02 9.5700e+00 7.6400e+00\n 1.2250e+01 2.9700e+01 6.3000e+00 5.6300e+00 4.1580e+01 5.2500e+00\n 9.0000e-02 6.0000e+00 1.3662e+02 3.1530e+01 5.4190e+01 1.1550e+01\n 1.0150e+01 4.0250e+01 5.9400e+01 3.5640e+01 1.5750e+01 1.2950e+01\n 2.8500e+01 9.7500e+00 4.3900e+00 2.0060e+01 1.8000e+01 4.2500e+00\n 1.9070e+01 4.8800e+00 7.3800e+00 1.5500e+01 1.0500e+00 8.3160e+01\n 1.4700e+01 1.5400e+01 1.5700e+00 8.3800e+00 1.3310e+01 1.5560e+01\n 2.9000e-01 8.0000e+00 3.6730e+01 1.3650e+01 2.0300e+01 5.0000e+00\n 1.0000e+01 6.6300e+00 5.0000e-02 2.4150e+01 2.9050e+01 8.8800e+00\n 1.4000e+01 3.3800e+00 1.5880e+01 4.5000e-01 1.0890e+01 4.7520e+01\n 3.7000e-01 2.7250e+01 1.8130e+01 1.5600e+01 7.0200e+01 1.2400e+01\n 7.2940e+01 8.6300e+00 4.6300e+00 6.7500e+00 1.1250e+01 9.6000e-01\n 5.3460e+01 7.7220e+01 1.1300e+00 4.9400e+00 1.7300e+00 1.0380e+01\n 5.8450e+01 2.3500e+01 6.9400e+00 6.1300e+00 4.1420e+01 1.7500e+01\n 1.3160e+01 1.4000e-01 3.2300e+00 1.5930e+01 3.7400e+00 4.6960e+01\n 1.6250e+01 9.2000e+00 4.3800e+00 3.7500e+00 3.2000e-01 1.4250e+01\n 1.2050e+02 1.3100e+00 8.3250e+01 1.2540e+01 5.8500e+00 4.0000e+01\n 6.3200e+00 2.8350e+01 2.1350e+01 1.7230e+01 7.2800e+01 7.1280e+01\n 1.5000e+01 7.2500e+00 8.2200e+00 1.3250e+01 3.4630e+01 4.9400e+01\n 1.6653e+02 5.7500e+00 3.2680e+01 2.5000e-01 3.0450e+01 1.0130e+01\n 2.2130e+01 3.8150e+01 1.2200e+00 6.4800e+01 2.4000e+01 2.4200e+00\n 1.4937e+02 1.5300e+00 1.4300e+00 3.4100e+00 3.1750e+01 3.1690e+01\n 1.2474e+02 1.1380e+01 8.9100e+01 3.0200e+00 4.9900e+00 1.6500e+01\n 1.3630e+01 9.2500e+00 2.7000e-01 2.8800e+00 6.5340e+01 4.2350e+01\n 6.0100e+00 4.5000e+00 8.7800e+00 2.4800e+01 2.0750e+01 2.9440e+01\n 5.8800e+00 1.2288e+02 2.4380e+01 1.3380e+01 4.8300e+01 7.4000e-01\n 2.0150e+01 2.0000e+01 1.2130e+01 7.2100e+00 4.6250e+01 7.9100e+00\n 3.8000e-01 1.1210e+01 2.5500e+01 3.6860e+01 5.4000e-01 3.1000e+00\n 3.2800e+00 1.0640e+01 1.7130e+01 1.2600e+01 2.6750e+01 5.9000e-01\n 5.0000e-01 1.1830e+01 4.0500e+00 1.8800e+00 9.4500e+00 1.6450e+01\n 1.9500e+01 4.4840e+01 2.5880e+01 9.5900e+00 1.8620e+01 7.7600e+00\n 3.6100e+01 9.5040e+01 2.5000e+00 9.7340e+01 2.3600e+00 1.0725e+02\n 1.7390e+01 1.3500e+01 2.8800e+01 5.7400e+01 1.9340e+01 1.7100e+00\n 2.7400e+00 4.8000e+00 1.3068e+02 2.0380e+01 1.1750e+01 8.8100e+00\n 2.0880e+01 4.2000e+00 2.2000e-01 2.8130e+01 1.5100e+00 3.8000e+01\n 2.8600e+01 1.4880e+01 3.6000e+01 2.0300e+00 1.3950e+01 2.0200e+00\n 3.2200e+01 6.3800e+00 5.5860e+01 3.3750e+01 2.5250e+01 2.0440e+01\n 1.3300e+00 1.5380e+01 7.1300e+00 2.3500e+00 1.6750e+01 3.6800e+00\n 1.1880e+02 1.5280e+01 4.2180e+01 1.2380e+01 7.4700e+00 1.4440e+01\n 1.3880e+01 1.1200e+00 1.2500e+01 4.1000e-01 1.0692e+02 1.4130e+01\n 2.1450e+01 9.7250e+01 2.6200e+00 1.6650e+02 1.8560e+01 1.6900e+01\n 1.6900e+00 2.6000e-01 1.8600e+01 1.7750e+01 8.5200e+01 8.3600e+00\n 2.8100e+00 5.9880e+01 4.7290e+01 1.7150e+01 1.9140e+01 6.9710e+01\n 2.0000e-01 4.0130e+01 4.7000e-01 2.2910e+01 4.1270e+01 3.6400e+01\n 1.4550e+01 5.2000e+00 5.5300e+00 3.6000e-01 2.0130e+01 1.6610e+01\n 8.1000e+00 1.2000e+00 4.3550e+01 8.0000e-01 1.2700e+00 2.2050e+01\n 3.4600e+00 1.1231e+02 1.3420e+01 4.8000e+01 6.3000e-01 1.5000e+00\n 2.5130e+01 2.3450e+01 2.0800e+02 9.5000e-01 2.6400e+00 1.6570e+01\n 1.8671e+02 1.0050e+01 9.9900e+01 5.0600e+00 3.3800e+01 4.0950e+01\n 1.0630e+01 6.5330e+01 8.8000e-01 1.2630e+01 1.1700e+00 1.1020e+01\n 6.3750e+01 2.1021e+02 2.2000e+00 1.0800e+02 3.1200e+01 1.4530e+01\n 1.3200e+01 4.5600e+01 8.1300e+00 2.2000e+01 9.2600e+00 1.7380e+01\n 5.9100e+00 4.9500e+01 2.4450e+01 7.8000e+00 1.7226e+02 2.2040e+01\n 5.3490e+01 1.9600e+01 2.2200e+00 2.1130e+01 1.6300e+00 3.1500e+00\n 4.4700e+00 3.1000e-01 6.0040e+01 2.5550e+01 1.1700e+01 3.2300e+01\n 1.4975e+02 2.5100e+00 2.5680e+01 1.7400e+00 2.3000e-01 2.1600e+00\n 1.0113e+02 5.5090e+01 1.9650e+01 3.9250e+01 1.2560e+01 2.1500e+01\n 3.3600e+01 5.9800e+00 1.7710e+01 7.5250e+01 6.5000e-01 1.5190e+01\n 5.2150e+01 6.2500e+00 2.9380e+01 2.3800e+00 4.1380e+01 1.9250e+01\n 2.1600e+01 4.6500e+00 1.0098e+02 1.0850e+01 6.5160e+01 7.2250e+01\n 8.0500e+00 4.7400e+00 1.1261e+02 2.4100e+00 1.3000e-01 9.1900e+00\n 1.5450e+02 1.3700e+00 1.8900e+01 1.3000e+00 1.5900e+00 6.9900e+00\n 2.4300e+01 6.4700e+00 1.2900e+00 9.6000e+01 4.2900e+01 1.2750e+01\n 3.2000e+01 1.9600e+00 9.4000e-01 1.4313e+02 1.7550e+01 3.0500e+01\n 2.2250e+01 1.6000e-01 4.3470e+01 1.4750e+01 7.0200e+00 6.5100e+00\n 4.7200e+00 2.9130e+01 2.5020e+01 1.1900e+00 4.9600e+01 7.8000e+01\n 2.0500e+01 3.1050e+01 1.1600e+00 1.8400e+00 4.0200e+00 1.7000e+00\n 1.9630e+01 1.5015e+02 1.6800e+01 1.6000e+01 3.7200e+01 5.0250e+01\n 1.7250e+01 9.7000e-01 3.1880e+01 5.6000e-01 4.4500e+01 1.6400e+00\n 3.8500e+01 8.5000e+00 1.2400e+00 2.8930e+01 5.0700e+01 1.2775e+02\n 9.0090e+01 1.3490e+01 2.6000e+01 3.2830e+01 1.4380e+01 2.7300e+01\n 2.8250e+01 2.0816e+02 5.7200e+00 1.2070e+01 2.4860e+01 2.7600e+00\n 1.8200e+00 6.6600e+00 1.0900e+00 6.9000e-01 9.0000e-01 3.6000e+00\n 6.9300e+01 6.8080e+01 3.4130e+01 2.6600e+01 1.4500e+01 1.1050e+02\n 3.5500e+00 1.2940e+01 2.8690e+01 6.0000e+01 6.2650e+01 8.1000e-01\n 2.3750e+01 6.8800e+00 2.4500e+00 2.4000e-01 2.0600e+00 3.4000e-01\n 2.2230e+01 3.9500e+00 1.2100e+00 3.7700e+00 2.8760e+01 5.2850e+01\n 1.4650e+02 5.0490e+01 2.5600e+00 1.2090e+01 4.5800e+00 5.1450e+01\n 4.8630e+01 1.4850e+02 2.1000e-01 7.9000e-01 1.8000e+00 7.1600e+00\n 7.1850e+01 1.1500e+01 9.0000e+00 2.0690e+01 5.1130e+01 3.1250e+01\n 8.9000e+00 5.0400e+00 1.1130e+01 1.8250e+01 1.1580e+01 1.1800e+00\n 8.2500e+00 1.4950e+02 1.7540e+01 2.3970e+01 3.7000e+01 5.0130e+01\n 8.8500e+00 2.3730e+01 1.0320e+01 3.3500e+00 6.8900e+01 1.0822e+02\n 2.6500e+01 4.1800e+00 1.7500e+00 7.3450e+01 2.4750e+01 2.6276e+02\n 4.8420e+01 7.0250e+01 1.5960e+01 1.1630e+01 9.3800e+00 1.1200e+01\n 3.9400e+00 7.3250e+01 6.3380e+01 1.9130e+01 1.1540e+01 2.5700e+00\n 4.1130e+01 2.6400e+01 7.9600e+00 1.1286e+02 9.8700e+00 2.0000e-02\n 6.4200e+00 3.1000e+01 3.7130e+01 1.9950e+01 7.7000e-01 5.2330e+01\n 4.5400e+00 1.4790e+01 2.2750e+01 7.0000e-01 3.0550e+01 2.0280e+01\n 6.3350e+01 5.7130e+01 1.9700e+00 3.5630e+01 1.9000e+01 1.6410e+01\n 1.6500e+00 3.4750e+01 2.7200e+00 2.8180e+01 8.5700e+00 1.7850e+01\n 2.9750e+01 2.9600e+00 6.9160e+01 5.9000e+01 1.9500e+00 3.8500e+00\n 1.1060e+01 1.0250e+01 1.1780e+01 8.2100e+00 1.2500e+00 8.4000e-01\n 1.4100e+01 6.8200e+00 6.9000e+00 2.7360e+01 8.7500e+00 3.2100e+00\n 3.0100e+00 7.9500e+00 1.2170e+01 2.2360e+01 3.0400e+00 4.7880e+01\n 2.2100e+00 3.4380e+01 7.9630e+01 2.7000e+01 6.6000e-01 9.1300e+00\n 1.6632e+02 5.4500e+01 3.6560e+01 7.3500e+00 6.8000e-01 3.6100e+00\n 1.2000e+01 1.6600e+00 4.0300e+00 3.0800e+00 1.2875e+02 2.0995e+02\n 9.9700e+00 3.6200e+00 5.5500e+00 1.1100e+01 3.2500e+00 5.9150e+01\n 7.4880e+01 1.8200e+01 5.5480e+01 1.7050e+02 1.8240e+01 2.0850e+01\n 4.6700e+00 3.3950e+01 4.3100e+00 3.0000e+01 2.0480e+01 3.5380e+01\n 6.5000e+00 3.7600e+00 5.0500e+01 7.3600e+01 2.1850e+01 1.1720e+01\n 3.2900e+00 5.1300e+00 6.3900e+00 6.6700e+00 3.8250e+01 8.7000e+00\n 1.4460e+01 3.5590e+01 2.6980e+01 8.0440e+01 7.2130e+01 2.0820e+01\n 4.5900e+00 3.2660e+01 2.2400e+01 1.9350e+01 7.4100e+01 1.4700e+00\n 2.9200e+00 2.1000e+01 1.8850e+01 3.4500e+00 3.4500e+01 8.2600e+01\n 5.2650e+01 1.9900e+00 2.3060e+01 1.3475e+02 2.8000e+01 1.7820e+02\n 8.9600e+00 1.5000e-01 7.1000e-01 4.5500e+01 2.5200e+01 2.5840e+01\n 5.9300e+00 2.9500e+00 2.0030e+01 1.7160e+02 8.1130e+01 2.0800e+01\n 2.0640e+01 1.7200e+00 1.2675e+02 1.4256e+02 3.0160e+01 5.1980e+01\n 4.6800e+01 1.9050e+01 4.0000e-02 2.1300e+00 4.9000e-01 1.8380e+01\n 1.0690e+01 3.5300e+00 6.7750e+01 1.2600e+00 4.4060e+01 3.1540e+01\n 1.6050e+01 6.8500e+00 8.9380e+01 5.5000e+00 3.1380e+01 2.0250e+01\n 1.0220e+01 9.5500e+01 1.6800e+00 7.4260e+01 6.1000e-01 2.0700e+01\n 3.8020e+01 8.0300e+00 1.7630e+01 1.3400e+00 8.7100e+00 1.6090e+01\n 2.5620e+01 3.9000e+01 5.9500e+01 1.3210e+01 2.2300e+00 1.6640e+02\n 2.4170e+01 8.9960e+01 3.0500e+00 1.3690e+01 1.3900e+00 4.2000e+01\n 8.0500e+01 6.9250e+01 1.3200e+00 2.2730e+01 3.8920e+01 6.2000e+01\n 1.6950e+01 5.8000e-01 2.3400e+00 3.0900e+00 6.4050e+01 5.4600e+01\n 1.6700e+01 1.8414e+02 8.0600e+00 4.0600e+00 3.7700e+01 3.6300e+01\n 2.3630e+01 1.4800e+00 3.9330e+01 5.7750e+01 2.1750e+01 2.4850e+01\n 4.9650e+01 3.4250e+01 4.1250e+01 3.7300e+00 4.3000e-01 1.9990e+01\n 5.2600e+00 6.0380e+01 1.5500e+00 3.9000e+00 3.0710e+01 7.9250e+01\n 1.5570e+01 4.3060e+01 4.4000e+00 8.6800e+00 1.6038e+02 4.9730e+01\n 1.1900e+01 3.0750e+01 2.3810e+01 1.5440e+01 1.0800e+00 3.3900e+00\n 2.3290e+01 8.7700e+00 1.0700e+00 8.9900e+00 7.5600e+01 6.4550e+01\n 1.5444e+02 3.3300e+00 1.0200e+00 1.2300e+01 6.2000e+00 1.3406e+02\n 1.1000e-01 3.8700e+00 6.1700e+00 1.8630e+01 1.0600e+00 8.3000e-01\n 7.8280e+01 8.7600e+00 7.1250e+01 1.0100e+00 2.5510e+01 2.6550e+01\n 2.8950e+01 5.6000e+00 3.1400e+00 1.1340e+01 2.1700e+00 8.5000e-01\n 3.5340e+01 1.4630e+01 5.0580e+01 7.5000e-01 4.0750e+01 2.0960e+01\n 3.8350e+01 9.3600e+01 2.4600e+00 6.7000e-01 2.7500e+01 2.3250e+01\n 7.9750e+01 3.5000e+01 6.5000e+01 5.3800e+00 2.4090e+01 4.6000e+00\n 1.4180e+01 7.7130e+01 1.6100e+00 9.7200e+01 1.8320e+01 2.8700e+00\n 5.1200e+01 4.9100e+00 1.3750e+01 9.3000e-01 2.4500e+01 1.3860e+01\n 5.3400e+00 1.8000e-01 1.5900e+01 1.0255e+02 5.5250e+01 2.7300e+00\n 4.5380e+01 2.9570e+01 2.0100e+00 1.1110e+01 1.2140e+01 5.1400e+00\n 3.2500e+01 3.0250e+01 6.4380e+01 2.6590e+01 1.0602e+02 3.8000e+00\n 2.4700e+00 6.0500e+01 5.1750e+01 2.3600e+01 1.2390e+01 1.0300e+00\n 2.6630e+01 1.1083e+02 2.5200e+00 2.9000e+00 2.8000e-01 6.7300e+00\n 2.2960e+01 5.6000e+01 2.1770e+01 1.1520e+02 6.5700e+00 7.8900e+00\n 1.1000e+01 8.4900e+00 1.8655e+02 2.5480e+01 1.9000e+00 1.8040e+01\n 3.8510e+01 5.1200e+00 2.0650e+01 8.6000e-01 1.1425e+02 8.7000e-01\n 4.3400e+01 1.1800e+02 1.6350e+01 5.7300e+00 6.5600e+00 1.3000e+01\n 2.6600e+00 3.3130e+01 1.0830e+01 5.8350e+01 2.8900e+00 6.9600e+00\n 1.6800e+02 2.8280e+01 1.6600e+01 1.2960e+01 8.4130e+01 2.0000e+00\n 1.5400e+00 1.0330e+01 4.9240e+01 2.7560e+01 1.9010e+01 2.1700e+01\n 8.5130e+01 4.1300e+00 5.4900e+01 1.6160e+01 1.0240e+02 2.1900e+00\n 2.8350e+02 9.8000e-01 2.1500e+00 2.2500e+00 7.1700e+00 8.0000e+01\n 1.6270e+01 7.2000e+01 1.3920e+01 6.6250e+01 3.6600e+00 1.2300e+00\n 4.6400e+00 1.7290e+01 3.2180e+01]"
        ],
        [
         "9",
         "Age",
         "int64",
         "0",
         "0.0",
         "89",
         "[ 57  33  26  59  28  36  22  39  27  48  43  51  65  47  35  54  23  46\n  58  42  31  29  37  68   8  32  61  49  56  25  50  34  38  44 118  45\n  53  20  30  41  69  52  40  70  76  74  66  63  55  21  60  75  24  62\n  73  64  71   5  14  72  84  81  16  19  67  83  13  79  18   9  80  17\n  82  78  15  77  87  88  11  12  86   7  10   2   3   1   4  85   0]"
        ],
        [
         "10",
         "Claim",
         "object",
         "0",
         "0.0",
         "2",
         "['No' 'Yes']"
        ]
       ],
       "shape": {
        "columns": 6,
        "rows": 11
       }
      },
      "text/html": [
       "<div>\n",
       "<style scoped>\n",
       "    .dataframe tbody tr th:only-of-type {\n",
       "        vertical-align: middle;\n",
       "    }\n",
       "\n",
       "    .dataframe tbody tr th {\n",
       "        vertical-align: top;\n",
       "    }\n",
       "\n",
       "    .dataframe thead th {\n",
       "        text-align: right;\n",
       "    }\n",
       "</style>\n",
       "<table border=\"1\" class=\"dataframe\">\n",
       "  <thead>\n",
       "    <tr style=\"text-align: right;\">\n",
       "      <th></th>\n",
       "      <th>Column Name</th>\n",
       "      <th>Data Type</th>\n",
       "      <th>Null</th>\n",
       "      <th>Null Percentage</th>\n",
       "      <th>Number of Unique</th>\n",
       "      <th>Unique Sample</th>\n",
       "    </tr>\n",
       "  </thead>\n",
       "  <tbody>\n",
       "    <tr>\n",
       "      <th>0</th>\n",
       "      <td>Agency</td>\n",
       "      <td>object</td>\n",
       "      <td>0</td>\n",
       "      <td>0.00</td>\n",
       "      <td>16</td>\n",
       "      <td>[C2B, EPX, JZI, CWT, LWC, ART, CSR, SSI, RAB, KML, TST, TTW, JWT, ADM, CCR, CBH]</td>\n",
       "    </tr>\n",
       "    <tr>\n",
       "      <th>1</th>\n",
       "      <td>Agency Type</td>\n",
       "      <td>object</td>\n",
       "      <td>0</td>\n",
       "      <td>0.00</td>\n",
       "      <td>2</td>\n",
       "      <td>[Airlines, Travel Agency]</td>\n",
       "    </tr>\n",
       "    <tr>\n",
       "      <th>2</th>\n",
       "      <td>Distribution Channel</td>\n",
       "      <td>object</td>\n",
       "      <td>0</td>\n",
       "      <td>0.00</td>\n",
       "      <td>2</td>\n",
       "      <td>[Online, Offline]</td>\n",
       "    </tr>\n",
       "    <tr>\n",
       "      <th>3</th>\n",
       "      <td>Product Name</td>\n",
       "      <td>object</td>\n",
       "      <td>0</td>\n",
       "      <td>0.00</td>\n",
       "      <td>26</td>\n",
       "      <td>[Annual Silver Plan, Cancellation Plan, Basic Plan, 2 way Comprehensive Plan, Bronze Plan, 1 way Comprehensive Plan, Rental Vehicle Excess Insurance, Single Trip Travel Protect Gold, Silver Plan, Value Plan, 24 Protect, Annual Travel Protect Gold, Comprehensive Plan, Ticket Protector, Travel Cruise Protect, Single Trip Travel Protect Silver, Individual Comprehensive Plan, Gold Plan, Annual Gold Plan, Child Comprehensive Plan, Premier Plan, Annual Travel Protect Silver, Single Trip Travel Protect Platinum, Annual Travel Protect Platinum, Spouse or Parents Comprehensive Plan, Travel Cruise Protect Family]</td>\n",
       "    </tr>\n",
       "    <tr>\n",
       "      <th>4</th>\n",
       "      <td>Gender</td>\n",
       "      <td>object</td>\n",
       "      <td>31647</td>\n",
       "      <td>71.39</td>\n",
       "      <td>2</td>\n",
       "      <td>[F, nan, M]</td>\n",
       "    </tr>\n",
       "    <tr>\n",
       "      <th>5</th>\n",
       "      <td>Duration</td>\n",
       "      <td>int64</td>\n",
       "      <td>0</td>\n",
       "      <td>0.00</td>\n",
       "      <td>437</td>\n",
       "      <td>[365, 4, 19, 20, 8, 2, 25, 90, 24, 43, 103, 376, 6, 16, 27, 34, 3, 14, 12, 31, 5, 7, 56, 29, 30, 58, 9, 38, 42, 11, 13, 40, 79, 370, 366, 26, 83, 55, 18, 100, 1, 35, 36, 75, 23, 73, 32, 232, 37, 10, 4736, 15, 17, 99, 173, 74, 82, 66, 156, 39, 95, 98, 111, 430, 53, 77, 87, 70, 151, 45, 54, 114, 118, 62, 28, 112, 326, 22, 59, 44, 21, 97, 63, 60, 51, 180, 160, 368, 65, 93, 71, 57, 0, 76, 69, 110, 146, 116, 129, 84, ...]</td>\n",
       "    </tr>\n",
       "    <tr>\n",
       "      <th>6</th>\n",
       "      <td>Destination</td>\n",
       "      <td>object</td>\n",
       "      <td>0</td>\n",
       "      <td>0.00</td>\n",
       "      <td>138</td>\n",
       "      <td>[SINGAPORE, MALAYSIA, INDIA, UNITED STATES, KOREA, REPUBLIC OF, THAILAND, GERMANY, JAPAN, INDONESIA, VIET NAM, AUSTRALIA, FINLAND, UNITED KINGDOM, SRI LANKA, SPAIN, HONG KONG, MACAO, CHINA, UNITED ARAB EMIRATES, IRAN, ISLAMIC REPUBLIC OF, TAIWAN, PROVINCE OF CHINA, POLAND, CANADA, OMAN, PHILIPPINES, GREECE, BELGIUM, TURKEY, BRUNEI DARUSSALAM, DENMARK, SWITZERLAND, NETHERLANDS, SWEDEN, MYANMAR, KENYA, CZECH REPUBLIC, FRANCE, RUSSIAN FEDERATION, PAKISTAN, ARGENTINA, TANZANIA, UNITED REPUBLIC OF, SERBIA, ITALY, CROATIA, NEW ZEALAND, PERU, MONGOLIA, CAMBODIA, QATAR, NORWAY, LUXEMBOURG, MALTA, LAO PEOPLE'S DEMOCRATIC REPUBLIC, ISRAEL, SAUDI ARABIA, AUSTRIA, PORTUGAL, NEPAL, UKRAINE, ESTONIA, ICELAND, BRAZIL, MEXICO, CAYMAN ISLANDS, PANAMA, BANGLADESH, TURKMENISTAN, BAHRAIN, KAZAKHSTAN, TUNISIA, IRELAND, ETHIOPIA, NORTHERN MARIANA ISLANDS, MALDIVES, SOUTH AFRICA, VENEZUELA, COSTA RICA, JORDAN, MALI, CYPRUS, MAURITIUS, LEBANON, KUWAIT, AZERBAIJAN, HUNGARY, BHUTAN, BELARUS, MOROCCO, ECUADOR, UZBEKISTAN, CHILE, FIJI, PAPUA NEW GUINEA, ANGOLA, FRENCH POLYNESIA, NIGERIA, MACEDONIA, THE FORMER YUGOSLAV REPUBLIC OF, NAMIBIA, GEORGIA, COLOMBIA, ...]</td>\n",
       "    </tr>\n",
       "    <tr>\n",
       "      <th>7</th>\n",
       "      <td>Net Sales</td>\n",
       "      <td>float64</td>\n",
       "      <td>0</td>\n",
       "      <td>0.00</td>\n",
       "      <td>1006</td>\n",
       "      <td>[216.0, 10.0, 22.0, 112.0, 16.0, 50.0, 78.0, 80.0, 40.0, 26.0, 252.85, 47.0, 25.0, 23.0, 20.0, 30.0, 42.0, 56.0, 19.8, 14.0, 29.7, 36.0, 31.0, 58.0, 9.9, 15.0, 21.0, 29.0, 32.0, 125.0, 48.0, 0.0, 21.04, 33.0, 204.6, 34.0, 30.55, 35.0, 49.5, 18.0, 98.0, 77.0, 69.3, 64.0, 0.32, 227.7, 48.5, -216.75, 24.0, 161.0, 99.0, 59.4, 45.0, 37.0, 44.0, 19.0, 75.0, 39.0, 17.55, -59.4, 51.0, -29.7, 80.25, 63.0, 12.0, 72.0, 53.0, 38.0, 17.0, 54.0, 69.0, 115.0, 76.3, 19.5, 29.5, 62.0, 11.0, 3.73, 79.0, 138.6, 22.5, 59.0, 5.59, 33.5, 53.25, 62.25, 93.0, -12.0, 1.03, 27.0, 56.5, 39.6, 28.0, 41.0, 97.0, 128.0, 43.0, 66.0, 26.5, 0.19, ...]</td>\n",
       "    </tr>\n",
       "    <tr>\n",
       "      <th>8</th>\n",
       "      <td>Commision (in value)</td>\n",
       "      <td>float64</td>\n",
       "      <td>0</td>\n",
       "      <td>0.00</td>\n",
       "      <td>915</td>\n",
       "      <td>[54.0, 0.0, 7.7, 4.0, 9.1, 63.21, 10.5, 11.88, 17.82, 23.4, 7.5, 5.94, 43.75, 23.76, 7.36, 132.99, 9.57, 7.64, 12.25, 29.7, 6.3, 5.63, 41.58, 5.25, 0.09, 6.0, 136.62, 31.53, 54.19, 11.55, 10.15, 40.25, 59.4, 35.64, 15.75, 12.95, 28.5, 9.75, 4.39, 20.06, 18.0, 4.25, 19.07, 4.88, 7.38, 15.5, 1.05, 83.16, 14.7, 15.4, 1.57, 8.38, 13.31, 15.56, 0.29, 8.0, 36.73, 13.65, 20.3, 5.0, 10.0, 6.63, 0.05, 24.15, 29.05, 8.88, 14.0, 3.38, 15.88, 0.45, 10.89, 47.52, 0.37, 27.25, 18.13, 15.6, 70.2, 12.4, 72.94, 8.63, 4.63, 6.75, 11.25, 0.96, 53.46, 77.22, 1.13, 4.94, 1.73, 10.38, 58.45, 23.5, 6.94, 6.13, 41.42, 17.5, 13.16, 0.14, 3.23, 15.93, ...]</td>\n",
       "    </tr>\n",
       "    <tr>\n",
       "      <th>9</th>\n",
       "      <td>Age</td>\n",
       "      <td>int64</td>\n",
       "      <td>0</td>\n",
       "      <td>0.00</td>\n",
       "      <td>89</td>\n",
       "      <td>[57, 33, 26, 59, 28, 36, 22, 39, 27, 48, 43, 51, 65, 47, 35, 54, 23, 46, 58, 42, 31, 29, 37, 68, 8, 32, 61, 49, 56, 25, 50, 34, 38, 44, 118, 45, 53, 20, 30, 41, 69, 52, 40, 70, 76, 74, 66, 63, 55, 21, 60, 75, 24, 62, 73, 64, 71, 5, 14, 72, 84, 81, 16, 19, 67, 83, 13, 79, 18, 9, 80, 17, 82, 78, 15, 77, 87, 88, 11, 12, 86, 7, 10, 2, 3, 1, 4, 85, 0]</td>\n",
       "    </tr>\n",
       "    <tr>\n",
       "      <th>10</th>\n",
       "      <td>Claim</td>\n",
       "      <td>object</td>\n",
       "      <td>0</td>\n",
       "      <td>0.00</td>\n",
       "      <td>2</td>\n",
       "      <td>[No, Yes]</td>\n",
       "    </tr>\n",
       "  </tbody>\n",
       "</table>\n",
       "</div>"
      ],
      "text/plain": [
       "             Column Name Data Type   Null  Null Percentage  Number of Unique  \\\n",
       "0   Agency                object    0      0.00             16                 \n",
       "1   Agency Type           object    0      0.00             2                  \n",
       "2   Distribution Channel  object    0      0.00             2                  \n",
       "3   Product Name          object    0      0.00             26                 \n",
       "4   Gender                object    31647  71.39            2                  \n",
       "5   Duration              int64     0      0.00             437                \n",
       "6   Destination           object    0      0.00             138                \n",
       "7   Net Sales             float64   0      0.00             1006               \n",
       "8   Commision (in value)  float64   0      0.00             915                \n",
       "9   Age                   int64     0      0.00             89                 \n",
       "10  Claim                 object    0      0.00             2                  \n",
       "\n",
       "                                                                                                                                                                                                                                                                                                                                                                                                                                                                                                                                                                                                                                                                                                                                                                                                                                                                                                                                                                                                                                                                                                                                                                                        Unique Sample  \n",
       "0   [C2B, EPX, JZI, CWT, LWC, ART, CSR, SSI, RAB, KML, TST, TTW, JWT, ADM, CCR, CBH]                                                                                                                                                                                                                                                                                                                                                                                                                                                                                                                                                                                                                                                                                                                                                                                                                                                                                                                                                                                                                                                                                                                   \n",
       "1   [Airlines, Travel Agency]                                                                                                                                                                                                                                                                                                                                                                                                                                                                                                                                                                                                                                                                                                                                                                                                                                                                                                                                                                                                                                                                                                                                                                          \n",
       "2   [Online, Offline]                                                                                                                                                                                                                                                                                                                                                                                                                                                                                                                                                                                                                                                                                                                                                                                                                                                                                                                                                                                                                                                                                                                                                                                  \n",
       "3   [Annual Silver Plan, Cancellation Plan, Basic Plan, 2 way Comprehensive Plan, Bronze Plan, 1 way Comprehensive Plan, Rental Vehicle Excess Insurance, Single Trip Travel Protect Gold, Silver Plan, Value Plan, 24 Protect, Annual Travel Protect Gold, Comprehensive Plan, Ticket Protector, Travel Cruise Protect, Single Trip Travel Protect Silver, Individual Comprehensive Plan, Gold Plan, Annual Gold Plan, Child Comprehensive Plan, Premier Plan, Annual Travel Protect Silver, Single Trip Travel Protect Platinum, Annual Travel Protect Platinum, Spouse or Parents Comprehensive Plan, Travel Cruise Protect Family]                                                                                                                                                                                                                                                                                                                                                                                                                                                                                                                                                                 \n",
       "4   [F, nan, M]                                                                                                                                                                                                                                                                                                                                                                                                                                                                                                                                                                                                                                                                                                                                                                                                                                                                                                                                                                                                                                                                                                                                                                                        \n",
       "5   [365, 4, 19, 20, 8, 2, 25, 90, 24, 43, 103, 376, 6, 16, 27, 34, 3, 14, 12, 31, 5, 7, 56, 29, 30, 58, 9, 38, 42, 11, 13, 40, 79, 370, 366, 26, 83, 55, 18, 100, 1, 35, 36, 75, 23, 73, 32, 232, 37, 10, 4736, 15, 17, 99, 173, 74, 82, 66, 156, 39, 95, 98, 111, 430, 53, 77, 87, 70, 151, 45, 54, 114, 118, 62, 28, 112, 326, 22, 59, 44, 21, 97, 63, 60, 51, 180, 160, 368, 65, 93, 71, 57, 0, 76, 69, 110, 146, 116, 129, 84, ...]                                                                                                                                                                                                                                                                                                                                                                                                                                                                                                                                                                                                                                                                                                                                                               \n",
       "6   [SINGAPORE, MALAYSIA, INDIA, UNITED STATES, KOREA, REPUBLIC OF, THAILAND, GERMANY, JAPAN, INDONESIA, VIET NAM, AUSTRALIA, FINLAND, UNITED KINGDOM, SRI LANKA, SPAIN, HONG KONG, MACAO, CHINA, UNITED ARAB EMIRATES, IRAN, ISLAMIC REPUBLIC OF, TAIWAN, PROVINCE OF CHINA, POLAND, CANADA, OMAN, PHILIPPINES, GREECE, BELGIUM, TURKEY, BRUNEI DARUSSALAM, DENMARK, SWITZERLAND, NETHERLANDS, SWEDEN, MYANMAR, KENYA, CZECH REPUBLIC, FRANCE, RUSSIAN FEDERATION, PAKISTAN, ARGENTINA, TANZANIA, UNITED REPUBLIC OF, SERBIA, ITALY, CROATIA, NEW ZEALAND, PERU, MONGOLIA, CAMBODIA, QATAR, NORWAY, LUXEMBOURG, MALTA, LAO PEOPLE'S DEMOCRATIC REPUBLIC, ISRAEL, SAUDI ARABIA, AUSTRIA, PORTUGAL, NEPAL, UKRAINE, ESTONIA, ICELAND, BRAZIL, MEXICO, CAYMAN ISLANDS, PANAMA, BANGLADESH, TURKMENISTAN, BAHRAIN, KAZAKHSTAN, TUNISIA, IRELAND, ETHIOPIA, NORTHERN MARIANA ISLANDS, MALDIVES, SOUTH AFRICA, VENEZUELA, COSTA RICA, JORDAN, MALI, CYPRUS, MAURITIUS, LEBANON, KUWAIT, AZERBAIJAN, HUNGARY, BHUTAN, BELARUS, MOROCCO, ECUADOR, UZBEKISTAN, CHILE, FIJI, PAPUA NEW GUINEA, ANGOLA, FRENCH POLYNESIA, NIGERIA, MACEDONIA, THE FORMER YUGOSLAV REPUBLIC OF, NAMIBIA, GEORGIA, COLOMBIA, ...]  \n",
       "7   [216.0, 10.0, 22.0, 112.0, 16.0, 50.0, 78.0, 80.0, 40.0, 26.0, 252.85, 47.0, 25.0, 23.0, 20.0, 30.0, 42.0, 56.0, 19.8, 14.0, 29.7, 36.0, 31.0, 58.0, 9.9, 15.0, 21.0, 29.0, 32.0, 125.0, 48.0, 0.0, 21.04, 33.0, 204.6, 34.0, 30.55, 35.0, 49.5, 18.0, 98.0, 77.0, 69.3, 64.0, 0.32, 227.7, 48.5, -216.75, 24.0, 161.0, 99.0, 59.4, 45.0, 37.0, 44.0, 19.0, 75.0, 39.0, 17.55, -59.4, 51.0, -29.7, 80.25, 63.0, 12.0, 72.0, 53.0, 38.0, 17.0, 54.0, 69.0, 115.0, 76.3, 19.5, 29.5, 62.0, 11.0, 3.73, 79.0, 138.6, 22.5, 59.0, 5.59, 33.5, 53.25, 62.25, 93.0, -12.0, 1.03, 27.0, 56.5, 39.6, 28.0, 41.0, 97.0, 128.0, 43.0, 66.0, 26.5, 0.19, ...]                                                                                                                                                                                                                                                                                                                                                                                                                                                                                                                                                 \n",
       "8   [54.0, 0.0, 7.7, 4.0, 9.1, 63.21, 10.5, 11.88, 17.82, 23.4, 7.5, 5.94, 43.75, 23.76, 7.36, 132.99, 9.57, 7.64, 12.25, 29.7, 6.3, 5.63, 41.58, 5.25, 0.09, 6.0, 136.62, 31.53, 54.19, 11.55, 10.15, 40.25, 59.4, 35.64, 15.75, 12.95, 28.5, 9.75, 4.39, 20.06, 18.0, 4.25, 19.07, 4.88, 7.38, 15.5, 1.05, 83.16, 14.7, 15.4, 1.57, 8.38, 13.31, 15.56, 0.29, 8.0, 36.73, 13.65, 20.3, 5.0, 10.0, 6.63, 0.05, 24.15, 29.05, 8.88, 14.0, 3.38, 15.88, 0.45, 10.89, 47.52, 0.37, 27.25, 18.13, 15.6, 70.2, 12.4, 72.94, 8.63, 4.63, 6.75, 11.25, 0.96, 53.46, 77.22, 1.13, 4.94, 1.73, 10.38, 58.45, 23.5, 6.94, 6.13, 41.42, 17.5, 13.16, 0.14, 3.23, 15.93, ...]                                                                                                                                                                                                                                                                                                                                                                                                                                                                                                                                     \n",
       "9   [57, 33, 26, 59, 28, 36, 22, 39, 27, 48, 43, 51, 65, 47, 35, 54, 23, 46, 58, 42, 31, 29, 37, 68, 8, 32, 61, 49, 56, 25, 50, 34, 38, 44, 118, 45, 53, 20, 30, 41, 69, 52, 40, 70, 76, 74, 66, 63, 55, 21, 60, 75, 24, 62, 73, 64, 71, 5, 14, 72, 84, 81, 16, 19, 67, 83, 13, 79, 18, 9, 80, 17, 82, 78, 15, 77, 87, 88, 11, 12, 86, 7, 10, 2, 3, 1, 4, 85, 0]                                                                                                                                                                                                                                                                                                                                                                                                                                                                                                                                                                                                                                                                                                                                                                                                                                       \n",
       "10  [No, Yes]                                                                                                                                                                                                                                                                                                                                                                                                                                                                                                                                                                                                                                                                                                                                                                                                                                                                                                                                                                                                                                                                                                                                                                                          "
      ]
     },
     "execution_count": 8,
     "metadata": {},
     "output_type": "execute_result"
    }
   ],
   "source": [
    "pd.set_option('display.max_colwidth', 1)\n",
    "\n",
    "listItem = []\n",
    "for col in df.columns:\n",
    "    listItem.append([col, df[col].dtype, df[col].isna().sum(), round((((df[col].isna().sum())/len(df))*100),2), df[col].nunique(),\n",
    "                     df[col].unique()])\n",
    "    \n",
    "tabel1Desc = pd.DataFrame(columns=['Column Name', 'Data Type', 'Null', 'Null Percentage', 'Number of Unique', 'Unique Sample'],\n",
    "                          data=listItem)\n",
    "tabel1Desc"
   ]
  },
  {
   "cell_type": "markdown",
   "id": "28f152da",
   "metadata": {},
   "source": [
    "Berikut adalah beberapa informasi yang didapat berdasarkan hasil di atas:\n",
    "- Terdapat 11 kolom dan 44328 baris.\n",
    "- Terdiri dari 7 kolom kategorikal dan 4 kolom numerikal.\n",
    "- Kolom Claim merupakan kolom target yang berisi data Yes dan No.\n",
    "- Hanya kolom Gender yang memiliki *missing value* sebanyak 31647 atau sebesar 71.39% dari seluruh data.\n",
    "- Terdapat data duplikat sebanyak 4667.\n",
    "\n",
    "Kolom Kategorikal:\n",
    "- Agency\n",
    "- Agency Type\n",
    "- Distribution Channel\n",
    "- Product Name\n",
    "- Destination\n",
    "\n",
    "Kolom Numerikal:\n",
    "- Duration\n",
    "- Net Sales\n",
    "- Commision (in Value)\n",
    "- Age"
   ]
  },
  {
   "cell_type": "markdown",
   "id": "25332395",
   "metadata": {},
   "source": [
    "### Pre-Processing"
   ]
  },
  {
   "cell_type": "markdown",
   "id": "3a65e349",
   "metadata": {},
   "source": [
    "Kita akan tangani *missing value* pada kolom Gender dengan drop kolom tersebut."
   ]
  },
  {
   "cell_type": "code",
   "execution_count": 9,
   "id": "ef39a04c",
   "metadata": {},
   "outputs": [
    {
     "data": {
      "application/vnd.microsoft.datawrangler.viewer.v0+json": {
       "columns": [
        {
         "name": "index",
         "rawType": "int64",
         "type": "integer"
        },
        {
         "name": "Agency",
         "rawType": "object",
         "type": "string"
        },
        {
         "name": "Agency Type",
         "rawType": "object",
         "type": "string"
        },
        {
         "name": "Distribution Channel",
         "rawType": "object",
         "type": "string"
        },
        {
         "name": "Product Name",
         "rawType": "object",
         "type": "string"
        },
        {
         "name": "Duration",
         "rawType": "int64",
         "type": "integer"
        },
        {
         "name": "Destination",
         "rawType": "object",
         "type": "string"
        },
        {
         "name": "Net Sales",
         "rawType": "float64",
         "type": "float"
        },
        {
         "name": "Commision (in value)",
         "rawType": "float64",
         "type": "float"
        },
        {
         "name": "Age",
         "rawType": "int64",
         "type": "integer"
        },
        {
         "name": "Claim",
         "rawType": "object",
         "type": "string"
        }
       ],
       "ref": "7655f5c8-6291-4c16-bcd7-c7da26319d09",
       "rows": [
        [
         "0",
         "C2B",
         "Airlines",
         "Online",
         "Annual Silver Plan",
         "365",
         "SINGAPORE",
         "216.0",
         "54.0",
         "57",
         "No"
        ],
        [
         "1",
         "EPX",
         "Travel Agency",
         "Online",
         "Cancellation Plan",
         "4",
         "MALAYSIA",
         "10.0",
         "0.0",
         "33",
         "No"
        ],
        [
         "2",
         "JZI",
         "Airlines",
         "Online",
         "Basic Plan",
         "19",
         "INDIA",
         "22.0",
         "7.7",
         "26",
         "No"
        ],
        [
         "3",
         "EPX",
         "Travel Agency",
         "Online",
         "2 way Comprehensive Plan",
         "20",
         "UNITED STATES",
         "112.0",
         "0.0",
         "59",
         "No"
        ],
        [
         "4",
         "C2B",
         "Airlines",
         "Online",
         "Bronze Plan",
         "8",
         "SINGAPORE",
         "16.0",
         "4.0",
         "28",
         "No"
        ]
       ],
       "shape": {
        "columns": 10,
        "rows": 5
       }
      },
      "text/html": [
       "<div>\n",
       "<style scoped>\n",
       "    .dataframe tbody tr th:only-of-type {\n",
       "        vertical-align: middle;\n",
       "    }\n",
       "\n",
       "    .dataframe tbody tr th {\n",
       "        vertical-align: top;\n",
       "    }\n",
       "\n",
       "    .dataframe thead th {\n",
       "        text-align: right;\n",
       "    }\n",
       "</style>\n",
       "<table border=\"1\" class=\"dataframe\">\n",
       "  <thead>\n",
       "    <tr style=\"text-align: right;\">\n",
       "      <th></th>\n",
       "      <th>Agency</th>\n",
       "      <th>Agency Type</th>\n",
       "      <th>Distribution Channel</th>\n",
       "      <th>Product Name</th>\n",
       "      <th>Duration</th>\n",
       "      <th>Destination</th>\n",
       "      <th>Net Sales</th>\n",
       "      <th>Commision (in value)</th>\n",
       "      <th>Age</th>\n",
       "      <th>Claim</th>\n",
       "    </tr>\n",
       "  </thead>\n",
       "  <tbody>\n",
       "    <tr>\n",
       "      <th>0</th>\n",
       "      <td>C2B</td>\n",
       "      <td>Airlines</td>\n",
       "      <td>Online</td>\n",
       "      <td>Annual Silver Plan</td>\n",
       "      <td>365</td>\n",
       "      <td>SINGAPORE</td>\n",
       "      <td>216.0</td>\n",
       "      <td>54.0</td>\n",
       "      <td>57</td>\n",
       "      <td>No</td>\n",
       "    </tr>\n",
       "    <tr>\n",
       "      <th>1</th>\n",
       "      <td>EPX</td>\n",
       "      <td>Travel Agency</td>\n",
       "      <td>Online</td>\n",
       "      <td>Cancellation Plan</td>\n",
       "      <td>4</td>\n",
       "      <td>MALAYSIA</td>\n",
       "      <td>10.0</td>\n",
       "      <td>0.0</td>\n",
       "      <td>33</td>\n",
       "      <td>No</td>\n",
       "    </tr>\n",
       "    <tr>\n",
       "      <th>2</th>\n",
       "      <td>JZI</td>\n",
       "      <td>Airlines</td>\n",
       "      <td>Online</td>\n",
       "      <td>Basic Plan</td>\n",
       "      <td>19</td>\n",
       "      <td>INDIA</td>\n",
       "      <td>22.0</td>\n",
       "      <td>7.7</td>\n",
       "      <td>26</td>\n",
       "      <td>No</td>\n",
       "    </tr>\n",
       "    <tr>\n",
       "      <th>3</th>\n",
       "      <td>EPX</td>\n",
       "      <td>Travel Agency</td>\n",
       "      <td>Online</td>\n",
       "      <td>2 way Comprehensive Plan</td>\n",
       "      <td>20</td>\n",
       "      <td>UNITED STATES</td>\n",
       "      <td>112.0</td>\n",
       "      <td>0.0</td>\n",
       "      <td>59</td>\n",
       "      <td>No</td>\n",
       "    </tr>\n",
       "    <tr>\n",
       "      <th>4</th>\n",
       "      <td>C2B</td>\n",
       "      <td>Airlines</td>\n",
       "      <td>Online</td>\n",
       "      <td>Bronze Plan</td>\n",
       "      <td>8</td>\n",
       "      <td>SINGAPORE</td>\n",
       "      <td>16.0</td>\n",
       "      <td>4.0</td>\n",
       "      <td>28</td>\n",
       "      <td>No</td>\n",
       "    </tr>\n",
       "  </tbody>\n",
       "</table>\n",
       "</div>"
      ],
      "text/plain": [
       "  Agency    Agency Type Distribution Channel              Product Name  \\\n",
       "0  C2B    Airlines       Online               Annual Silver Plan         \n",
       "1  EPX    Travel Agency  Online               Cancellation Plan          \n",
       "2  JZI    Airlines       Online               Basic Plan                 \n",
       "3  EPX    Travel Agency  Online               2 way Comprehensive Plan   \n",
       "4  C2B    Airlines       Online               Bronze Plan                \n",
       "\n",
       "   Duration    Destination  Net Sales  Commision (in value)  Age Claim  \n",
       "0  365       SINGAPORE      216.0      54.0                  57   No    \n",
       "1  4         MALAYSIA       10.0       0.0                   33   No    \n",
       "2  19        INDIA          22.0       7.7                   26   No    \n",
       "3  20        UNITED STATES  112.0      0.0                   59   No    \n",
       "4  8         SINGAPORE      16.0       4.0                   28   No    "
      ]
     },
     "execution_count": 9,
     "metadata": {},
     "output_type": "execute_result"
    }
   ],
   "source": [
    "df = df.drop('Gender', axis=1)\n",
    "df.head()"
   ]
  },
  {
   "cell_type": "markdown",
   "id": "b7968862",
   "metadata": {},
   "source": [
    "Selanjutnya menghapus data yang duplikat."
   ]
  },
  {
   "cell_type": "code",
   "execution_count": 10,
   "id": "36f73472",
   "metadata": {},
   "outputs": [],
   "source": [
    "df = df.drop_duplicates()"
   ]
  },
  {
   "cell_type": "code",
   "execution_count": 11,
   "id": "235054fc",
   "metadata": {},
   "outputs": [
    {
     "data": {
      "application/vnd.microsoft.datawrangler.viewer.v0+json": {
       "columns": [
        {
         "name": "index",
         "rawType": "bool",
         "type": "boolean"
        },
        {
         "name": "count",
         "rawType": "int64",
         "type": "integer"
        }
       ],
       "ref": "6b8859a7-51f7-4018-9b56-1b2d68ed96a4",
       "rows": [
        [
         "False",
         "39324"
        ]
       ],
       "shape": {
        "columns": 1,
        "rows": 1
       }
      },
      "text/plain": [
       "False    39324\n",
       "Name: count, dtype: int64"
      ]
     },
     "execution_count": 11,
     "metadata": {},
     "output_type": "execute_result"
    }
   ],
   "source": [
    "df.duplicated().value_counts()"
   ]
  },
  {
   "cell_type": "markdown",
   "id": "48c95d50",
   "metadata": {},
   "source": [
    "#### Kolom Claim"
   ]
  },
  {
   "cell_type": "markdown",
   "id": "09113786",
   "metadata": {},
   "source": [
    "Mengubah kolom Claim dari tipe kategorikal menjadi numerikal."
   ]
  },
  {
   "cell_type": "code",
   "execution_count": 12,
   "id": "3a5e1a11",
   "metadata": {},
   "outputs": [],
   "source": [
    "df['Claim'] = df['Claim'].map({\n",
    "    'No' : 0,\n",
    "    'Yes' : 1\n",
    "})"
   ]
  },
  {
   "cell_type": "markdown",
   "id": "10c396fa",
   "metadata": {},
   "source": [
    "Selanjutnya kita akan cek distribusi data dari kolom target Claim."
   ]
  },
  {
   "cell_type": "code",
   "execution_count": 13,
   "id": "620ade35",
   "metadata": {},
   "outputs": [
    {
     "data": {
      "application/vnd.microsoft.datawrangler.viewer.v0+json": {
       "columns": [
        {
         "name": "Claim",
         "rawType": "int64",
         "type": "integer"
        },
        {
         "name": "count",
         "rawType": "int64",
         "type": "integer"
        }
       ],
       "ref": "f99e5c9e-1bea-4317-b7d9-bc5f86ef75f7",
       "rows": [
        [
         "0",
         "38651"
        ],
        [
         "1",
         "673"
        ]
       ],
       "shape": {
        "columns": 1,
        "rows": 2
       }
      },
      "text/plain": [
       "Claim\n",
       "0    38651\n",
       "1    673  \n",
       "Name: count, dtype: int64"
      ]
     },
     "execution_count": 13,
     "metadata": {},
     "output_type": "execute_result"
    }
   ],
   "source": [
    "df['Claim'].value_counts()"
   ]
  },
  {
   "cell_type": "code",
   "execution_count": 14,
   "id": "4d2351f1",
   "metadata": {},
   "outputs": [
    {
     "data": {
      "application/vnd.microsoft.datawrangler.viewer.v0+json": {
       "columns": [
        {
         "name": "Claim",
         "rawType": "int64",
         "type": "integer"
        },
        {
         "name": "count",
         "rawType": "float64",
         "type": "float"
        }
       ],
       "ref": "46596148-683b-4614-b1c7-9c7f2bac384e",
       "rows": [
        [
         "0",
         "98.29"
        ],
        [
         "1",
         "1.71"
        ]
       ],
       "shape": {
        "columns": 1,
        "rows": 2
       }
      },
      "text/plain": [
       "Claim\n",
       "0    98.29\n",
       "1    1.71 \n",
       "Name: count, dtype: float64"
      ]
     },
     "execution_count": 14,
     "metadata": {},
     "output_type": "execute_result"
    }
   ],
   "source": [
    "(df['Claim'].value_counts()*100/len(df)).round(2)"
   ]
  },
  {
   "cell_type": "code",
   "execution_count": 15,
   "id": "d7bcf8ad",
   "metadata": {},
   "outputs": [
    {
     "data": {
      "image/png": "[encoded data removed]",
      "text/plain": [
       "<Figure size 500x400 with 1 Axes>"
      ]
     },
     "metadata": {},
     "output_type": "display_data"
    }
   ],
   "source": [
    "plt.figure(figsize=(5,4))\n",
    "sns.countplot(x='Claim', data=df, hue='Claim')\n",
    "plt.title('Distribusi Travel Insurance')\n",
    "plt.show()"
   ]
  },
  {
   "cell_type": "markdown",
   "id": "03bd794b",
   "metadata": {},
   "source": [
    "Distribusi pada kolom Claim terlihat sangat berbeda dengan jumlah '0' sebanyak 38651 dan '1' sebanyak 673. Hal tersebut menggambarkan bahwa data orang yang Claim jauh lebih sedikit dibanding data orang yang tidak Claim."
   ]
  },
  {
   "cell_type": "markdown",
   "id": "b233cf9e",
   "metadata": {},
   "source": [
    "#### Outliers"
   ]
  },
  {
   "cell_type": "markdown",
   "id": "2f2161b9",
   "metadata": {},
   "source": [
    "Selanjutnya, kita akan melihat apakah ada outliers pada masing-masing kolom numerikal dan pengaruhnya dengan Claim."
   ]
  },
  {
   "cell_type": "markdown",
   "id": "fa2f578b",
   "metadata": {},
   "source": [
    "##### Feature Duration"
   ]
  },
  {
   "cell_type": "code",
   "execution_count": 16,
   "id": "d161b12d",
   "metadata": {},
   "outputs": [
    {
     "data": {
      "image/png": "[encoded data removed]",
      "text/plain": [
       "<Figure size 600x300 with 1 Axes>"
      ]
     },
     "metadata": {},
     "output_type": "display_data"
    }
   ],
   "source": [
    "plt.figure(figsize=(6,3))\n",
    "sns.boxplot(x=df['Duration'])\n",
    "plt.title('Boxplot Outlier in Duration')\n",
    "plt.show()"
   ]
  },
  {
   "cell_type": "markdown",
   "id": "f8a50d5a",
   "metadata": {},
   "source": [
    "Terlihat durasi yang memiliki nilai yang sangat ekstrem yaitu di atas 4000, akan dicek hubungannya dengan Claim. "
   ]
  },
  {
   "cell_type": "code",
   "execution_count": 17,
   "id": "208e28e0",
   "metadata": {},
   "outputs": [
    {
     "data": {
      "application/vnd.microsoft.datawrangler.viewer.v0+json": {
       "columns": [
        {
         "name": "index",
         "rawType": "int64",
         "type": "integer"
        },
        {
         "name": "Agency",
         "rawType": "object",
         "type": "string"
        },
        {
         "name": "Agency Type",
         "rawType": "object",
         "type": "string"
        },
        {
         "name": "Distribution Channel",
         "rawType": "object",
         "type": "string"
        },
        {
         "name": "Product Name",
         "rawType": "object",
         "type": "string"
        },
        {
         "name": "Duration",
         "rawType": "int64",
         "type": "integer"
        },
        {
         "name": "Destination",
         "rawType": "object",
         "type": "string"
        },
        {
         "name": "Net Sales",
         "rawType": "float64",
         "type": "float"
        },
        {
         "name": "Commision (in value)",
         "rawType": "float64",
         "type": "float"
        },
        {
         "name": "Age",
         "rawType": "int64",
         "type": "integer"
        },
        {
         "name": "Claim",
         "rawType": "int64",
         "type": "integer"
        }
       ],
       "ref": "23f61e11-70b7-4f69-955f-582319444f53",
       "rows": [
        [
         "87",
         "SSI",
         "Airlines",
         "Online",
         "Ticket Protector",
         "4736",
         "SINGAPORE",
         "0.32",
         "0.09",
         "48",
         "0"
        ],
        [
         "4678",
         "SSI",
         "Airlines",
         "Online",
         "Ticket Protector",
         "4857",
         "SINGAPORE",
         "0.32",
         "0.09",
         "48",
         "0"
        ],
        [
         "10172",
         "SSI",
         "Airlines",
         "Online",
         "Ticket Protector",
         "4815",
         "SINGAPORE",
         "0.32",
         "0.09",
         "48",
         "0"
        ],
        [
         "12140",
         "SSI",
         "Airlines",
         "Online",
         "Ticket Protector",
         "4652",
         "SINGAPORE",
         "0.32",
         "0.09",
         "48",
         "0"
        ],
        [
         "19497",
         "SSI",
         "Airlines",
         "Online",
         "Ticket Protector",
         "4881",
         "SINGAPORE",
         "0.13",
         "0.04",
         "48",
         "0"
        ],
        [
         "20038",
         "SSI",
         "Airlines",
         "Online",
         "Ticket Protector",
         "4844",
         "SINGAPORE",
         "0.32",
         "0.09",
         "48",
         "0"
        ],
        [
         "22215",
         "SSI",
         "Airlines",
         "Online",
         "Ticket Protector",
         "4580",
         "SINGAPORE",
         "0.32",
         "0.09",
         "48",
         "0"
        ],
        [
         "25606",
         "SSI",
         "Airlines",
         "Online",
         "Ticket Protector",
         "4685",
         "SINGAPORE",
         "0.32",
         "0.09",
         "48",
         "0"
        ],
        [
         "28032",
         "SSI",
         "Airlines",
         "Online",
         "Ticket Protector",
         "4829",
         "SINGAPORE",
         "0.32",
         "0.09",
         "48",
         "0"
        ],
        [
         "37207",
         "SSI",
         "Airlines",
         "Online",
         "Ticket Protector",
         "4609",
         "SINGAPORE",
         "0.32",
         "0.09",
         "48",
         "0"
        ],
        [
         "38536",
         "SSI",
         "Airlines",
         "Online",
         "Ticket Protector",
         "4784",
         "SINGAPORE",
         "0.32",
         "0.09",
         "48",
         "0"
        ],
        [
         "42584",
         "SSI",
         "Airlines",
         "Online",
         "Ticket Protector",
         "4831",
         "SINGAPORE",
         "0.32",
         "0.09",
         "48",
         "0"
        ],
        [
         "42717",
         "SSI",
         "Airlines",
         "Online",
         "Ticket Protector",
         "4847",
         "SINGAPORE",
         "0.32",
         "0.09",
         "48",
         "0"
        ]
       ],
       "shape": {
        "columns": 10,
        "rows": 13
       }
      },
      "text/html": [
       "<div>\n",
       "<style scoped>\n",
       "    .dataframe tbody tr th:only-of-type {\n",
       "        vertical-align: middle;\n",
       "    }\n",
       "\n",
       "    .dataframe tbody tr th {\n",
       "        vertical-align: top;\n",
       "    }\n",
       "\n",
       "    .dataframe thead th {\n",
       "        text-align: right;\n",
       "    }\n",
       "</style>\n",
       "<table border=\"1\" class=\"dataframe\">\n",
       "  <thead>\n",
       "    <tr style=\"text-align: right;\">\n",
       "      <th></th>\n",
       "      <th>Agency</th>\n",
       "      <th>Agency Type</th>\n",
       "      <th>Distribution Channel</th>\n",
       "      <th>Product Name</th>\n",
       "      <th>Duration</th>\n",
       "      <th>Destination</th>\n",
       "      <th>Net Sales</th>\n",
       "      <th>Commision (in value)</th>\n",
       "      <th>Age</th>\n",
       "      <th>Claim</th>\n",
       "    </tr>\n",
       "  </thead>\n",
       "  <tbody>\n",
       "    <tr>\n",
       "      <th>87</th>\n",
       "      <td>SSI</td>\n",
       "      <td>Airlines</td>\n",
       "      <td>Online</td>\n",
       "      <td>Ticket Protector</td>\n",
       "      <td>4736</td>\n",
       "      <td>SINGAPORE</td>\n",
       "      <td>0.32</td>\n",
       "      <td>0.09</td>\n",
       "      <td>48</td>\n",
       "      <td>0</td>\n",
       "    </tr>\n",
       "    <tr>\n",
       "      <th>4678</th>\n",
       "      <td>SSI</td>\n",
       "      <td>Airlines</td>\n",
       "      <td>Online</td>\n",
       "      <td>Ticket Protector</td>\n",
       "      <td>4857</td>\n",
       "      <td>SINGAPORE</td>\n",
       "      <td>0.32</td>\n",
       "      <td>0.09</td>\n",
       "      <td>48</td>\n",
       "      <td>0</td>\n",
       "    </tr>\n",
       "    <tr>\n",
       "      <th>10172</th>\n",
       "      <td>SSI</td>\n",
       "      <td>Airlines</td>\n",
       "      <td>Online</td>\n",
       "      <td>Ticket Protector</td>\n",
       "      <td>4815</td>\n",
       "      <td>SINGAPORE</td>\n",
       "      <td>0.32</td>\n",
       "      <td>0.09</td>\n",
       "      <td>48</td>\n",
       "      <td>0</td>\n",
       "    </tr>\n",
       "    <tr>\n",
       "      <th>12140</th>\n",
       "      <td>SSI</td>\n",
       "      <td>Airlines</td>\n",
       "      <td>Online</td>\n",
       "      <td>Ticket Protector</td>\n",
       "      <td>4652</td>\n",
       "      <td>SINGAPORE</td>\n",
       "      <td>0.32</td>\n",
       "      <td>0.09</td>\n",
       "      <td>48</td>\n",
       "      <td>0</td>\n",
       "    </tr>\n",
       "    <tr>\n",
       "      <th>19497</th>\n",
       "      <td>SSI</td>\n",
       "      <td>Airlines</td>\n",
       "      <td>Online</td>\n",
       "      <td>Ticket Protector</td>\n",
       "      <td>4881</td>\n",
       "      <td>SINGAPORE</td>\n",
       "      <td>0.13</td>\n",
       "      <td>0.04</td>\n",
       "      <td>48</td>\n",
       "      <td>0</td>\n",
       "    </tr>\n",
       "    <tr>\n",
       "      <th>20038</th>\n",
       "      <td>SSI</td>\n",
       "      <td>Airlines</td>\n",
       "      <td>Online</td>\n",
       "      <td>Ticket Protector</td>\n",
       "      <td>4844</td>\n",
       "      <td>SINGAPORE</td>\n",
       "      <td>0.32</td>\n",
       "      <td>0.09</td>\n",
       "      <td>48</td>\n",
       "      <td>0</td>\n",
       "    </tr>\n",
       "    <tr>\n",
       "      <th>22215</th>\n",
       "      <td>SSI</td>\n",
       "      <td>Airlines</td>\n",
       "      <td>Online</td>\n",
       "      <td>Ticket Protector</td>\n",
       "      <td>4580</td>\n",
       "      <td>SINGAPORE</td>\n",
       "      <td>0.32</td>\n",
       "      <td>0.09</td>\n",
       "      <td>48</td>\n",
       "      <td>0</td>\n",
       "    </tr>\n",
       "    <tr>\n",
       "      <th>25606</th>\n",
       "      <td>SSI</td>\n",
       "      <td>Airlines</td>\n",
       "      <td>Online</td>\n",
       "      <td>Ticket Protector</td>\n",
       "      <td>4685</td>\n",
       "      <td>SINGAPORE</td>\n",
       "      <td>0.32</td>\n",
       "      <td>0.09</td>\n",
       "      <td>48</td>\n",
       "      <td>0</td>\n",
       "    </tr>\n",
       "    <tr>\n",
       "      <th>28032</th>\n",
       "      <td>SSI</td>\n",
       "      <td>Airlines</td>\n",
       "      <td>Online</td>\n",
       "      <td>Ticket Protector</td>\n",
       "      <td>4829</td>\n",
       "      <td>SINGAPORE</td>\n",
       "      <td>0.32</td>\n",
       "      <td>0.09</td>\n",
       "      <td>48</td>\n",
       "      <td>0</td>\n",
       "    </tr>\n",
       "    <tr>\n",
       "      <th>37207</th>\n",
       "      <td>SSI</td>\n",
       "      <td>Airlines</td>\n",
       "      <td>Online</td>\n",
       "      <td>Ticket Protector</td>\n",
       "      <td>4609</td>\n",
       "      <td>SINGAPORE</td>\n",
       "      <td>0.32</td>\n",
       "      <td>0.09</td>\n",
       "      <td>48</td>\n",
       "      <td>0</td>\n",
       "    </tr>\n",
       "    <tr>\n",
       "      <th>38536</th>\n",
       "      <td>SSI</td>\n",
       "      <td>Airlines</td>\n",
       "      <td>Online</td>\n",
       "      <td>Ticket Protector</td>\n",
       "      <td>4784</td>\n",
       "      <td>SINGAPORE</td>\n",
       "      <td>0.32</td>\n",
       "      <td>0.09</td>\n",
       "      <td>48</td>\n",
       "      <td>0</td>\n",
       "    </tr>\n",
       "    <tr>\n",
       "      <th>42584</th>\n",
       "      <td>SSI</td>\n",
       "      <td>Airlines</td>\n",
       "      <td>Online</td>\n",
       "      <td>Ticket Protector</td>\n",
       "      <td>4831</td>\n",
       "      <td>SINGAPORE</td>\n",
       "      <td>0.32</td>\n",
       "      <td>0.09</td>\n",
       "      <td>48</td>\n",
       "      <td>0</td>\n",
       "    </tr>\n",
       "    <tr>\n",
       "      <th>42717</th>\n",
       "      <td>SSI</td>\n",
       "      <td>Airlines</td>\n",
       "      <td>Online</td>\n",
       "      <td>Ticket Protector</td>\n",
       "      <td>4847</td>\n",
       "      <td>SINGAPORE</td>\n",
       "      <td>0.32</td>\n",
       "      <td>0.09</td>\n",
       "      <td>48</td>\n",
       "      <td>0</td>\n",
       "    </tr>\n",
       "  </tbody>\n",
       "</table>\n",
       "</div>"
      ],
      "text/plain": [
       "      Agency Agency Type Distribution Channel      Product Name  Duration  \\\n",
       "87     SSI    Airlines    Online               Ticket Protector  4736       \n",
       "4678   SSI    Airlines    Online               Ticket Protector  4857       \n",
       "10172  SSI    Airlines    Online               Ticket Protector  4815       \n",
       "12140  SSI    Airlines    Online               Ticket Protector  4652       \n",
       "19497  SSI    Airlines    Online               Ticket Protector  4881       \n",
       "20038  SSI    Airlines    Online               Ticket Protector  4844       \n",
       "22215  SSI    Airlines    Online               Ticket Protector  4580       \n",
       "25606  SSI    Airlines    Online               Ticket Protector  4685       \n",
       "28032  SSI    Airlines    Online               Ticket Protector  4829       \n",
       "37207  SSI    Airlines    Online               Ticket Protector  4609       \n",
       "38536  SSI    Airlines    Online               Ticket Protector  4784       \n",
       "42584  SSI    Airlines    Online               Ticket Protector  4831       \n",
       "42717  SSI    Airlines    Online               Ticket Protector  4847       \n",
       "\n",
       "      Destination  Net Sales  Commision (in value)  Age  Claim  \n",
       "87     SINGAPORE   0.32       0.09                  48   0      \n",
       "4678   SINGAPORE   0.32       0.09                  48   0      \n",
       "10172  SINGAPORE   0.32       0.09                  48   0      \n",
       "12140  SINGAPORE   0.32       0.09                  48   0      \n",
       "19497  SINGAPORE   0.13       0.04                  48   0      \n",
       "20038  SINGAPORE   0.32       0.09                  48   0      \n",
       "22215  SINGAPORE   0.32       0.09                  48   0      \n",
       "25606  SINGAPORE   0.32       0.09                  48   0      \n",
       "28032  SINGAPORE   0.32       0.09                  48   0      \n",
       "37207  SINGAPORE   0.32       0.09                  48   0      \n",
       "38536  SINGAPORE   0.32       0.09                  48   0      \n",
       "42584  SINGAPORE   0.32       0.09                  48   0      \n",
       "42717  SINGAPORE   0.32       0.09                  48   0      "
      ]
     },
     "execution_count": 17,
     "metadata": {},
     "output_type": "execute_result"
    }
   ],
   "source": [
    "df[(df['Duration']>4000)]"
   ]
  },
  {
   "cell_type": "markdown",
   "id": "d66adb20",
   "metadata": {},
   "source": [
    "Data kolom Duration yang memiliki value di atas 4000 tidak ada yang klaim asuransi sehingga akan kita drop."
   ]
  },
  {
   "cell_type": "code",
   "execution_count": 18,
   "id": "82c61919",
   "metadata": {},
   "outputs": [],
   "source": [
    "df.drop(df[df['Duration'] > 4000].index, inplace=True)"
   ]
  },
  {
   "cell_type": "code",
   "execution_count": 19,
   "id": "9e1c2955",
   "metadata": {},
   "outputs": [
    {
     "data": {
      "image/png": "[encoded data removed]",
      "text/plain": [
       "<Figure size 600x300 with 1 Axes>"
      ]
     },
     "metadata": {},
     "output_type": "display_data"
    }
   ],
   "source": [
    "plt.figure(figsize=(6,3))\n",
    "sns.boxplot(x=df['Duration'])\n",
    "plt.title('Boxplot Outlier in Duration')\n",
    "plt.show()"
   ]
  },
  {
   "cell_type": "markdown",
   "id": "dd03e7d0",
   "metadata": {},
   "source": [
    "Masih terdapat data ekstrem pada kolom Destination yaitu di atas 100, akan dicek kembali hubungannya dengan Claim."
   ]
  },
  {
   "cell_type": "code",
   "execution_count": 20,
   "id": "2cf72136",
   "metadata": {},
   "outputs": [
    {
     "data": {
      "application/vnd.microsoft.datawrangler.viewer.v0+json": {
       "columns": [
        {
         "name": "index",
         "rawType": "int64",
         "type": "integer"
        },
        {
         "name": "Agency",
         "rawType": "object",
         "type": "string"
        },
        {
         "name": "Agency Type",
         "rawType": "object",
         "type": "string"
        },
        {
         "name": "Distribution Channel",
         "rawType": "object",
         "type": "string"
        },
        {
         "name": "Product Name",
         "rawType": "object",
         "type": "string"
        },
        {
         "name": "Duration",
         "rawType": "int64",
         "type": "integer"
        },
        {
         "name": "Destination",
         "rawType": "object",
         "type": "string"
        },
        {
         "name": "Net Sales",
         "rawType": "float64",
         "type": "float"
        },
        {
         "name": "Commision (in value)",
         "rawType": "float64",
         "type": "float"
        },
        {
         "name": "Age",
         "rawType": "int64",
         "type": "integer"
        },
        {
         "name": "Claim",
         "rawType": "int64",
         "type": "integer"
        }
       ],
       "ref": "423e1619-a149-438b-ac73-277d8a689a51",
       "rows": [
        [
         "21551",
         "C2B",
         "Airlines",
         "Online",
         "Annual Silver Plan",
         "740",
         "SINGAPORE",
         "0.0",
         "54.19",
         "36",
         "0"
        ]
       ],
       "shape": {
        "columns": 10,
        "rows": 1
       }
      },
      "text/html": [
       "<div>\n",
       "<style scoped>\n",
       "    .dataframe tbody tr th:only-of-type {\n",
       "        vertical-align: middle;\n",
       "    }\n",
       "\n",
       "    .dataframe tbody tr th {\n",
       "        vertical-align: top;\n",
       "    }\n",
       "\n",
       "    .dataframe thead th {\n",
       "        text-align: right;\n",
       "    }\n",
       "</style>\n",
       "<table border=\"1\" class=\"dataframe\">\n",
       "  <thead>\n",
       "    <tr style=\"text-align: right;\">\n",
       "      <th></th>\n",
       "      <th>Agency</th>\n",
       "      <th>Agency Type</th>\n",
       "      <th>Distribution Channel</th>\n",
       "      <th>Product Name</th>\n",
       "      <th>Duration</th>\n",
       "      <th>Destination</th>\n",
       "      <th>Net Sales</th>\n",
       "      <th>Commision (in value)</th>\n",
       "      <th>Age</th>\n",
       "      <th>Claim</th>\n",
       "    </tr>\n",
       "  </thead>\n",
       "  <tbody>\n",
       "    <tr>\n",
       "      <th>21551</th>\n",
       "      <td>C2B</td>\n",
       "      <td>Airlines</td>\n",
       "      <td>Online</td>\n",
       "      <td>Annual Silver Plan</td>\n",
       "      <td>740</td>\n",
       "      <td>SINGAPORE</td>\n",
       "      <td>0.0</td>\n",
       "      <td>54.19</td>\n",
       "      <td>36</td>\n",
       "      <td>0</td>\n",
       "    </tr>\n",
       "  </tbody>\n",
       "</table>\n",
       "</div>"
      ],
      "text/plain": [
       "      Agency Agency Type Distribution Channel        Product Name  Duration  \\\n",
       "21551  C2B    Airlines    Online               Annual Silver Plan  740        \n",
       "\n",
       "      Destination  Net Sales  Commision (in value)  Age  Claim  \n",
       "21551  SINGAPORE   0.0        54.19                 36   0      "
      ]
     },
     "execution_count": 20,
     "metadata": {},
     "output_type": "execute_result"
    }
   ],
   "source": [
    "df[(df['Duration']>700)]"
   ]
  },
  {
   "cell_type": "code",
   "execution_count": 21,
   "id": "577d21af",
   "metadata": {},
   "outputs": [
    {
     "data": {
      "application/vnd.microsoft.datawrangler.viewer.v0+json": {
       "columns": [
        {
         "name": "index",
         "rawType": "int64",
         "type": "integer"
        },
        {
         "name": "Agency",
         "rawType": "object",
         "type": "string"
        },
        {
         "name": "Agency Type",
         "rawType": "object",
         "type": "string"
        },
        {
         "name": "Distribution Channel",
         "rawType": "object",
         "type": "string"
        },
        {
         "name": "Product Name",
         "rawType": "object",
         "type": "string"
        },
        {
         "name": "Duration",
         "rawType": "int64",
         "type": "integer"
        },
        {
         "name": "Destination",
         "rawType": "object",
         "type": "string"
        },
        {
         "name": "Net Sales",
         "rawType": "float64",
         "type": "float"
        },
        {
         "name": "Commision (in value)",
         "rawType": "float64",
         "type": "float"
        },
        {
         "name": "Age",
         "rawType": "int64",
         "type": "integer"
        },
        {
         "name": "Claim",
         "rawType": "int64",
         "type": "integer"
        }
       ],
       "ref": "de66bec5-1153-4c56-876e-d2a7504b3398",
       "rows": [
        [
         "0",
         "C2B",
         "Airlines",
         "Online",
         "Annual Silver Plan",
         "365",
         "SINGAPORE",
         "216.0",
         "54.0",
         "57",
         "0"
        ],
        [
         "11",
         "C2B",
         "Airlines",
         "Online",
         "Annual Silver Plan",
         "365",
         "SINGAPORE",
         "216.0",
         "54.0",
         "27",
         "0"
        ],
        [
         "12",
         "JZI",
         "Airlines",
         "Online",
         "Basic Plan",
         "103",
         "KOREA, REPUBLIC OF",
         "26.0",
         "9.1",
         "48",
         "0"
        ],
        [
         "13",
         "C2B",
         "Airlines",
         "Online",
         "Annual Silver Plan",
         "376",
         "SINGAPORE",
         "252.85",
         "63.21",
         "43",
         "1"
        ],
        [
         "50",
         "LWC",
         "Travel Agency",
         "Online",
         "Annual Travel Protect Gold",
         "370",
         "CHINA",
         "204.6",
         "132.99",
         "39",
         "1"
        ],
        [
         "53",
         "C2B",
         "Airlines",
         "Online",
         "Annual Silver Plan",
         "366",
         "SINGAPORE",
         "216.0",
         "54.0",
         "37",
         "0"
        ],
        [
         "81",
         "EPX",
         "Travel Agency",
         "Online",
         "Cancellation Plan",
         "232",
         "TURKEY",
         "80.0",
         "0.0",
         "36",
         "0"
        ],
        [
         "94",
         "C2B",
         "Airlines",
         "Online",
         "Annual Silver Plan",
         "365",
         "SINGAPORE",
         "-216.75",
         "54.19",
         "36",
         "0"
        ],
        [
         "95",
         "JZI",
         "Airlines",
         "Online",
         "Basic Plan",
         "173",
         "INDONESIA",
         "33.0",
         "11.55",
         "44",
         "0"
        ],
        [
         "102",
         "EPX",
         "Travel Agency",
         "Online",
         "2 way Comprehensive Plan",
         "156",
         "JAPAN",
         "26.0",
         "0.0",
         "36",
         "1"
        ],
        [
         "114",
         "EPX",
         "Travel Agency",
         "Online",
         "Cancellation Plan",
         "111",
         "INDONESIA",
         "22.0",
         "0.0",
         "36",
         "0"
        ],
        [
         "116",
         "CWT",
         "Travel Agency",
         "Online",
         "Rental Vehicle Excess Insurance",
         "430",
         "AUSTRALIA",
         "-59.4",
         "35.64",
         "41",
         "0"
        ],
        [
         "131",
         "EPX",
         "Travel Agency",
         "Online",
         "2 way Comprehensive Plan",
         "151",
         "UNITED STATES",
         "112.0",
         "0.0",
         "69",
         "0"
        ],
        [
         "147",
         "EPX",
         "Travel Agency",
         "Online",
         "Cancellation Plan",
         "114",
         "SWEDEN",
         "115.0",
         "0.0",
         "36",
         "0"
        ],
        [
         "149",
         "EPX",
         "Travel Agency",
         "Online",
         "2 way Comprehensive Plan",
         "118",
         "MYANMAR",
         "20.0",
         "0.0",
         "30",
         "0"
        ],
        [
         "165",
         "EPX",
         "Travel Agency",
         "Online",
         "2 way Comprehensive Plan",
         "112",
         "SINGAPORE",
         "79.0",
         "0.0",
         "36",
         "0"
        ],
        [
         "166",
         "EPX",
         "Travel Agency",
         "Online",
         "Cancellation Plan",
         "326",
         "PHILIPPINES",
         "19.0",
         "0.0",
         "36",
         "0"
        ],
        [
         "218",
         "EPX",
         "Travel Agency",
         "Online",
         "Cancellation Plan",
         "180",
         "INDONESIA",
         "10.0",
         "0.0",
         "28",
         "0"
        ],
        [
         "224",
         "EPX",
         "Travel Agency",
         "Online",
         "Cancellation Plan",
         "160",
         "ARGENTINA",
         "41.0",
         "0.0",
         "36",
         "0"
        ],
        [
         "226",
         "TTW",
         "Travel Agency",
         "Offline",
         "Individual Comprehensive Plan",
         "368",
         "SINGAPORE",
         "97.0",
         "0.0",
         "37",
         "0"
        ],
        [
         "257",
         "EPX",
         "Travel Agency",
         "Online",
         "Cancellation Plan",
         "110",
         "ARGENTINA",
         "80.0",
         "0.0",
         "36",
         "0"
        ],
        [
         "262",
         "SSI",
         "Airlines",
         "Online",
         "Ticket Protector",
         "146",
         "SINGAPORE",
         "0.19",
         "0.05",
         "48",
         "0"
        ],
        [
         "266",
         "JZI",
         "Airlines",
         "Online",
         "Basic Plan",
         "116",
         "THAILAND",
         "18.0",
         "6.3",
         "39",
         "0"
        ],
        [
         "268",
         "EPX",
         "Travel Agency",
         "Online",
         "Cancellation Plan",
         "129",
         "MALAYSIA",
         "10.0",
         "0.0",
         "41",
         "0"
        ],
        [
         "279",
         "EPX",
         "Travel Agency",
         "Online",
         "2 way Comprehensive Plan",
         "149",
         "MALAYSIA",
         "20.0",
         "0.0",
         "36",
         "0"
        ],
        [
         "311",
         "EPX",
         "Travel Agency",
         "Online",
         "Cancellation Plan",
         "101",
         "UNITED STATES",
         "66.0",
         "0.0",
         "39",
         "0"
        ],
        [
         "312",
         "SSI",
         "Airlines",
         "Online",
         "Ticket Protector",
         "145",
         "SINGAPORE",
         "1.61",
         "0.45",
         "48",
         "0"
        ],
        [
         "314",
         "EPX",
         "Travel Agency",
         "Online",
         "2 way Comprehensive Plan",
         "222",
         "MYANMAR",
         "20.0",
         "0.0",
         "36",
         "0"
        ],
        [
         "316",
         "CSR",
         "Travel Agency",
         "Offline",
         "Comprehensive Plan",
         "176",
         "MALAYSIA",
         "29.0",
         "9.57",
         "76",
         "0"
        ],
        [
         "319",
         "EPX",
         "Travel Agency",
         "Online",
         "Cancellation Plan",
         "165",
         "PHILIPPINES",
         "10.0",
         "0.0",
         "36",
         "0"
        ],
        [
         "330",
         "C2B",
         "Airlines",
         "Online",
         "Annual Silver Plan",
         "365",
         "SINGAPORE",
         "216.0",
         "54.0",
         "47",
         "0"
        ],
        [
         "335",
         "SSI",
         "Airlines",
         "Online",
         "Ticket Protector",
         "169",
         "SINGAPORE",
         "1.32",
         "0.37",
         "48",
         "0"
        ],
        [
         "338",
         "C2B",
         "Airlines",
         "Online",
         "Annual Silver Plan",
         "387",
         "SINGAPORE",
         "252.85",
         "63.21",
         "37",
         "0"
        ],
        [
         "358",
         "CWT",
         "Travel Agency",
         "Online",
         "Rental Vehicle Excess Insurance",
         "109",
         "THAILAND",
         "39.6",
         "23.76",
         "49",
         "0"
        ],
        [
         "364",
         "C2B",
         "Airlines",
         "Online",
         "Annual Silver Plan",
         "381",
         "SINGAPORE",
         "280.8",
         "70.2",
         "68",
         "0"
        ],
        [
         "370",
         "C2B",
         "Airlines",
         "Online",
         "Annual Silver Plan",
         "365",
         "SINGAPORE",
         "291.75",
         "72.94",
         "28",
         "0"
        ],
        [
         "371",
         "C2B",
         "Airlines",
         "Online",
         "Bronze Plan",
         "161",
         "SINGAPORE",
         "34.5",
         "8.63",
         "44",
         "0"
        ],
        [
         "372",
         "EPX",
         "Travel Agency",
         "Online",
         "Cancellation Plan",
         "154",
         "MALAYSIA",
         "10.0",
         "0.0",
         "34",
         "0"
        ],
        [
         "398",
         "EPX",
         "Travel Agency",
         "Online",
         "Cancellation Plan",
         "330",
         "PERU",
         "22.0",
         "0.0",
         "26",
         "0"
        ],
        [
         "437",
         "ART",
         "Airlines",
         "Online",
         "24 Protect",
         "121",
         "CAMBODIA",
         "14.11",
         "4.94",
         "48",
         "0"
        ],
        [
         "439",
         "EPX",
         "Travel Agency",
         "Online",
         "2 way Comprehensive Plan",
         "106",
         "HONG KONG",
         "53.0",
         "0.0",
         "35",
         "0"
        ],
        [
         "447",
         "EPX",
         "Travel Agency",
         "Online",
         "Cancellation Plan",
         "140",
         "THAILAND",
         "10.0",
         "0.0",
         "25",
         "0"
        ],
        [
         "450",
         "CWT",
         "Travel Agency",
         "Online",
         "Rental Vehicle Excess Insurance",
         "104",
         "UNITED KINGDOM",
         "89.1",
         "53.46",
         "45",
         "0"
        ],
        [
         "457",
         "C2B",
         "Airlines",
         "Online",
         "Annual Silver Plan",
         "365",
         "SINGAPORE",
         "252.85",
         "63.21",
         "43",
         "0"
        ],
        [
         "462",
         "EPX",
         "Travel Agency",
         "Online",
         "Cancellation Plan",
         "134",
         "MALAYSIA",
         "26.0",
         "0.0",
         "33",
         "0"
        ],
        [
         "466",
         "C2B",
         "Airlines",
         "Online",
         "Annual Silver Plan",
         "393",
         "SINGAPORE",
         "252.85",
         "63.21",
         "31",
         "0"
        ],
        [
         "480",
         "EPX",
         "Travel Agency",
         "Online",
         "2 way Comprehensive Plan",
         "118",
         "SINGAPORE",
         "112.0",
         "0.0",
         "36",
         "0"
        ],
        [
         "503",
         "EPX",
         "Travel Agency",
         "Online",
         "Cancellation Plan",
         "282",
         "KOREA, REPUBLIC OF",
         "37.0",
         "0.0",
         "36",
         "0"
        ],
        [
         "507",
         "EPX",
         "Travel Agency",
         "Online",
         "2 way Comprehensive Plan",
         "123",
         "JAPAN",
         "34.0",
         "0.0",
         "36",
         "0"
        ],
        [
         "510",
         "EPX",
         "Travel Agency",
         "Online",
         "Cancellation Plan",
         "172",
         "UNITED KINGDOM",
         "80.0",
         "0.0",
         "36",
         "0"
        ]
       ],
       "shape": {
        "columns": 10,
        "rows": 4710
       }
      },
      "text/html": [
       "<div>\n",
       "<style scoped>\n",
       "    .dataframe tbody tr th:only-of-type {\n",
       "        vertical-align: middle;\n",
       "    }\n",
       "\n",
       "    .dataframe tbody tr th {\n",
       "        vertical-align: top;\n",
       "    }\n",
       "\n",
       "    .dataframe thead th {\n",
       "        text-align: right;\n",
       "    }\n",
       "</style>\n",
       "<table border=\"1\" class=\"dataframe\">\n",
       "  <thead>\n",
       "    <tr style=\"text-align: right;\">\n",
       "      <th></th>\n",
       "      <th>Agency</th>\n",
       "      <th>Agency Type</th>\n",
       "      <th>Distribution Channel</th>\n",
       "      <th>Product Name</th>\n",
       "      <th>Duration</th>\n",
       "      <th>Destination</th>\n",
       "      <th>Net Sales</th>\n",
       "      <th>Commision (in value)</th>\n",
       "      <th>Age</th>\n",
       "      <th>Claim</th>\n",
       "    </tr>\n",
       "  </thead>\n",
       "  <tbody>\n",
       "    <tr>\n",
       "      <th>0</th>\n",
       "      <td>C2B</td>\n",
       "      <td>Airlines</td>\n",
       "      <td>Online</td>\n",
       "      <td>Annual Silver Plan</td>\n",
       "      <td>365</td>\n",
       "      <td>SINGAPORE</td>\n",
       "      <td>216.00</td>\n",
       "      <td>54.00</td>\n",
       "      <td>57</td>\n",
       "      <td>0</td>\n",
       "    </tr>\n",
       "    <tr>\n",
       "      <th>11</th>\n",
       "      <td>C2B</td>\n",
       "      <td>Airlines</td>\n",
       "      <td>Online</td>\n",
       "      <td>Annual Silver Plan</td>\n",
       "      <td>365</td>\n",
       "      <td>SINGAPORE</td>\n",
       "      <td>216.00</td>\n",
       "      <td>54.00</td>\n",
       "      <td>27</td>\n",
       "      <td>0</td>\n",
       "    </tr>\n",
       "    <tr>\n",
       "      <th>12</th>\n",
       "      <td>JZI</td>\n",
       "      <td>Airlines</td>\n",
       "      <td>Online</td>\n",
       "      <td>Basic Plan</td>\n",
       "      <td>103</td>\n",
       "      <td>KOREA, REPUBLIC OF</td>\n",
       "      <td>26.00</td>\n",
       "      <td>9.10</td>\n",
       "      <td>48</td>\n",
       "      <td>0</td>\n",
       "    </tr>\n",
       "    <tr>\n",
       "      <th>13</th>\n",
       "      <td>C2B</td>\n",
       "      <td>Airlines</td>\n",
       "      <td>Online</td>\n",
       "      <td>Annual Silver Plan</td>\n",
       "      <td>376</td>\n",
       "      <td>SINGAPORE</td>\n",
       "      <td>252.85</td>\n",
       "      <td>63.21</td>\n",
       "      <td>43</td>\n",
       "      <td>1</td>\n",
       "    </tr>\n",
       "    <tr>\n",
       "      <th>50</th>\n",
       "      <td>LWC</td>\n",
       "      <td>Travel Agency</td>\n",
       "      <td>Online</td>\n",
       "      <td>Annual Travel Protect Gold</td>\n",
       "      <td>370</td>\n",
       "      <td>CHINA</td>\n",
       "      <td>204.60</td>\n",
       "      <td>132.99</td>\n",
       "      <td>39</td>\n",
       "      <td>1</td>\n",
       "    </tr>\n",
       "    <tr>\n",
       "      <th>...</th>\n",
       "      <td>...</td>\n",
       "      <td>...</td>\n",
       "      <td>...</td>\n",
       "      <td>...</td>\n",
       "      <td>...</td>\n",
       "      <td>...</td>\n",
       "      <td>...</td>\n",
       "      <td>...</td>\n",
       "      <td>...</td>\n",
       "      <td>...</td>\n",
       "    </tr>\n",
       "    <tr>\n",
       "      <th>44267</th>\n",
       "      <td>C2B</td>\n",
       "      <td>Airlines</td>\n",
       "      <td>Online</td>\n",
       "      <td>Annual Gold Plan</td>\n",
       "      <td>370</td>\n",
       "      <td>SINGAPORE</td>\n",
       "      <td>333.00</td>\n",
       "      <td>83.25</td>\n",
       "      <td>40</td>\n",
       "      <td>0</td>\n",
       "    </tr>\n",
       "    <tr>\n",
       "      <th>44281</th>\n",
       "      <td>EPX</td>\n",
       "      <td>Travel Agency</td>\n",
       "      <td>Online</td>\n",
       "      <td>Cancellation Plan</td>\n",
       "      <td>155</td>\n",
       "      <td>UNITED STATES</td>\n",
       "      <td>14.00</td>\n",
       "      <td>0.00</td>\n",
       "      <td>52</td>\n",
       "      <td>0</td>\n",
       "    </tr>\n",
       "    <tr>\n",
       "      <th>44282</th>\n",
       "      <td>CWT</td>\n",
       "      <td>Travel Agency</td>\n",
       "      <td>Online</td>\n",
       "      <td>Rental Vehicle Excess Insurance</td>\n",
       "      <td>160</td>\n",
       "      <td>NEW ZEALAND</td>\n",
       "      <td>39.60</td>\n",
       "      <td>23.76</td>\n",
       "      <td>42</td>\n",
       "      <td>0</td>\n",
       "    </tr>\n",
       "    <tr>\n",
       "      <th>44284</th>\n",
       "      <td>EPX</td>\n",
       "      <td>Travel Agency</td>\n",
       "      <td>Online</td>\n",
       "      <td>Cancellation Plan</td>\n",
       "      <td>132</td>\n",
       "      <td>HONG KONG</td>\n",
       "      <td>13.00</td>\n",
       "      <td>0.00</td>\n",
       "      <td>36</td>\n",
       "      <td>0</td>\n",
       "    </tr>\n",
       "    <tr>\n",
       "      <th>44327</th>\n",
       "      <td>CWT</td>\n",
       "      <td>Travel Agency</td>\n",
       "      <td>Online</td>\n",
       "      <td>Rental Vehicle Excess Insurance</td>\n",
       "      <td>172</td>\n",
       "      <td>SINGAPORE</td>\n",
       "      <td>0.00</td>\n",
       "      <td>17.82</td>\n",
       "      <td>31</td>\n",
       "      <td>0</td>\n",
       "    </tr>\n",
       "  </tbody>\n",
       "</table>\n",
       "<p>4710 rows × 10 columns</p>\n",
       "</div>"
      ],
      "text/plain": [
       "      Agency    Agency Type Distribution Channel  \\\n",
       "0      C2B    Airlines       Online                \n",
       "11     C2B    Airlines       Online                \n",
       "12     JZI    Airlines       Online                \n",
       "13     C2B    Airlines       Online                \n",
       "50     LWC    Travel Agency  Online                \n",
       "...    ...              ...     ...                \n",
       "44267  C2B    Airlines       Online                \n",
       "44281  EPX    Travel Agency  Online                \n",
       "44282  CWT    Travel Agency  Online                \n",
       "44284  EPX    Travel Agency  Online                \n",
       "44327  CWT    Travel Agency  Online                \n",
       "\n",
       "                          Product Name  Duration         Destination  \\\n",
       "0      Annual Silver Plan               365       SINGAPORE            \n",
       "11     Annual Silver Plan               365       SINGAPORE            \n",
       "12     Basic Plan                       103       KOREA, REPUBLIC OF   \n",
       "13     Annual Silver Plan               376       SINGAPORE            \n",
       "50     Annual Travel Protect Gold       370       CHINA                \n",
       "...                           ...       ...         ...                \n",
       "44267  Annual Gold Plan                 370       SINGAPORE            \n",
       "44281  Cancellation Plan                155       UNITED STATES        \n",
       "44282  Rental Vehicle Excess Insurance  160       NEW ZEALAND          \n",
       "44284  Cancellation Plan                132       HONG KONG            \n",
       "44327  Rental Vehicle Excess Insurance  172       SINGAPORE            \n",
       "\n",
       "       Net Sales  Commision (in value)  Age  Claim  \n",
       "0      216.00     54.00                 57   0      \n",
       "11     216.00     54.00                 27   0      \n",
       "12     26.00      9.10                  48   0      \n",
       "13     252.85     63.21                 43   1      \n",
       "50     204.60     132.99                39   1      \n",
       "...       ...        ...                ..  ..      \n",
       "44267  333.00     83.25                 40   0      \n",
       "44281  14.00      0.00                  52   0      \n",
       "44282  39.60      23.76                 42   0      \n",
       "44284  13.00      0.00                  36   0      \n",
       "44327  0.00       17.82                 31   0      \n",
       "\n",
       "[4710 rows x 10 columns]"
      ]
     },
     "execution_count": 21,
     "metadata": {},
     "output_type": "execute_result"
    }
   ],
   "source": [
    "df[(df['Duration']>100)]"
   ]
  },
  {
   "cell_type": "markdown",
   "id": "43ad6338",
   "metadata": {},
   "source": [
    "Berdasarkan hasil tersebut, Duration di atas 700 akan didrop karena tidak klaim asuransi. Namun, data Duration di atas 100 tetap dipakai karena terdapat data dengan Claim kelas 1."
   ]
  },
  {
   "cell_type": "code",
   "execution_count": 22,
   "id": "4d694589",
   "metadata": {},
   "outputs": [],
   "source": [
    "df.drop(df[df['Duration'] > 700].index, inplace=True)"
   ]
  },
  {
   "cell_type": "markdown",
   "id": "c612393e",
   "metadata": {},
   "source": [
    "##### Feature Net Sales"
   ]
  },
  {
   "cell_type": "code",
   "execution_count": 23,
   "id": "eea37e0a",
   "metadata": {},
   "outputs": [
    {
     "data": {
      "image/png": "[encoded data removed]",
      "text/plain": [
       "<Figure size 600x300 with 1 Axes>"
      ]
     },
     "metadata": {},
     "output_type": "display_data"
    }
   ],
   "source": [
    "plt.figure(figsize=(6,3))\n",
    "sns.boxplot(x=df['Net Sales'])\n",
    "plt.title('Boxplot Outlier in Net Sales')\n",
    "plt.show()"
   ]
  },
  {
   "cell_type": "markdown",
   "id": "933f7f00",
   "metadata": {},
   "source": [
    "Terlihat terdapat nilai yang negatif pada kolom Net Sales, namun untuk pengolahan data hanya akan menggunakan data yang positif sehingga data negatif akan didrop."
   ]
  },
  {
   "cell_type": "code",
   "execution_count": 24,
   "id": "eee42e32",
   "metadata": {},
   "outputs": [],
   "source": [
    "df.drop(df[df['Net Sales'] < 0].index, inplace=True)"
   ]
  },
  {
   "cell_type": "code",
   "execution_count": 25,
   "id": "fae22dec",
   "metadata": {},
   "outputs": [
    {
     "data": {
      "image/png": "[encoded data removed]",
      "text/plain": [
       "<Figure size 600x300 with 1 Axes>"
      ]
     },
     "metadata": {},
     "output_type": "display_data"
    }
   ],
   "source": [
    "plt.figure(figsize=(6,3))\n",
    "sns.boxplot(x=df['Net Sales'])\n",
    "plt.title('Boxplot Outlier in Net Sales')\n",
    "plt.show()"
   ]
  },
  {
   "cell_type": "markdown",
   "id": "00c44acc",
   "metadata": {},
   "source": [
    "Data Net Sales di atas 100 akan tetap digunakan karena masih masuk akal dengan konteks kolom Net Sales."
   ]
  },
  {
   "cell_type": "markdown",
   "id": "140d1163",
   "metadata": {},
   "source": [
    "##### Feature Commision (in value)"
   ]
  },
  {
   "cell_type": "code",
   "execution_count": 26,
   "id": "fed66546",
   "metadata": {},
   "outputs": [
    {
     "data": {
      "image/png": "[encoded data removed]",
      "text/plain": [
       "<Figure size 600x300 with 1 Axes>"
      ]
     },
     "metadata": {},
     "output_type": "display_data"
    }
   ],
   "source": [
    "plt.figure(figsize=(6,3))\n",
    "sns.boxplot(x=df['Net Sales'])\n",
    "plt.title('Boxplot Outlier in Commision')\n",
    "plt.show()"
   ]
  },
  {
   "cell_type": "markdown",
   "id": "7958b8df",
   "metadata": {},
   "source": [
    "Data Commision (in value) di atas 100 akan tetap digunakan karena masih masuk akal dengan konteks kolom Commision (in value)."
   ]
  },
  {
   "cell_type": "markdown",
   "id": "24dd65f3",
   "metadata": {},
   "source": [
    "##### Feature Age"
   ]
  },
  {
   "cell_type": "code",
   "execution_count": 27,
   "id": "f389f6ca",
   "metadata": {},
   "outputs": [
    {
     "data": {
      "image/png": "[encoded data removed]",
      "text/plain": [
       "<Figure size 600x300 with 1 Axes>"
      ]
     },
     "metadata": {},
     "output_type": "display_data"
    }
   ],
   "source": [
    "plt.figure(figsize=(6,3))\n",
    "sns.boxplot(x=df['Age'])\n",
    "plt.title('Boxplot Outlier in Age')\n",
    "plt.show()"
   ]
  },
  {
   "cell_type": "code",
   "execution_count": 28,
   "id": "7d607cdb",
   "metadata": {},
   "outputs": [
    {
     "data": {
      "application/vnd.microsoft.datawrangler.viewer.v0+json": {
       "columns": [
        {
         "name": "index",
         "rawType": "int64",
         "type": "integer"
        },
        {
         "name": "Agency",
         "rawType": "object",
         "type": "string"
        },
        {
         "name": "Agency Type",
         "rawType": "object",
         "type": "string"
        },
        {
         "name": "Distribution Channel",
         "rawType": "object",
         "type": "string"
        },
        {
         "name": "Product Name",
         "rawType": "object",
         "type": "string"
        },
        {
         "name": "Duration",
         "rawType": "int64",
         "type": "integer"
        },
        {
         "name": "Destination",
         "rawType": "object",
         "type": "string"
        },
        {
         "name": "Net Sales",
         "rawType": "float64",
         "type": "float"
        },
        {
         "name": "Commision (in value)",
         "rawType": "float64",
         "type": "float"
        },
        {
         "name": "Age",
         "rawType": "int64",
         "type": "integer"
        },
        {
         "name": "Claim",
         "rawType": "int64",
         "type": "integer"
        }
       ],
       "ref": "cf2a4e2f-2524-4af9-a861-ad7c770fbd6f",
       "rows": [
        [
         "99",
         "ART",
         "Airlines",
         "Online",
         "Value Plan",
         "7",
         "MALAYSIA",
         "29.0",
         "10.15",
         "118",
         "0"
        ],
        [
         "105",
         "JZI",
         "Airlines",
         "Offline",
         "Basic Plan",
         "16",
         "INDONESIA",
         "37.0",
         "12.95",
         "118",
         "0"
        ],
        [
         "363",
         "JWT",
         "Airlines",
         "Online",
         "Value Plan",
         "12",
         "INDIA",
         "39.0",
         "15.6",
         "118",
         "0"
        ],
        [
         "373",
         "JWT",
         "Airlines",
         "Online",
         "Value Plan",
         "6",
         "INDIA",
         "39.0",
         "15.6",
         "118",
         "0"
        ],
        [
         "727",
         "JWT",
         "Airlines",
         "Online",
         "Value Plan",
         "76",
         "INDIA",
         "100.0",
         "40.0",
         "118",
         "0"
        ],
        [
         "770",
         "JZI",
         "Airlines",
         "Online",
         "Value Plan",
         "45",
         "RUSSIAN FEDERATION",
         "208.0",
         "72.8",
         "118",
         "0"
        ],
        [
         "873",
         "ART",
         "Airlines",
         "Online",
         "Value Plan",
         "137",
         "HONG KONG",
         "61.0",
         "21.35",
         "118",
         "0"
        ],
        [
         "911",
         "JWT",
         "Airlines",
         "Online",
         "Value Plan",
         "11",
         "INDIA",
         "60.0",
         "24.0",
         "118",
         "0"
        ],
        [
         "1130",
         "JWT",
         "Airlines",
         "Online",
         "Value Plan",
         "6",
         "INDIA",
         "62.0",
         "24.8",
         "118",
         "0"
        ],
        [
         "1246",
         "JWT",
         "Airlines",
         "Online",
         "Value Plan",
         "11",
         "INDIA",
         "50.0",
         "20.0",
         "118",
         "0"
        ],
        [
         "1270",
         "ART",
         "Airlines",
         "Online",
         "Value Plan",
         "67",
         "PHILIPPINES",
         "29.0",
         "10.15",
         "118",
         "0"
        ],
        [
         "1281",
         "JWT",
         "Airlines",
         "Online",
         "Value Plan",
         "16",
         "INDIA",
         "39.0",
         "15.6",
         "118",
         "0"
        ],
        [
         "1350",
         "JWT",
         "Airlines",
         "Online",
         "Value Plan",
         "8",
         "INDIA",
         "39.0",
         "15.6",
         "118",
         "0"
        ],
        [
         "1379",
         "ART",
         "Airlines",
         "Online",
         "Value Plan",
         "15",
         "CHINA",
         "61.0",
         "21.35",
         "118",
         "0"
        ],
        [
         "1451",
         "JWT",
         "Airlines",
         "Online",
         "Value Plan",
         "43",
         "INDIA",
         "39.0",
         "15.6",
         "118",
         "0"
        ],
        [
         "1474",
         "JWT",
         "Airlines",
         "Online",
         "Value Plan",
         "94",
         "INDIA",
         "31.0",
         "12.4",
         "118",
         "0"
        ],
        [
         "1558",
         "JZI",
         "Airlines",
         "Online",
         "Value Plan",
         "23",
         "KOREA, REPUBLIC OF",
         "58.0",
         "20.3",
         "118",
         "0"
        ],
        [
         "1594",
         "JWT",
         "Airlines",
         "Online",
         "Value Plan",
         "15",
         "INDIA",
         "39.0",
         "15.6",
         "118",
         "0"
        ],
        [
         "1625",
         "JWT",
         "Airlines",
         "Online",
         "Value Plan",
         "9",
         "INDIA",
         "50.0",
         "20.0",
         "118",
         "0"
        ],
        [
         "1853",
         "JWT",
         "Airlines",
         "Online",
         "Value Plan",
         "0",
         "INDIA",
         "62.0",
         "24.8",
         "118",
         "0"
        ],
        [
         "1854",
         "CCR",
         "Travel Agency",
         "Offline",
         "Comprehensive Plan",
         "63",
         "THAILAND",
         "29.0",
         "9.57",
         "118",
         "0"
        ],
        [
         "1903",
         "JWT",
         "Airlines",
         "Online",
         "Value Plan",
         "48",
         "INDIA",
         "72.0",
         "28.8",
         "118",
         "0"
        ],
        [
         "1936",
         "JWT",
         "Airlines",
         "Online",
         "Value Plan",
         "52",
         "INDIA",
         "31.0",
         "12.4",
         "118",
         "0"
        ],
        [
         "1977",
         "JWT",
         "Airlines",
         "Online",
         "Value Plan",
         "23",
         "INDIA",
         "31.0",
         "12.4",
         "118",
         "0"
        ],
        [
         "2147",
         "JWT",
         "Airlines",
         "Online",
         "Value Plan",
         "40",
         "INDIA",
         "50.0",
         "20.0",
         "118",
         "0"
        ],
        [
         "2221",
         "JWT",
         "Airlines",
         "Online",
         "Value Plan",
         "51",
         "INDIA",
         "39.0",
         "15.6",
         "118",
         "0"
        ],
        [
         "2261",
         "JWT",
         "Airlines",
         "Online",
         "Value Plan",
         "38",
         "INDIA",
         "31.0",
         "12.4",
         "118",
         "0"
        ],
        [
         "2716",
         "JWT",
         "Airlines",
         "Online",
         "Value Plan",
         "14",
         "INDIA",
         "50.0",
         "20.0",
         "118",
         "0"
        ],
        [
         "2729",
         "JZI",
         "Airlines",
         "Online",
         "Basic Plan",
         "38",
         "THAILAND",
         "33.0",
         "11.55",
         "118",
         "0"
        ],
        [
         "2811",
         "JWT",
         "Airlines",
         "Online",
         "Value Plan",
         "29",
         "INDIA",
         "31.0",
         "12.4",
         "118",
         "0"
        ],
        [
         "2895",
         "JWT",
         "Airlines",
         "Online",
         "Value Plan",
         "1",
         "INDIA",
         "31.0",
         "12.4",
         "118",
         "0"
        ],
        [
         "3021",
         "JWT",
         "Airlines",
         "Online",
         "Value Plan",
         "9",
         "INDIA",
         "31.0",
         "12.4",
         "118",
         "0"
        ],
        [
         "3222",
         "JWT",
         "Airlines",
         "Online",
         "Value Plan",
         "33",
         "INDIA",
         "100.0",
         "40.0",
         "118",
         "0"
        ],
        [
         "3456",
         "JZI",
         "Airlines",
         "Online",
         "Basic Plan",
         "35",
         "THAILAND",
         "22.0",
         "7.7",
         "118",
         "0"
        ],
        [
         "3525",
         "JWT",
         "Airlines",
         "Online",
         "Value Plan",
         "112",
         "INDIA",
         "120.0",
         "48.0",
         "118",
         "0"
        ],
        [
         "3705",
         "ART",
         "Airlines",
         "Online",
         "Value Plan",
         "32",
         "THAILAND",
         "29.0",
         "10.15",
         "118",
         "0"
        ],
        [
         "3753",
         "JWT",
         "Airlines",
         "Online",
         "Value Plan",
         "0",
         "INDIA",
         "31.0",
         "12.4",
         "118",
         "0"
        ],
        [
         "3757",
         "JWT",
         "Airlines",
         "Online",
         "Value Plan",
         "6",
         "INDIA",
         "31.0",
         "12.4",
         "118",
         "0"
        ],
        [
         "3961",
         "CCR",
         "Travel Agency",
         "Offline",
         "Comprehensive Plan",
         "8",
         "THAILAND",
         "29.0",
         "9.57",
         "118",
         "0"
        ],
        [
         "4133",
         "JWT",
         "Airlines",
         "Online",
         "Value Plan",
         "5",
         "INDIA",
         "31.0",
         "12.4",
         "118",
         "0"
        ],
        [
         "4140",
         "JWT",
         "Airlines",
         "Online",
         "Value Plan",
         "25",
         "INDIA",
         "31.0",
         "12.4",
         "118",
         "0"
        ],
        [
         "4192",
         "JWT",
         "Airlines",
         "Online",
         "Value Plan",
         "24",
         "INDIA",
         "31.0",
         "12.4",
         "118",
         "0"
        ],
        [
         "4207",
         "JWT",
         "Airlines",
         "Online",
         "Value Plan",
         "32",
         "INDIA",
         "78.0",
         "31.2",
         "118",
         "0"
        ],
        [
         "4408",
         "JWT",
         "Airlines",
         "Online",
         "Value Plan",
         "18",
         "INDIA",
         "31.0",
         "12.4",
         "118",
         "0"
        ],
        [
         "4462",
         "JWT",
         "Airlines",
         "Online",
         "Value Plan",
         "49",
         "INDIA",
         "31.0",
         "12.4",
         "118",
         "0"
        ],
        [
         "4504",
         "JWT",
         "Airlines",
         "Online",
         "Value Plan",
         "257",
         "INDIA",
         "50.0",
         "20.0",
         "118",
         "0"
        ],
        [
         "4509",
         "JWT",
         "Airlines",
         "Online",
         "Value Plan",
         "16",
         "INDIA",
         "31.0",
         "12.4",
         "118",
         "0"
        ],
        [
         "4734",
         "JWT",
         "Airlines",
         "Online",
         "Value Plan",
         "77",
         "INDIA",
         "60.0",
         "24.0",
         "118",
         "0"
        ],
        [
         "4743",
         "JZI",
         "Airlines",
         "Online",
         "Basic Plan",
         "5",
         "MYANMAR",
         "22.0",
         "7.7",
         "118",
         "0"
        ],
        [
         "4854",
         "CCR",
         "Travel Agency",
         "Offline",
         "Comprehensive Plan",
         "94",
         "MALAYSIA",
         "29.0",
         "9.57",
         "118",
         "0"
        ]
       ],
       "shape": {
        "columns": 10,
        "rows": 414
       }
      },
      "text/html": [
       "<div>\n",
       "<style scoped>\n",
       "    .dataframe tbody tr th:only-of-type {\n",
       "        vertical-align: middle;\n",
       "    }\n",
       "\n",
       "    .dataframe tbody tr th {\n",
       "        vertical-align: top;\n",
       "    }\n",
       "\n",
       "    .dataframe thead th {\n",
       "        text-align: right;\n",
       "    }\n",
       "</style>\n",
       "<table border=\"1\" class=\"dataframe\">\n",
       "  <thead>\n",
       "    <tr style=\"text-align: right;\">\n",
       "      <th></th>\n",
       "      <th>Agency</th>\n",
       "      <th>Agency Type</th>\n",
       "      <th>Distribution Channel</th>\n",
       "      <th>Product Name</th>\n",
       "      <th>Duration</th>\n",
       "      <th>Destination</th>\n",
       "      <th>Net Sales</th>\n",
       "      <th>Commision (in value)</th>\n",
       "      <th>Age</th>\n",
       "      <th>Claim</th>\n",
       "    </tr>\n",
       "  </thead>\n",
       "  <tbody>\n",
       "    <tr>\n",
       "      <th>99</th>\n",
       "      <td>ART</td>\n",
       "      <td>Airlines</td>\n",
       "      <td>Online</td>\n",
       "      <td>Value Plan</td>\n",
       "      <td>7</td>\n",
       "      <td>MALAYSIA</td>\n",
       "      <td>29.0</td>\n",
       "      <td>10.15</td>\n",
       "      <td>118</td>\n",
       "      <td>0</td>\n",
       "    </tr>\n",
       "    <tr>\n",
       "      <th>105</th>\n",
       "      <td>JZI</td>\n",
       "      <td>Airlines</td>\n",
       "      <td>Offline</td>\n",
       "      <td>Basic Plan</td>\n",
       "      <td>16</td>\n",
       "      <td>INDONESIA</td>\n",
       "      <td>37.0</td>\n",
       "      <td>12.95</td>\n",
       "      <td>118</td>\n",
       "      <td>0</td>\n",
       "    </tr>\n",
       "    <tr>\n",
       "      <th>363</th>\n",
       "      <td>JWT</td>\n",
       "      <td>Airlines</td>\n",
       "      <td>Online</td>\n",
       "      <td>Value Plan</td>\n",
       "      <td>12</td>\n",
       "      <td>INDIA</td>\n",
       "      <td>39.0</td>\n",
       "      <td>15.60</td>\n",
       "      <td>118</td>\n",
       "      <td>0</td>\n",
       "    </tr>\n",
       "    <tr>\n",
       "      <th>373</th>\n",
       "      <td>JWT</td>\n",
       "      <td>Airlines</td>\n",
       "      <td>Online</td>\n",
       "      <td>Value Plan</td>\n",
       "      <td>6</td>\n",
       "      <td>INDIA</td>\n",
       "      <td>39.0</td>\n",
       "      <td>15.60</td>\n",
       "      <td>118</td>\n",
       "      <td>0</td>\n",
       "    </tr>\n",
       "    <tr>\n",
       "      <th>727</th>\n",
       "      <td>JWT</td>\n",
       "      <td>Airlines</td>\n",
       "      <td>Online</td>\n",
       "      <td>Value Plan</td>\n",
       "      <td>76</td>\n",
       "      <td>INDIA</td>\n",
       "      <td>100.0</td>\n",
       "      <td>40.00</td>\n",
       "      <td>118</td>\n",
       "      <td>0</td>\n",
       "    </tr>\n",
       "    <tr>\n",
       "      <th>...</th>\n",
       "      <td>...</td>\n",
       "      <td>...</td>\n",
       "      <td>...</td>\n",
       "      <td>...</td>\n",
       "      <td>...</td>\n",
       "      <td>...</td>\n",
       "      <td>...</td>\n",
       "      <td>...</td>\n",
       "      <td>...</td>\n",
       "      <td>...</td>\n",
       "    </tr>\n",
       "    <tr>\n",
       "      <th>43838</th>\n",
       "      <td>JWT</td>\n",
       "      <td>Airlines</td>\n",
       "      <td>Online</td>\n",
       "      <td>Value Plan</td>\n",
       "      <td>67</td>\n",
       "      <td>INDIA</td>\n",
       "      <td>200.0</td>\n",
       "      <td>80.00</td>\n",
       "      <td>118</td>\n",
       "      <td>0</td>\n",
       "    </tr>\n",
       "    <tr>\n",
       "      <th>43856</th>\n",
       "      <td>JWT</td>\n",
       "      <td>Airlines</td>\n",
       "      <td>Online</td>\n",
       "      <td>Value Plan</td>\n",
       "      <td>10</td>\n",
       "      <td>INDIA</td>\n",
       "      <td>50.0</td>\n",
       "      <td>20.00</td>\n",
       "      <td>118</td>\n",
       "      <td>1</td>\n",
       "    </tr>\n",
       "    <tr>\n",
       "      <th>43928</th>\n",
       "      <td>JWT</td>\n",
       "      <td>Airlines</td>\n",
       "      <td>Online</td>\n",
       "      <td>Value Plan</td>\n",
       "      <td>83</td>\n",
       "      <td>INDIA</td>\n",
       "      <td>180.0</td>\n",
       "      <td>72.00</td>\n",
       "      <td>118</td>\n",
       "      <td>0</td>\n",
       "    </tr>\n",
       "    <tr>\n",
       "      <th>44089</th>\n",
       "      <td>JWT</td>\n",
       "      <td>Airlines</td>\n",
       "      <td>Online</td>\n",
       "      <td>Value Plan</td>\n",
       "      <td>42</td>\n",
       "      <td>INDIA</td>\n",
       "      <td>31.0</td>\n",
       "      <td>12.40</td>\n",
       "      <td>118</td>\n",
       "      <td>0</td>\n",
       "    </tr>\n",
       "    <tr>\n",
       "      <th>44140</th>\n",
       "      <td>JWT</td>\n",
       "      <td>Airlines</td>\n",
       "      <td>Online</td>\n",
       "      <td>Value Plan</td>\n",
       "      <td>84</td>\n",
       "      <td>INDIA</td>\n",
       "      <td>93.0</td>\n",
       "      <td>37.20</td>\n",
       "      <td>118</td>\n",
       "      <td>0</td>\n",
       "    </tr>\n",
       "  </tbody>\n",
       "</table>\n",
       "<p>414 rows × 10 columns</p>\n",
       "</div>"
      ],
      "text/plain": [
       "      Agency Agency Type Distribution Channel Product Name  Duration  \\\n",
       "99     ART    Airlines    Online               Value Plan   7          \n",
       "105    JZI    Airlines    Offline              Basic Plan   16         \n",
       "363    JWT    Airlines    Online               Value Plan   12         \n",
       "373    JWT    Airlines    Online               Value Plan   6          \n",
       "727    JWT    Airlines    Online               Value Plan   76         \n",
       "...    ...         ...       ...                      ...   ..         \n",
       "43838  JWT    Airlines    Online               Value Plan   67         \n",
       "43856  JWT    Airlines    Online               Value Plan   10         \n",
       "43928  JWT    Airlines    Online               Value Plan   83         \n",
       "44089  JWT    Airlines    Online               Value Plan   42         \n",
       "44140  JWT    Airlines    Online               Value Plan   84         \n",
       "\n",
       "      Destination  Net Sales  Commision (in value)  Age  Claim  \n",
       "99     MALAYSIA    29.0       10.15                 118  0      \n",
       "105    INDONESIA   37.0       12.95                 118  0      \n",
       "363    INDIA       39.0       15.60                 118  0      \n",
       "373    INDIA       39.0       15.60                 118  0      \n",
       "727    INDIA       100.0      40.00                 118  0      \n",
       "...      ...         ...        ...                 ... ..      \n",
       "43838  INDIA       200.0      80.00                 118  0      \n",
       "43856  INDIA       50.0       20.00                 118  1      \n",
       "43928  INDIA       180.0      72.00                 118  0      \n",
       "44089  INDIA       31.0       12.40                 118  0      \n",
       "44140  INDIA       93.0       37.20                 118  0      \n",
       "\n",
       "[414 rows x 10 columns]"
      ]
     },
     "execution_count": 28,
     "metadata": {},
     "output_type": "execute_result"
    }
   ],
   "source": [
    "df[(df['Age']>100)]"
   ]
  },
  {
   "cell_type": "code",
   "execution_count": 29,
   "id": "0876e739",
   "metadata": {},
   "outputs": [
    {
     "data": {
      "application/vnd.microsoft.datawrangler.viewer.v0+json": {
       "columns": [
        {
         "name": "index",
         "rawType": "int64",
         "type": "integer"
        },
        {
         "name": "Agency",
         "rawType": "object",
         "type": "string"
        },
        {
         "name": "Agency Type",
         "rawType": "object",
         "type": "string"
        },
        {
         "name": "Distribution Channel",
         "rawType": "object",
         "type": "string"
        },
        {
         "name": "Product Name",
         "rawType": "object",
         "type": "string"
        },
        {
         "name": "Duration",
         "rawType": "int64",
         "type": "integer"
        },
        {
         "name": "Destination",
         "rawType": "object",
         "type": "string"
        },
        {
         "name": "Net Sales",
         "rawType": "float64",
         "type": "float"
        },
        {
         "name": "Commision (in value)",
         "rawType": "float64",
         "type": "float"
        },
        {
         "name": "Age",
         "rawType": "int64",
         "type": "integer"
        },
        {
         "name": "Claim",
         "rawType": "int64",
         "type": "integer"
        }
       ],
       "ref": "a66e5c24-1837-4eb2-a18d-ed8271e5d977",
       "rows": [
        [
         "5398",
         "JWT",
         "Airlines",
         "Online",
         "Value Plan",
         "25",
         "INDIA",
         "78.0",
         "31.2",
         "118",
         "1"
        ],
        [
         "11377",
         "EPX",
         "Travel Agency",
         "Offline",
         "2 way Comprehensive Plan",
         "20",
         "AUSTRALIA",
         "37.0",
         "0.0",
         "118",
         "1"
        ],
        [
         "15158",
         "EPX",
         "Travel Agency",
         "Offline",
         "1 way Comprehensive Plan",
         "18",
         "CHINA",
         "33.0",
         "0.0",
         "118",
         "1"
        ],
        [
         "24732",
         "JWT",
         "Airlines",
         "Online",
         "Value Plan",
         "81",
         "INDIA",
         "124.0",
         "49.6",
         "118",
         "1"
        ],
        [
         "32456",
         "CCR",
         "Travel Agency",
         "Offline",
         "Comprehensive Plan",
         "15",
         "THAILAND",
         "29.0",
         "9.57",
         "118",
         "1"
        ],
        [
         "35061",
         "JWT",
         "Airlines",
         "Online",
         "Value Plan",
         "51",
         "INDIA",
         "78.0",
         "31.2",
         "118",
         "1"
        ],
        [
         "43856",
         "JWT",
         "Airlines",
         "Online",
         "Value Plan",
         "10",
         "INDIA",
         "50.0",
         "20.0",
         "118",
         "1"
        ]
       ],
       "shape": {
        "columns": 10,
        "rows": 7
       }
      },
      "text/html": [
       "<div>\n",
       "<style scoped>\n",
       "    .dataframe tbody tr th:only-of-type {\n",
       "        vertical-align: middle;\n",
       "    }\n",
       "\n",
       "    .dataframe tbody tr th {\n",
       "        vertical-align: top;\n",
       "    }\n",
       "\n",
       "    .dataframe thead th {\n",
       "        text-align: right;\n",
       "    }\n",
       "</style>\n",
       "<table border=\"1\" class=\"dataframe\">\n",
       "  <thead>\n",
       "    <tr style=\"text-align: right;\">\n",
       "      <th></th>\n",
       "      <th>Agency</th>\n",
       "      <th>Agency Type</th>\n",
       "      <th>Distribution Channel</th>\n",
       "      <th>Product Name</th>\n",
       "      <th>Duration</th>\n",
       "      <th>Destination</th>\n",
       "      <th>Net Sales</th>\n",
       "      <th>Commision (in value)</th>\n",
       "      <th>Age</th>\n",
       "      <th>Claim</th>\n",
       "    </tr>\n",
       "  </thead>\n",
       "  <tbody>\n",
       "    <tr>\n",
       "      <th>5398</th>\n",
       "      <td>JWT</td>\n",
       "      <td>Airlines</td>\n",
       "      <td>Online</td>\n",
       "      <td>Value Plan</td>\n",
       "      <td>25</td>\n",
       "      <td>INDIA</td>\n",
       "      <td>78.0</td>\n",
       "      <td>31.20</td>\n",
       "      <td>118</td>\n",
       "      <td>1</td>\n",
       "    </tr>\n",
       "    <tr>\n",
       "      <th>11377</th>\n",
       "      <td>EPX</td>\n",
       "      <td>Travel Agency</td>\n",
       "      <td>Offline</td>\n",
       "      <td>2 way Comprehensive Plan</td>\n",
       "      <td>20</td>\n",
       "      <td>AUSTRALIA</td>\n",
       "      <td>37.0</td>\n",
       "      <td>0.00</td>\n",
       "      <td>118</td>\n",
       "      <td>1</td>\n",
       "    </tr>\n",
       "    <tr>\n",
       "      <th>15158</th>\n",
       "      <td>EPX</td>\n",
       "      <td>Travel Agency</td>\n",
       "      <td>Offline</td>\n",
       "      <td>1 way Comprehensive Plan</td>\n",
       "      <td>18</td>\n",
       "      <td>CHINA</td>\n",
       "      <td>33.0</td>\n",
       "      <td>0.00</td>\n",
       "      <td>118</td>\n",
       "      <td>1</td>\n",
       "    </tr>\n",
       "    <tr>\n",
       "      <th>24732</th>\n",
       "      <td>JWT</td>\n",
       "      <td>Airlines</td>\n",
       "      <td>Online</td>\n",
       "      <td>Value Plan</td>\n",
       "      <td>81</td>\n",
       "      <td>INDIA</td>\n",
       "      <td>124.0</td>\n",
       "      <td>49.60</td>\n",
       "      <td>118</td>\n",
       "      <td>1</td>\n",
       "    </tr>\n",
       "    <tr>\n",
       "      <th>32456</th>\n",
       "      <td>CCR</td>\n",
       "      <td>Travel Agency</td>\n",
       "      <td>Offline</td>\n",
       "      <td>Comprehensive Plan</td>\n",
       "      <td>15</td>\n",
       "      <td>THAILAND</td>\n",
       "      <td>29.0</td>\n",
       "      <td>9.57</td>\n",
       "      <td>118</td>\n",
       "      <td>1</td>\n",
       "    </tr>\n",
       "    <tr>\n",
       "      <th>35061</th>\n",
       "      <td>JWT</td>\n",
       "      <td>Airlines</td>\n",
       "      <td>Online</td>\n",
       "      <td>Value Plan</td>\n",
       "      <td>51</td>\n",
       "      <td>INDIA</td>\n",
       "      <td>78.0</td>\n",
       "      <td>31.20</td>\n",
       "      <td>118</td>\n",
       "      <td>1</td>\n",
       "    </tr>\n",
       "    <tr>\n",
       "      <th>43856</th>\n",
       "      <td>JWT</td>\n",
       "      <td>Airlines</td>\n",
       "      <td>Online</td>\n",
       "      <td>Value Plan</td>\n",
       "      <td>10</td>\n",
       "      <td>INDIA</td>\n",
       "      <td>50.0</td>\n",
       "      <td>20.00</td>\n",
       "      <td>118</td>\n",
       "      <td>1</td>\n",
       "    </tr>\n",
       "  </tbody>\n",
       "</table>\n",
       "</div>"
      ],
      "text/plain": [
       "      Agency    Agency Type Distribution Channel              Product Name  \\\n",
       "5398   JWT    Airlines       Online               Value Plan                 \n",
       "11377  EPX    Travel Agency  Offline              2 way Comprehensive Plan   \n",
       "15158  EPX    Travel Agency  Offline              1 way Comprehensive Plan   \n",
       "24732  JWT    Airlines       Online               Value Plan                 \n",
       "32456  CCR    Travel Agency  Offline              Comprehensive Plan         \n",
       "35061  JWT    Airlines       Online               Value Plan                 \n",
       "43856  JWT    Airlines       Online               Value Plan                 \n",
       "\n",
       "       Duration Destination  Net Sales  Commision (in value)  Age  Claim  \n",
       "5398   25        INDIA       78.0       31.20                 118  1      \n",
       "11377  20        AUSTRALIA   37.0       0.00                  118  1      \n",
       "15158  18        CHINA       33.0       0.00                  118  1      \n",
       "24732  81        INDIA       124.0      49.60                 118  1      \n",
       "32456  15        THAILAND    29.0       9.57                  118  1      \n",
       "35061  51        INDIA       78.0       31.20                 118  1      \n",
       "43856  10        INDIA       50.0       20.00                 118  1      "
      ]
     },
     "execution_count": 29,
     "metadata": {},
     "output_type": "execute_result"
    }
   ],
   "source": [
    "df[(df['Age']>100) & (df['Claim']==1)]"
   ]
  },
  {
   "cell_type": "markdown",
   "id": "bf31e3d4",
   "metadata": {},
   "source": [
    "Data kolom Age yang di atas 100 yang tidak klaim asuransi akan didrop."
   ]
  },
  {
   "cell_type": "code",
   "execution_count": 30,
   "id": "4e15e4f3",
   "metadata": {},
   "outputs": [],
   "source": [
    "df.drop(df[(df['Age'] > 100) & (df['Claim']==0)].index, inplace=True)"
   ]
  },
  {
   "cell_type": "code",
   "execution_count": 31,
   "id": "50178dac",
   "metadata": {},
   "outputs": [
    {
     "data": {
      "application/vnd.microsoft.datawrangler.viewer.v0+json": {
       "columns": [
        {
         "name": "index",
         "rawType": "int64",
         "type": "integer"
        },
        {
         "name": "Agency",
         "rawType": "object",
         "type": "string"
        },
        {
         "name": "Agency Type",
         "rawType": "object",
         "type": "string"
        },
        {
         "name": "Distribution Channel",
         "rawType": "object",
         "type": "string"
        },
        {
         "name": "Product Name",
         "rawType": "object",
         "type": "string"
        },
        {
         "name": "Duration",
         "rawType": "int64",
         "type": "integer"
        },
        {
         "name": "Destination",
         "rawType": "object",
         "type": "string"
        },
        {
         "name": "Net Sales",
         "rawType": "float64",
         "type": "float"
        },
        {
         "name": "Commision (in value)",
         "rawType": "float64",
         "type": "float"
        },
        {
         "name": "Age",
         "rawType": "int64",
         "type": "integer"
        },
        {
         "name": "Claim",
         "rawType": "int64",
         "type": "integer"
        }
       ],
       "ref": "86e257be-381b-435c-a30a-de5d12a2ab70",
       "rows": [
        [
         "5398",
         "JWT",
         "Airlines",
         "Online",
         "Value Plan",
         "25",
         "INDIA",
         "78.0",
         "31.2",
         "118",
         "1"
        ],
        [
         "11377",
         "EPX",
         "Travel Agency",
         "Offline",
         "2 way Comprehensive Plan",
         "20",
         "AUSTRALIA",
         "37.0",
         "0.0",
         "118",
         "1"
        ],
        [
         "15158",
         "EPX",
         "Travel Agency",
         "Offline",
         "1 way Comprehensive Plan",
         "18",
         "CHINA",
         "33.0",
         "0.0",
         "118",
         "1"
        ],
        [
         "24732",
         "JWT",
         "Airlines",
         "Online",
         "Value Plan",
         "81",
         "INDIA",
         "124.0",
         "49.6",
         "118",
         "1"
        ],
        [
         "32456",
         "CCR",
         "Travel Agency",
         "Offline",
         "Comprehensive Plan",
         "15",
         "THAILAND",
         "29.0",
         "9.57",
         "118",
         "1"
        ],
        [
         "35061",
         "JWT",
         "Airlines",
         "Online",
         "Value Plan",
         "51",
         "INDIA",
         "78.0",
         "31.2",
         "118",
         "1"
        ],
        [
         "43856",
         "JWT",
         "Airlines",
         "Online",
         "Value Plan",
         "10",
         "INDIA",
         "50.0",
         "20.0",
         "118",
         "1"
        ]
       ],
       "shape": {
        "columns": 10,
        "rows": 7
       }
      },
      "text/html": [
       "<div>\n",
       "<style scoped>\n",
       "    .dataframe tbody tr th:only-of-type {\n",
       "        vertical-align: middle;\n",
       "    }\n",
       "\n",
       "    .dataframe tbody tr th {\n",
       "        vertical-align: top;\n",
       "    }\n",
       "\n",
       "    .dataframe thead th {\n",
       "        text-align: right;\n",
       "    }\n",
       "</style>\n",
       "<table border=\"1\" class=\"dataframe\">\n",
       "  <thead>\n",
       "    <tr style=\"text-align: right;\">\n",
       "      <th></th>\n",
       "      <th>Agency</th>\n",
       "      <th>Agency Type</th>\n",
       "      <th>Distribution Channel</th>\n",
       "      <th>Product Name</th>\n",
       "      <th>Duration</th>\n",
       "      <th>Destination</th>\n",
       "      <th>Net Sales</th>\n",
       "      <th>Commision (in value)</th>\n",
       "      <th>Age</th>\n",
       "      <th>Claim</th>\n",
       "    </tr>\n",
       "  </thead>\n",
       "  <tbody>\n",
       "    <tr>\n",
       "      <th>5398</th>\n",
       "      <td>JWT</td>\n",
       "      <td>Airlines</td>\n",
       "      <td>Online</td>\n",
       "      <td>Value Plan</td>\n",
       "      <td>25</td>\n",
       "      <td>INDIA</td>\n",
       "      <td>78.0</td>\n",
       "      <td>31.20</td>\n",
       "      <td>118</td>\n",
       "      <td>1</td>\n",
       "    </tr>\n",
       "    <tr>\n",
       "      <th>11377</th>\n",
       "      <td>EPX</td>\n",
       "      <td>Travel Agency</td>\n",
       "      <td>Offline</td>\n",
       "      <td>2 way Comprehensive Plan</td>\n",
       "      <td>20</td>\n",
       "      <td>AUSTRALIA</td>\n",
       "      <td>37.0</td>\n",
       "      <td>0.00</td>\n",
       "      <td>118</td>\n",
       "      <td>1</td>\n",
       "    </tr>\n",
       "    <tr>\n",
       "      <th>15158</th>\n",
       "      <td>EPX</td>\n",
       "      <td>Travel Agency</td>\n",
       "      <td>Offline</td>\n",
       "      <td>1 way Comprehensive Plan</td>\n",
       "      <td>18</td>\n",
       "      <td>CHINA</td>\n",
       "      <td>33.0</td>\n",
       "      <td>0.00</td>\n",
       "      <td>118</td>\n",
       "      <td>1</td>\n",
       "    </tr>\n",
       "    <tr>\n",
       "      <th>24732</th>\n",
       "      <td>JWT</td>\n",
       "      <td>Airlines</td>\n",
       "      <td>Online</td>\n",
       "      <td>Value Plan</td>\n",
       "      <td>81</td>\n",
       "      <td>INDIA</td>\n",
       "      <td>124.0</td>\n",
       "      <td>49.60</td>\n",
       "      <td>118</td>\n",
       "      <td>1</td>\n",
       "    </tr>\n",
       "    <tr>\n",
       "      <th>32456</th>\n",
       "      <td>CCR</td>\n",
       "      <td>Travel Agency</td>\n",
       "      <td>Offline</td>\n",
       "      <td>Comprehensive Plan</td>\n",
       "      <td>15</td>\n",
       "      <td>THAILAND</td>\n",
       "      <td>29.0</td>\n",
       "      <td>9.57</td>\n",
       "      <td>118</td>\n",
       "      <td>1</td>\n",
       "    </tr>\n",
       "    <tr>\n",
       "      <th>35061</th>\n",
       "      <td>JWT</td>\n",
       "      <td>Airlines</td>\n",
       "      <td>Online</td>\n",
       "      <td>Value Plan</td>\n",
       "      <td>51</td>\n",
       "      <td>INDIA</td>\n",
       "      <td>78.0</td>\n",
       "      <td>31.20</td>\n",
       "      <td>118</td>\n",
       "      <td>1</td>\n",
       "    </tr>\n",
       "    <tr>\n",
       "      <th>43856</th>\n",
       "      <td>JWT</td>\n",
       "      <td>Airlines</td>\n",
       "      <td>Online</td>\n",
       "      <td>Value Plan</td>\n",
       "      <td>10</td>\n",
       "      <td>INDIA</td>\n",
       "      <td>50.0</td>\n",
       "      <td>20.00</td>\n",
       "      <td>118</td>\n",
       "      <td>1</td>\n",
       "    </tr>\n",
       "  </tbody>\n",
       "</table>\n",
       "</div>"
      ],
      "text/plain": [
       "      Agency    Agency Type Distribution Channel              Product Name  \\\n",
       "5398   JWT    Airlines       Online               Value Plan                 \n",
       "11377  EPX    Travel Agency  Offline              2 way Comprehensive Plan   \n",
       "15158  EPX    Travel Agency  Offline              1 way Comprehensive Plan   \n",
       "24732  JWT    Airlines       Online               Value Plan                 \n",
       "32456  CCR    Travel Agency  Offline              Comprehensive Plan         \n",
       "35061  JWT    Airlines       Online               Value Plan                 \n",
       "43856  JWT    Airlines       Online               Value Plan                 \n",
       "\n",
       "       Duration Destination  Net Sales  Commision (in value)  Age  Claim  \n",
       "5398   25        INDIA       78.0       31.20                 118  1      \n",
       "11377  20        AUSTRALIA   37.0       0.00                  118  1      \n",
       "15158  18        CHINA       33.0       0.00                  118  1      \n",
       "24732  81        INDIA       124.0      49.60                 118  1      \n",
       "32456  15        THAILAND    29.0       9.57                  118  1      \n",
       "35061  51        INDIA       78.0       31.20                 118  1      \n",
       "43856  10        INDIA       50.0       20.00                 118  1      "
      ]
     },
     "execution_count": 31,
     "metadata": {},
     "output_type": "execute_result"
    }
   ],
   "source": [
    "df[(df['Age']>100)]"
   ]
  },
  {
   "cell_type": "markdown",
   "id": "8636611e",
   "metadata": {},
   "source": [
    "Lalu akan dilakukan Binning untuk mengelompokkan umur."
   ]
  },
  {
   "cell_type": "code",
   "execution_count": 32,
   "id": "97ee0c25",
   "metadata": {},
   "outputs": [],
   "source": [
    "bins = [0, 18, 35, 50, 65, 100]\n",
    "labels = ['<18', '18-35', '36-50', '51-65', '65+']\n",
    "df['AgeGroup'] = pd.cut(df['Age'], bins=bins, labels=labels)"
   ]
  },
  {
   "cell_type": "code",
   "execution_count": 33,
   "id": "cf2a45d0",
   "metadata": {},
   "outputs": [
    {
     "data": {
      "application/vnd.microsoft.datawrangler.viewer.v0+json": {
       "columns": [
        {
         "name": "index",
         "rawType": "int64",
         "type": "integer"
        },
        {
         "name": "Agency",
         "rawType": "object",
         "type": "string"
        },
        {
         "name": "Agency Type",
         "rawType": "object",
         "type": "string"
        },
        {
         "name": "Distribution Channel",
         "rawType": "object",
         "type": "string"
        },
        {
         "name": "Product Name",
         "rawType": "object",
         "type": "string"
        },
        {
         "name": "Duration",
         "rawType": "int64",
         "type": "integer"
        },
        {
         "name": "Destination",
         "rawType": "object",
         "type": "string"
        },
        {
         "name": "Net Sales",
         "rawType": "float64",
         "type": "float"
        },
        {
         "name": "Commision (in value)",
         "rawType": "float64",
         "type": "float"
        },
        {
         "name": "Age",
         "rawType": "int64",
         "type": "integer"
        },
        {
         "name": "Claim",
         "rawType": "int64",
         "type": "integer"
        },
        {
         "name": "AgeGroup",
         "rawType": "category",
         "type": "unknown"
        }
       ],
       "ref": "6af9dec8-b4ef-4747-9d05-c479d2c206d0",
       "rows": [
        [
         "0",
         "C2B",
         "Airlines",
         "Online",
         "Annual Silver Plan",
         "365",
         "SINGAPORE",
         "216.0",
         "54.0",
         "57",
         "0",
         "51-65"
        ],
        [
         "1",
         "EPX",
         "Travel Agency",
         "Online",
         "Cancellation Plan",
         "4",
         "MALAYSIA",
         "10.0",
         "0.0",
         "33",
         "0",
         "18-35"
        ],
        [
         "2",
         "JZI",
         "Airlines",
         "Online",
         "Basic Plan",
         "19",
         "INDIA",
         "22.0",
         "7.7",
         "26",
         "0",
         "18-35"
        ],
        [
         "3",
         "EPX",
         "Travel Agency",
         "Online",
         "2 way Comprehensive Plan",
         "20",
         "UNITED STATES",
         "112.0",
         "0.0",
         "59",
         "0",
         "51-65"
        ],
        [
         "4",
         "C2B",
         "Airlines",
         "Online",
         "Bronze Plan",
         "8",
         "SINGAPORE",
         "16.0",
         "4.0",
         "28",
         "0",
         "18-35"
        ]
       ],
       "shape": {
        "columns": 11,
        "rows": 5
       }
      },
      "text/html": [
       "<div>\n",
       "<style scoped>\n",
       "    .dataframe tbody tr th:only-of-type {\n",
       "        vertical-align: middle;\n",
       "    }\n",
       "\n",
       "    .dataframe tbody tr th {\n",
       "        vertical-align: top;\n",
       "    }\n",
       "\n",
       "    .dataframe thead th {\n",
       "        text-align: right;\n",
       "    }\n",
       "</style>\n",
       "<table border=\"1\" class=\"dataframe\">\n",
       "  <thead>\n",
       "    <tr style=\"text-align: right;\">\n",
       "      <th></th>\n",
       "      <th>Agency</th>\n",
       "      <th>Agency Type</th>\n",
       "      <th>Distribution Channel</th>\n",
       "      <th>Product Name</th>\n",
       "      <th>Duration</th>\n",
       "      <th>Destination</th>\n",
       "      <th>Net Sales</th>\n",
       "      <th>Commision (in value)</th>\n",
       "      <th>Age</th>\n",
       "      <th>Claim</th>\n",
       "      <th>AgeGroup</th>\n",
       "    </tr>\n",
       "  </thead>\n",
       "  <tbody>\n",
       "    <tr>\n",
       "      <th>0</th>\n",
       "      <td>C2B</td>\n",
       "      <td>Airlines</td>\n",
       "      <td>Online</td>\n",
       "      <td>Annual Silver Plan</td>\n",
       "      <td>365</td>\n",
       "      <td>SINGAPORE</td>\n",
       "      <td>216.0</td>\n",
       "      <td>54.0</td>\n",
       "      <td>57</td>\n",
       "      <td>0</td>\n",
       "      <td>51-65</td>\n",
       "    </tr>\n",
       "    <tr>\n",
       "      <th>1</th>\n",
       "      <td>EPX</td>\n",
       "      <td>Travel Agency</td>\n",
       "      <td>Online</td>\n",
       "      <td>Cancellation Plan</td>\n",
       "      <td>4</td>\n",
       "      <td>MALAYSIA</td>\n",
       "      <td>10.0</td>\n",
       "      <td>0.0</td>\n",
       "      <td>33</td>\n",
       "      <td>0</td>\n",
       "      <td>18-35</td>\n",
       "    </tr>\n",
       "    <tr>\n",
       "      <th>2</th>\n",
       "      <td>JZI</td>\n",
       "      <td>Airlines</td>\n",
       "      <td>Online</td>\n",
       "      <td>Basic Plan</td>\n",
       "      <td>19</td>\n",
       "      <td>INDIA</td>\n",
       "      <td>22.0</td>\n",
       "      <td>7.7</td>\n",
       "      <td>26</td>\n",
       "      <td>0</td>\n",
       "      <td>18-35</td>\n",
       "    </tr>\n",
       "    <tr>\n",
       "      <th>3</th>\n",
       "      <td>EPX</td>\n",
       "      <td>Travel Agency</td>\n",
       "      <td>Online</td>\n",
       "      <td>2 way Comprehensive Plan</td>\n",
       "      <td>20</td>\n",
       "      <td>UNITED STATES</td>\n",
       "      <td>112.0</td>\n",
       "      <td>0.0</td>\n",
       "      <td>59</td>\n",
       "      <td>0</td>\n",
       "      <td>51-65</td>\n",
       "    </tr>\n",
       "    <tr>\n",
       "      <th>4</th>\n",
       "      <td>C2B</td>\n",
       "      <td>Airlines</td>\n",
       "      <td>Online</td>\n",
       "      <td>Bronze Plan</td>\n",
       "      <td>8</td>\n",
       "      <td>SINGAPORE</td>\n",
       "      <td>16.0</td>\n",
       "      <td>4.0</td>\n",
       "      <td>28</td>\n",
       "      <td>0</td>\n",
       "      <td>18-35</td>\n",
       "    </tr>\n",
       "  </tbody>\n",
       "</table>\n",
       "</div>"
      ],
      "text/plain": [
       "  Agency    Agency Type Distribution Channel              Product Name  \\\n",
       "0  C2B    Airlines       Online               Annual Silver Plan         \n",
       "1  EPX    Travel Agency  Online               Cancellation Plan          \n",
       "2  JZI    Airlines       Online               Basic Plan                 \n",
       "3  EPX    Travel Agency  Online               2 way Comprehensive Plan   \n",
       "4  C2B    Airlines       Online               Bronze Plan                \n",
       "\n",
       "   Duration    Destination  Net Sales  Commision (in value)  Age  Claim  \\\n",
       "0  365       SINGAPORE      216.0      54.0                  57   0       \n",
       "1  4         MALAYSIA       10.0       0.0                   33   0       \n",
       "2  19        INDIA          22.0       7.7                   26   0       \n",
       "3  20        UNITED STATES  112.0      0.0                   59   0       \n",
       "4  8         SINGAPORE      16.0       4.0                   28   0       \n",
       "\n",
       "  AgeGroup  \n",
       "0  51-65    \n",
       "1  18-35    \n",
       "2  18-35    \n",
       "3  51-65    \n",
       "4  18-35    "
      ]
     },
     "execution_count": 33,
     "metadata": {},
     "output_type": "execute_result"
    }
   ],
   "source": [
    "df.head()"
   ]
  },
  {
   "cell_type": "markdown",
   "id": "3eb7037d",
   "metadata": {},
   "source": [
    "Untuk kolom kategorikal, akan dilakukan crosstab pada setiap kolom untuk melihat persentase Claim pada setiap data unique. Berdasarkan hasil tersebut akan dilakukan kategorisasi ulang pada kolom dengan banyak data unique."
   ]
  },
  {
   "cell_type": "markdown",
   "id": "ea9031df",
   "metadata": {},
   "source": [
    "#### Feature Agency"
   ]
  },
  {
   "cell_type": "code",
   "execution_count": 34,
   "id": "a972d1eb",
   "metadata": {},
   "outputs": [
    {
     "data": {
      "application/vnd.microsoft.datawrangler.viewer.v0+json": {
       "columns": [
        {
         "name": "Agency",
         "rawType": "object",
         "type": "string"
        },
        {
         "name": "0",
         "rawType": "float64",
         "type": "float"
        },
        {
         "name": "1",
         "rawType": "float64",
         "type": "float"
        }
       ],
       "ref": "8ebdbf4a-8099-4bb1-b353-5b754888eb65",
       "rows": [
        [
         "ADM",
         "0.1119",
         "0.0"
        ],
        [
         "ART",
         "0.4919",
         "0.0"
        ],
        [
         "C2B",
         "12.7547",
         "1.0488"
        ],
        [
         "CBH",
         "0.1718",
         "0.0026"
        ],
        [
         "CCR",
         "0.2446",
         "0.0052"
        ],
        [
         "CSR",
         "0.1744",
         "0.0026"
        ],
        [
         "CWT",
         "14.0351",
         "0.1666"
        ],
        [
         "EPX",
         "53.8634",
         "0.3461"
        ],
        [
         "JWT",
         "0.0",
         "0.0104"
        ],
        [
         "JZI",
         "10.7899",
         "0.0573"
        ],
        [
         "KML",
         "0.5804",
         "0.013"
        ],
        [
         "LWC",
         "1.0904",
         "0.0755"
        ],
        [
         "RAB",
         "1.1399",
         "0.0026"
        ],
        [
         "SSI",
         "1.7853",
         "0.013"
        ],
        [
         "TST",
         "0.8458",
         "0.0052"
        ],
        [
         "TTW",
         "0.1692",
         "0.0026"
        ]
       ],
       "shape": {
        "columns": 2,
        "rows": 16
       }
      },
      "text/html": [
       "<div>\n",
       "<style scoped>\n",
       "    .dataframe tbody tr th:only-of-type {\n",
       "        vertical-align: middle;\n",
       "    }\n",
       "\n",
       "    .dataframe tbody tr th {\n",
       "        vertical-align: top;\n",
       "    }\n",
       "\n",
       "    .dataframe thead th {\n",
       "        text-align: right;\n",
       "    }\n",
       "</style>\n",
       "<table border=\"1\" class=\"dataframe\">\n",
       "  <thead>\n",
       "    <tr style=\"text-align: right;\">\n",
       "      <th>Claim</th>\n",
       "      <th>0</th>\n",
       "      <th>1</th>\n",
       "    </tr>\n",
       "    <tr>\n",
       "      <th>Agency</th>\n",
       "      <th></th>\n",
       "      <th></th>\n",
       "    </tr>\n",
       "  </thead>\n",
       "  <tbody>\n",
       "    <tr>\n",
       "      <th>ADM</th>\n",
       "      <td>0.1119</td>\n",
       "      <td>0.0000</td>\n",
       "    </tr>\n",
       "    <tr>\n",
       "      <th>ART</th>\n",
       "      <td>0.4919</td>\n",
       "      <td>0.0000</td>\n",
       "    </tr>\n",
       "    <tr>\n",
       "      <th>C2B</th>\n",
       "      <td>12.7547</td>\n",
       "      <td>1.0488</td>\n",
       "    </tr>\n",
       "    <tr>\n",
       "      <th>CBH</th>\n",
       "      <td>0.1718</td>\n",
       "      <td>0.0026</td>\n",
       "    </tr>\n",
       "    <tr>\n",
       "      <th>CCR</th>\n",
       "      <td>0.2446</td>\n",
       "      <td>0.0052</td>\n",
       "    </tr>\n",
       "    <tr>\n",
       "      <th>CSR</th>\n",
       "      <td>0.1744</td>\n",
       "      <td>0.0026</td>\n",
       "    </tr>\n",
       "    <tr>\n",
       "      <th>CWT</th>\n",
       "      <td>14.0351</td>\n",
       "      <td>0.1666</td>\n",
       "    </tr>\n",
       "    <tr>\n",
       "      <th>EPX</th>\n",
       "      <td>53.8634</td>\n",
       "      <td>0.3461</td>\n",
       "    </tr>\n",
       "    <tr>\n",
       "      <th>JWT</th>\n",
       "      <td>0.0000</td>\n",
       "      <td>0.0104</td>\n",
       "    </tr>\n",
       "    <tr>\n",
       "      <th>JZI</th>\n",
       "      <td>10.7899</td>\n",
       "      <td>0.0573</td>\n",
       "    </tr>\n",
       "    <tr>\n",
       "      <th>KML</th>\n",
       "      <td>0.5804</td>\n",
       "      <td>0.0130</td>\n",
       "    </tr>\n",
       "    <tr>\n",
       "      <th>LWC</th>\n",
       "      <td>1.0904</td>\n",
       "      <td>0.0755</td>\n",
       "    </tr>\n",
       "    <tr>\n",
       "      <th>RAB</th>\n",
       "      <td>1.1399</td>\n",
       "      <td>0.0026</td>\n",
       "    </tr>\n",
       "    <tr>\n",
       "      <th>SSI</th>\n",
       "      <td>1.7853</td>\n",
       "      <td>0.0130</td>\n",
       "    </tr>\n",
       "    <tr>\n",
       "      <th>TST</th>\n",
       "      <td>0.8458</td>\n",
       "      <td>0.0052</td>\n",
       "    </tr>\n",
       "    <tr>\n",
       "      <th>TTW</th>\n",
       "      <td>0.1692</td>\n",
       "      <td>0.0026</td>\n",
       "    </tr>\n",
       "  </tbody>\n",
       "</table>\n",
       "</div>"
      ],
      "text/plain": [
       "Claim         0       1\n",
       "Agency                 \n",
       "ADM     0.1119   0.0000\n",
       "ART     0.4919   0.0000\n",
       "C2B     12.7547  1.0488\n",
       "CBH     0.1718   0.0026\n",
       "CCR     0.2446   0.0052\n",
       "CSR     0.1744   0.0026\n",
       "CWT     14.0351  0.1666\n",
       "EPX     53.8634  0.3461\n",
       "JWT     0.0000   0.0104\n",
       "JZI     10.7899  0.0573\n",
       "KML     0.5804   0.0130\n",
       "LWC     1.0904   0.0755\n",
       "RAB     1.1399   0.0026\n",
       "SSI     1.7853   0.0130\n",
       "TST     0.8458   0.0052\n",
       "TTW     0.1692   0.0026"
      ]
     },
     "execution_count": 34,
     "metadata": {},
     "output_type": "execute_result"
    }
   ],
   "source": [
    "(pd.crosstab(index = df['Agency'], columns=df['Claim'], normalize=True)*100).round(4) "
   ]
  },
  {
   "cell_type": "markdown",
   "id": "00571666",
   "metadata": {},
   "source": [
    "Berdasarkan hasil tersebut, Agency yang berpengaruh terhadap Claim kelas 1 adalah C2B, CWT, EPX, dan untuk yang lainnya akan dikelompokkan menjadi Others."
   ]
  },
  {
   "cell_type": "code",
   "execution_count": 35,
   "id": "4df06e45",
   "metadata": {},
   "outputs": [
    {
     "data": {
      "text/plain": [
       "array(['C2B', 'EPX', 'Others', 'CWT'], dtype=object)"
      ]
     },
     "execution_count": 35,
     "metadata": {},
     "output_type": "execute_result"
    }
   ],
   "source": [
    "def cat_agency(x):\n",
    "    if x in ['C2B', 'CWT', 'EPX']:\n",
    "        return x\n",
    "    else: \n",
    "        return 'Others'\n",
    "    \n",
    "df['Agency'] = df['Agency'].apply(cat_agency)\n",
    "df['Agency'].unique()"
   ]
  },
  {
   "cell_type": "markdown",
   "id": "c4e9c94e",
   "metadata": {},
   "source": [
    "#### Feature Agency Type"
   ]
  },
  {
   "cell_type": "code",
   "execution_count": 36,
   "id": "a1d0f08b",
   "metadata": {},
   "outputs": [
    {
     "data": {
      "application/vnd.microsoft.datawrangler.viewer.v0+json": {
       "columns": [
        {
         "name": "Agency Type",
         "rawType": "object",
         "type": "string"
        },
        {
         "name": "0",
         "rawType": "float64",
         "type": "float"
        },
        {
         "name": "1",
         "rawType": "float64",
         "type": "float"
        }
       ],
       "ref": "b1b76ed4-0fb5-4580-8b5e-85d9e176533e",
       "rows": [
        [
         "Airlines",
         "26.9616",
         "1.1321"
        ],
        [
         "Travel Agency",
         "71.2869",
         "0.6194"
        ]
       ],
       "shape": {
        "columns": 2,
        "rows": 2
       }
      },
      "text/html": [
       "<div>\n",
       "<style scoped>\n",
       "    .dataframe tbody tr th:only-of-type {\n",
       "        vertical-align: middle;\n",
       "    }\n",
       "\n",
       "    .dataframe tbody tr th {\n",
       "        vertical-align: top;\n",
       "    }\n",
       "\n",
       "    .dataframe thead th {\n",
       "        text-align: right;\n",
       "    }\n",
       "</style>\n",
       "<table border=\"1\" class=\"dataframe\">\n",
       "  <thead>\n",
       "    <tr style=\"text-align: right;\">\n",
       "      <th>Claim</th>\n",
       "      <th>0</th>\n",
       "      <th>1</th>\n",
       "    </tr>\n",
       "    <tr>\n",
       "      <th>Agency Type</th>\n",
       "      <th></th>\n",
       "      <th></th>\n",
       "    </tr>\n",
       "  </thead>\n",
       "  <tbody>\n",
       "    <tr>\n",
       "      <th>Airlines</th>\n",
       "      <td>26.9616</td>\n",
       "      <td>1.1321</td>\n",
       "    </tr>\n",
       "    <tr>\n",
       "      <th>Travel Agency</th>\n",
       "      <td>71.2869</td>\n",
       "      <td>0.6194</td>\n",
       "    </tr>\n",
       "  </tbody>\n",
       "</table>\n",
       "</div>"
      ],
      "text/plain": [
       "Claim                0       1\n",
       "Agency Type                   \n",
       "Airlines       26.9616  1.1321\n",
       "Travel Agency  71.2869  0.6194"
      ]
     },
     "execution_count": 36,
     "metadata": {},
     "output_type": "execute_result"
    }
   ],
   "source": [
    "(pd.crosstab(index = df['Agency Type'], columns=df['Claim'], normalize=True)*100).round(4)"
   ]
  },
  {
   "cell_type": "markdown",
   "id": "2831183a",
   "metadata": {},
   "source": [
    "Karena pada kolom Agency Type data unique hanya ada 2, maka semua akan dipakai."
   ]
  },
  {
   "cell_type": "markdown",
   "id": "672b1f41",
   "metadata": {},
   "source": [
    "#### Feature Distribution Channel"
   ]
  },
  {
   "cell_type": "code",
   "execution_count": 37,
   "id": "5ae5fb41",
   "metadata": {},
   "outputs": [
    {
     "data": {
      "application/vnd.microsoft.datawrangler.viewer.v0+json": {
       "columns": [
        {
         "name": "Distribution Channel",
         "rawType": "object",
         "type": "string"
        },
        {
         "name": "0",
         "rawType": "float64",
         "type": "float"
        },
        {
         "name": "1",
         "rawType": "float64",
         "type": "float"
        }
       ],
       "ref": "2e3bac4b-2a07-47b8-803f-fd02928d7874",
       "rows": [
        [
         "Offline",
         "1.676",
         "0.0286"
        ],
        [
         "Online",
         "96.5725",
         "1.7228"
        ]
       ],
       "shape": {
        "columns": 2,
        "rows": 2
       }
      },
      "text/html": [
       "<div>\n",
       "<style scoped>\n",
       "    .dataframe tbody tr th:only-of-type {\n",
       "        vertical-align: middle;\n",
       "    }\n",
       "\n",
       "    .dataframe tbody tr th {\n",
       "        vertical-align: top;\n",
       "    }\n",
       "\n",
       "    .dataframe thead th {\n",
       "        text-align: right;\n",
       "    }\n",
       "</style>\n",
       "<table border=\"1\" class=\"dataframe\">\n",
       "  <thead>\n",
       "    <tr style=\"text-align: right;\">\n",
       "      <th>Claim</th>\n",
       "      <th>0</th>\n",
       "      <th>1</th>\n",
       "    </tr>\n",
       "    <tr>\n",
       "      <th>Distribution Channel</th>\n",
       "      <th></th>\n",
       "      <th></th>\n",
       "    </tr>\n",
       "  </thead>\n",
       "  <tbody>\n",
       "    <tr>\n",
       "      <th>Offline</th>\n",
       "      <td>1.6760</td>\n",
       "      <td>0.0286</td>\n",
       "    </tr>\n",
       "    <tr>\n",
       "      <th>Online</th>\n",
       "      <td>96.5725</td>\n",
       "      <td>1.7228</td>\n",
       "    </tr>\n",
       "  </tbody>\n",
       "</table>\n",
       "</div>"
      ],
      "text/plain": [
       "Claim                       0       1\n",
       "Distribution Channel                 \n",
       "Offline               1.6760   0.0286\n",
       "Online                96.5725  1.7228"
      ]
     },
     "execution_count": 37,
     "metadata": {},
     "output_type": "execute_result"
    }
   ],
   "source": [
    "(pd.crosstab(index = df['Distribution Channel'], columns=df['Claim'], normalize=True)*100).round(4)"
   ]
  },
  {
   "cell_type": "markdown",
   "id": "45166b91",
   "metadata": {},
   "source": [
    "Semua data pada kolom Distribution Channel juga akan dipakai karena data unique hanya ada 2."
   ]
  },
  {
   "cell_type": "markdown",
   "id": "1fedcb0c",
   "metadata": {},
   "source": [
    "#### Feature Product Name"
   ]
  },
  {
   "cell_type": "code",
   "execution_count": 38,
   "id": "e3a093a8",
   "metadata": {},
   "outputs": [
    {
     "data": {
      "application/vnd.microsoft.datawrangler.viewer.v0+json": {
       "columns": [
        {
         "name": "Product Name",
         "rawType": "object",
         "type": "string"
        },
        {
         "name": "0",
         "rawType": "float64",
         "type": "float"
        },
        {
         "name": "1",
         "rawType": "float64",
         "type": "float"
        }
       ],
       "ref": "664859f4-1692-4127-baf6-c6773fac0997",
       "rows": [
        [
         "1 way Comprehensive Plan",
         "4.7651",
         "0.0182"
        ],
        [
         "2 way Comprehensive Plan",
         "20.7261",
         "0.2472"
        ],
        [
         "24 Protect",
         "0.4346",
         "0.0"
        ],
        [
         "Annual Gold Plan",
         "0.3097",
         "0.0416"
        ],
        [
         "Annual Silver Plan",
         "1.905",
         "0.2785"
        ],
        [
         "Annual Travel Protect Gold",
         "0.1431",
         "0.0182"
        ],
        [
         "Annual Travel Protect Platinum",
         "0.0833",
         "0.0052"
        ],
        [
         "Annual Travel Protect Silver",
         "0.1431",
         "0.0104"
        ],
        [
         "Basic Plan",
         "9.2934",
         "0.0416"
        ],
        [
         "Bronze Plan",
         "6.4125",
         "0.4164"
        ],
        [
         "Cancellation Plan",
         "28.3722",
         "0.0807"
        ],
        [
         "Child Comprehensive Plan",
         "0.0182",
         "0.0"
        ],
        [
         "Comprehensive Plan",
         "0.5673",
         "0.0104"
        ],
        [
         "Gold Plan",
         "0.5751",
         "0.0312"
        ],
        [
         "Individual Comprehensive Plan",
         "0.1197",
         "0.0"
        ],
        [
         "Premier Plan",
         "0.2811",
         "0.0052"
        ],
        [
         "Rental Vehicle Excess Insurance",
         "14.0351",
         "0.1666"
        ],
        [
         "Silver Plan",
         "3.5524",
         "0.2811"
        ],
        [
         "Single Trip Travel Protect Gold",
         "0.3253",
         "0.0182"
        ],
        [
         "Single Trip Travel Protect Platinum",
         "0.1093",
         "0.013"
        ],
        [
         "Single Trip Travel Protect Silver",
         "0.2863",
         "0.0104"
        ],
        [
         "Spouse or Parents Comprehensive Plan",
         "0.0312",
         "0.0026"
        ],
        [
         "Ticket Protector",
         "1.7853",
         "0.013"
        ],
        [
         "Travel Cruise Protect",
         "0.8432",
         "0.0052"
        ],
        [
         "Travel Cruise Protect Family",
         "0.0026",
         "0.0"
        ],
        [
         "Value Plan",
         "3.1282",
         "0.0364"
        ]
       ],
       "shape": {
        "columns": 2,
        "rows": 26
       }
      },
      "text/html": [
       "<div>\n",
       "<style scoped>\n",
       "    .dataframe tbody tr th:only-of-type {\n",
       "        vertical-align: middle;\n",
       "    }\n",
       "\n",
       "    .dataframe tbody tr th {\n",
       "        vertical-align: top;\n",
       "    }\n",
       "\n",
       "    .dataframe thead th {\n",
       "        text-align: right;\n",
       "    }\n",
       "</style>\n",
       "<table border=\"1\" class=\"dataframe\">\n",
       "  <thead>\n",
       "    <tr style=\"text-align: right;\">\n",
       "      <th>Claim</th>\n",
       "      <th>0</th>\n",
       "      <th>1</th>\n",
       "    </tr>\n",
       "    <tr>\n",
       "      <th>Product Name</th>\n",
       "      <th></th>\n",
       "      <th></th>\n",
       "    </tr>\n",
       "  </thead>\n",
       "  <tbody>\n",
       "    <tr>\n",
       "      <th>1 way Comprehensive Plan</th>\n",
       "      <td>4.7651</td>\n",
       "      <td>0.0182</td>\n",
       "    </tr>\n",
       "    <tr>\n",
       "      <th>2 way Comprehensive Plan</th>\n",
       "      <td>20.7261</td>\n",
       "      <td>0.2472</td>\n",
       "    </tr>\n",
       "    <tr>\n",
       "      <th>24 Protect</th>\n",
       "      <td>0.4346</td>\n",
       "      <td>0.0000</td>\n",
       "    </tr>\n",
       "    <tr>\n",
       "      <th>Annual Gold Plan</th>\n",
       "      <td>0.3097</td>\n",
       "      <td>0.0416</td>\n",
       "    </tr>\n",
       "    <tr>\n",
       "      <th>Annual Silver Plan</th>\n",
       "      <td>1.9050</td>\n",
       "      <td>0.2785</td>\n",
       "    </tr>\n",
       "    <tr>\n",
       "      <th>Annual Travel Protect Gold</th>\n",
       "      <td>0.1431</td>\n",
       "      <td>0.0182</td>\n",
       "    </tr>\n",
       "    <tr>\n",
       "      <th>Annual Travel Protect Platinum</th>\n",
       "      <td>0.0833</td>\n",
       "      <td>0.0052</td>\n",
       "    </tr>\n",
       "    <tr>\n",
       "      <th>Annual Travel Protect Silver</th>\n",
       "      <td>0.1431</td>\n",
       "      <td>0.0104</td>\n",
       "    </tr>\n",
       "    <tr>\n",
       "      <th>Basic Plan</th>\n",
       "      <td>9.2934</td>\n",
       "      <td>0.0416</td>\n",
       "    </tr>\n",
       "    <tr>\n",
       "      <th>Bronze Plan</th>\n",
       "      <td>6.4125</td>\n",
       "      <td>0.4164</td>\n",
       "    </tr>\n",
       "    <tr>\n",
       "      <th>Cancellation Plan</th>\n",
       "      <td>28.3722</td>\n",
       "      <td>0.0807</td>\n",
       "    </tr>\n",
       "    <tr>\n",
       "      <th>Child Comprehensive Plan</th>\n",
       "      <td>0.0182</td>\n",
       "      <td>0.0000</td>\n",
       "    </tr>\n",
       "    <tr>\n",
       "      <th>Comprehensive Plan</th>\n",
       "      <td>0.5673</td>\n",
       "      <td>0.0104</td>\n",
       "    </tr>\n",
       "    <tr>\n",
       "      <th>Gold Plan</th>\n",
       "      <td>0.5751</td>\n",
       "      <td>0.0312</td>\n",
       "    </tr>\n",
       "    <tr>\n",
       "      <th>Individual Comprehensive Plan</th>\n",
       "      <td>0.1197</td>\n",
       "      <td>0.0000</td>\n",
       "    </tr>\n",
       "    <tr>\n",
       "      <th>Premier Plan</th>\n",
       "      <td>0.2811</td>\n",
       "      <td>0.0052</td>\n",
       "    </tr>\n",
       "    <tr>\n",
       "      <th>Rental Vehicle Excess Insurance</th>\n",
       "      <td>14.0351</td>\n",
       "      <td>0.1666</td>\n",
       "    </tr>\n",
       "    <tr>\n",
       "      <th>Silver Plan</th>\n",
       "      <td>3.5524</td>\n",
       "      <td>0.2811</td>\n",
       "    </tr>\n",
       "    <tr>\n",
       "      <th>Single Trip Travel Protect Gold</th>\n",
       "      <td>0.3253</td>\n",
       "      <td>0.0182</td>\n",
       "    </tr>\n",
       "    <tr>\n",
       "      <th>Single Trip Travel Protect Platinum</th>\n",
       "      <td>0.1093</td>\n",
       "      <td>0.0130</td>\n",
       "    </tr>\n",
       "    <tr>\n",
       "      <th>Single Trip Travel Protect Silver</th>\n",
       "      <td>0.2863</td>\n",
       "      <td>0.0104</td>\n",
       "    </tr>\n",
       "    <tr>\n",
       "      <th>Spouse or Parents Comprehensive Plan</th>\n",
       "      <td>0.0312</td>\n",
       "      <td>0.0026</td>\n",
       "    </tr>\n",
       "    <tr>\n",
       "      <th>Ticket Protector</th>\n",
       "      <td>1.7853</td>\n",
       "      <td>0.0130</td>\n",
       "    </tr>\n",
       "    <tr>\n",
       "      <th>Travel Cruise Protect</th>\n",
       "      <td>0.8432</td>\n",
       "      <td>0.0052</td>\n",
       "    </tr>\n",
       "    <tr>\n",
       "      <th>Travel Cruise Protect Family</th>\n",
       "      <td>0.0026</td>\n",
       "      <td>0.0000</td>\n",
       "    </tr>\n",
       "    <tr>\n",
       "      <th>Value Plan</th>\n",
       "      <td>3.1282</td>\n",
       "      <td>0.0364</td>\n",
       "    </tr>\n",
       "  </tbody>\n",
       "</table>\n",
       "</div>"
      ],
      "text/plain": [
       "Claim                                       0       1\n",
       "Product Name                                         \n",
       "1 way Comprehensive Plan              4.7651   0.0182\n",
       "2 way Comprehensive Plan              20.7261  0.2472\n",
       "24 Protect                            0.4346   0.0000\n",
       "Annual Gold Plan                      0.3097   0.0416\n",
       "Annual Silver Plan                    1.9050   0.2785\n",
       "Annual Travel Protect Gold            0.1431   0.0182\n",
       "Annual Travel Protect Platinum        0.0833   0.0052\n",
       "Annual Travel Protect Silver          0.1431   0.0104\n",
       "Basic Plan                            9.2934   0.0416\n",
       "Bronze Plan                           6.4125   0.4164\n",
       "Cancellation Plan                     28.3722  0.0807\n",
       "Child Comprehensive Plan              0.0182   0.0000\n",
       "Comprehensive Plan                    0.5673   0.0104\n",
       "Gold Plan                             0.5751   0.0312\n",
       "Individual Comprehensive Plan         0.1197   0.0000\n",
       "Premier Plan                          0.2811   0.0052\n",
       "Rental Vehicle Excess Insurance       14.0351  0.1666\n",
       "Silver Plan                           3.5524   0.2811\n",
       "Single Trip Travel Protect Gold       0.3253   0.0182\n",
       "Single Trip Travel Protect Platinum   0.1093   0.0130\n",
       "Single Trip Travel Protect Silver     0.2863   0.0104\n",
       "Spouse or Parents Comprehensive Plan  0.0312   0.0026\n",
       "Ticket Protector                      1.7853   0.0130\n",
       "Travel Cruise Protect                 0.8432   0.0052\n",
       "Travel Cruise Protect Family          0.0026   0.0000\n",
       "Value Plan                            3.1282   0.0364"
      ]
     },
     "execution_count": 38,
     "metadata": {},
     "output_type": "execute_result"
    }
   ],
   "source": [
    "(pd.crosstab(index = df['Product Name'], columns=df['Claim'], normalize=True)*100).round(4)"
   ]
  },
  {
   "cell_type": "markdown",
   "id": "7e214619",
   "metadata": {},
   "source": [
    "Berdasarkan hasil tersebut, Product Name yang berpengaruh terhadap Claim kelas 1 adalah 2 way Comprehensive Plan, Annual Silver Plan, Bronze Plan, Rental Vehicle Excess Insurance, Silver Plan, dan untuk yang lainnya akan dikelompokkan menjadi Others. "
   ]
  },
  {
   "cell_type": "code",
   "execution_count": 39,
   "id": "763b3a53",
   "metadata": {},
   "outputs": [],
   "source": [
    "def recat_product(x):\n",
    "    if x in ['2 way Comprehensive Plan', 'Annual Silver Plan', 'Bronze Plan', 'Rental Vehicle Excess Insurance', 'Silver Plan']:\n",
    "        return x\n",
    "    else:\n",
    "        return 'Others'\n",
    "    \n",
    "df['Product Name'] = df['Product Name'].apply(recat_product)"
   ]
  },
  {
   "cell_type": "code",
   "execution_count": 40,
   "id": "73709c42",
   "metadata": {},
   "outputs": [
    {
     "data": {
      "text/plain": [
       "array(['Annual Silver Plan', 'Others', '2 way Comprehensive Plan',\n",
       "       'Bronze Plan', 'Rental Vehicle Excess Insurance', 'Silver Plan'],\n",
       "      dtype=object)"
      ]
     },
     "execution_count": 40,
     "metadata": {},
     "output_type": "execute_result"
    }
   ],
   "source": [
    "df['Product Name'].unique()"
   ]
  },
  {
   "cell_type": "markdown",
   "id": "843f3a2f",
   "metadata": {},
   "source": [
    "#### Feature Destination"
   ]
  },
  {
   "cell_type": "markdown",
   "id": "a9ae0a60",
   "metadata": {},
   "source": [
    "Karena data unique pada kolom Destination ada banyak yaitu 138, maka akan diubah dengan mengelompokkan negara berdasarkan benuanya."
   ]
  },
  {
   "cell_type": "code",
   "execution_count": 41,
   "id": "91ae1d20",
   "metadata": {},
   "outputs": [],
   "source": [
    "def country_to_continent(country_name):\n",
    "  try:\n",
    "      country_alpha2 = pc.country_name_to_country_alpha2(country_name.title())\n",
    "      country_continent_code = pc.country_alpha2_to_continent_code(country_alpha2)\n",
    "      country_continent_name = pc.convert_continent_code_to_continent_name(country_continent_code)\n",
    "      return country_continent_name\n",
    "  except:\n",
    "    return 'Other'\n",
    "  \n",
    "df['Destination'] = df['Destination'].apply(country_to_continent)"
   ]
  },
  {
   "cell_type": "code",
   "execution_count": 42,
   "id": "24d43768",
   "metadata": {},
   "outputs": [
    {
     "data": {
      "text/plain": [
       "array(['Asia', 'North America', 'Europe', 'Oceania', 'Other', 'Africa',\n",
       "       'South America'], dtype=object)"
      ]
     },
     "execution_count": 42,
     "metadata": {},
     "output_type": "execute_result"
    }
   ],
   "source": [
    "df['Destination'].unique() "
   ]
  },
  {
   "cell_type": "code",
   "execution_count": 43,
   "id": "5a8fa8f6",
   "metadata": {},
   "outputs": [
    {
     "data": {
      "application/vnd.microsoft.datawrangler.viewer.v0+json": {
       "columns": [
        {
         "name": "Destination",
         "rawType": "object",
         "type": "string"
        },
        {
         "name": "0",
         "rawType": "float64",
         "type": "float"
        },
        {
         "name": "1",
         "rawType": "float64",
         "type": "float"
        }
       ],
       "ref": "fa844b75-2f65-4497-91cc-31d2c1045903",
       "rows": [
        [
         "Africa",
         "0.5075",
         "0.0052"
        ],
        [
         "Asia",
         "74.2876",
         "1.4444"
        ],
        [
         "Europe",
         "8.583",
         "0.1119"
        ],
        [
         "North America",
         "5.3116",
         "0.0885"
        ],
        [
         "Oceania",
         "7.0683",
         "0.0885"
        ],
        [
         "Other",
         "2.147",
         "0.013"
        ],
        [
         "South America",
         "0.3435",
         "0.0"
        ]
       ],
       "shape": {
        "columns": 2,
        "rows": 7
       }
      },
      "text/html": [
       "<div>\n",
       "<style scoped>\n",
       "    .dataframe tbody tr th:only-of-type {\n",
       "        vertical-align: middle;\n",
       "    }\n",
       "\n",
       "    .dataframe tbody tr th {\n",
       "        vertical-align: top;\n",
       "    }\n",
       "\n",
       "    .dataframe thead th {\n",
       "        text-align: right;\n",
       "    }\n",
       "</style>\n",
       "<table border=\"1\" class=\"dataframe\">\n",
       "  <thead>\n",
       "    <tr style=\"text-align: right;\">\n",
       "      <th>Claim</th>\n",
       "      <th>0</th>\n",
       "      <th>1</th>\n",
       "    </tr>\n",
       "    <tr>\n",
       "      <th>Destination</th>\n",
       "      <th></th>\n",
       "      <th></th>\n",
       "    </tr>\n",
       "  </thead>\n",
       "  <tbody>\n",
       "    <tr>\n",
       "      <th>Africa</th>\n",
       "      <td>0.5075</td>\n",
       "      <td>0.0052</td>\n",
       "    </tr>\n",
       "    <tr>\n",
       "      <th>Asia</th>\n",
       "      <td>74.2876</td>\n",
       "      <td>1.4444</td>\n",
       "    </tr>\n",
       "    <tr>\n",
       "      <th>Europe</th>\n",
       "      <td>8.5830</td>\n",
       "      <td>0.1119</td>\n",
       "    </tr>\n",
       "    <tr>\n",
       "      <th>North America</th>\n",
       "      <td>5.3116</td>\n",
       "      <td>0.0885</td>\n",
       "    </tr>\n",
       "    <tr>\n",
       "      <th>Oceania</th>\n",
       "      <td>7.0683</td>\n",
       "      <td>0.0885</td>\n",
       "    </tr>\n",
       "    <tr>\n",
       "      <th>Other</th>\n",
       "      <td>2.1470</td>\n",
       "      <td>0.0130</td>\n",
       "    </tr>\n",
       "    <tr>\n",
       "      <th>South America</th>\n",
       "      <td>0.3435</td>\n",
       "      <td>0.0000</td>\n",
       "    </tr>\n",
       "  </tbody>\n",
       "</table>\n",
       "</div>"
      ],
      "text/plain": [
       "Claim                0       1\n",
       "Destination                   \n",
       "Africa         0.5075   0.0052\n",
       "Asia           74.2876  1.4444\n",
       "Europe         8.5830   0.1119\n",
       "North America  5.3116   0.0885\n",
       "Oceania        7.0683   0.0885\n",
       "Other          2.1470   0.0130\n",
       "South America  0.3435   0.0000"
      ]
     },
     "execution_count": 43,
     "metadata": {},
     "output_type": "execute_result"
    }
   ],
   "source": [
    "(pd.crosstab(index = df['Destination'], columns=df['Claim'], normalize=True)*100).round(4)"
   ]
  },
  {
   "cell_type": "code",
   "execution_count": 44,
   "id": "222b2a92",
   "metadata": {},
   "outputs": [
    {
     "name": "stdout",
     "output_type": "stream",
     "text": [
      "<class 'pandas.core.frame.DataFrame'>\n",
      "Index: 38425 entries, 0 to 44327\n",
      "Data columns (total 11 columns):\n",
      " #   Column                Non-Null Count  Dtype   \n",
      "---  ------                --------------  -----   \n",
      " 0   Agency                38425 non-null  object  \n",
      " 1   Agency Type           38425 non-null  object  \n",
      " 2   Distribution Channel  38425 non-null  object  \n",
      " 3   Product Name          38425 non-null  object  \n",
      " 4   Duration              38425 non-null  int64   \n",
      " 5   Destination           38425 non-null  object  \n",
      " 6   Net Sales             38425 non-null  float64 \n",
      " 7   Commision (in value)  38425 non-null  float64 \n",
      " 8   Age                   38425 non-null  int64   \n",
      " 9   Claim                 38425 non-null  int64   \n",
      " 10  AgeGroup              38417 non-null  category\n",
      "dtypes: category(1), float64(2), int64(3), object(5)\n",
      "memory usage: 3.3+ MB\n"
     ]
    }
   ],
   "source": [
    "df.info()"
   ]
  },
  {
   "cell_type": "code",
   "execution_count": 45,
   "id": "30021c9d",
   "metadata": {},
   "outputs": [
    {
     "data": {
      "application/vnd.microsoft.datawrangler.viewer.v0+json": {
       "columns": [
        {
         "name": "index",
         "rawType": "int64",
         "type": "integer"
        },
        {
         "name": "Column Name",
         "rawType": "object",
         "type": "string"
        },
        {
         "name": "Data Type",
         "rawType": "object",
         "type": "unknown"
        },
        {
         "name": "Null",
         "rawType": "int64",
         "type": "integer"
        },
        {
         "name": "Null Percentage",
         "rawType": "float64",
         "type": "float"
        },
        {
         "name": "Number of Unique",
         "rawType": "int64",
         "type": "integer"
        },
        {
         "name": "Unique Sample",
         "rawType": "object",
         "type": "unknown"
        }
       ],
       "ref": "c9de6d5e-ed2e-4d48-bfeb-841601a0c232",
       "rows": [
        [
         "0",
         "Agency",
         "object",
         "0",
         "0.0",
         "4",
         "['C2B' 'EPX' 'Others' 'CWT']"
        ],
        [
         "1",
         "Agency Type",
         "object",
         "0",
         "0.0",
         "2",
         "['Airlines' 'Travel Agency']"
        ],
        [
         "2",
         "Distribution Channel",
         "object",
         "0",
         "0.0",
         "2",
         "['Online' 'Offline']"
        ],
        [
         "3",
         "Product Name",
         "object",
         "0",
         "0.0",
         "6",
         "['Annual Silver Plan' 'Others' '2 way Comprehensive Plan' 'Bronze Plan'\n 'Rental Vehicle Excess Insurance' 'Silver Plan']"
        ],
        [
         "4",
         "Duration",
         "int64",
         "0",
         "0.0",
         "421",
         "[365   4  19  20   8   2  25  90  24  43 103 376   6  16  27  34   3  14\n  12  31   5   7  56  29  30  58   9  38  42  11  13  40  79 370 366  26\n  83  55  18 100   1  35  36  75  23  73  32 232  37  10  15  17  99 173\n  74  82  66 156  39  95  98 111  53  87  70 151  45  54 114 118  62  28\n 112 326  22  59  44  21  97  63  60  51 180 160 368  65  93  71   0  76\n  69 110 146 116 129  84  33 149  68  64  77 101 145  88 222 176 165 169\n 387  49 109  41 381  50 161 154 330  46  78  47 121 106 140  91 104 134\n 393 282 123 172  86 102 314 386 383  81 283 115 144  61 206 213 271 174\n 152 122  94 215 228 108 124  48 159 135 369 372 107  85 142  52 137  80\n 278  92  89 276 226 373 113 132 187  57 120 158 171 183 379 163 266  72\n 531 364 204 199 168  67 181 148 256 157 377 224 117 177 138 128 392 105\n 217 378 245 388 185 119 141 189 164  96 147 487 192 253 374 212 162 136\n 425 155 126 195 131 130 200 125 198 143 190 153 235 203 420 371 166 389\n 257 133 241 375 196 182 289 127 367 391 384 304 315 267 167 252 380 433\n 230 263 328 402 207 249 254 419 275 139 227 244 237 396 397 170 150 299\n 258 178 319 306 211 231 269 179 214 191 408 238 307 193 194 305 251 233\n 273 294 240 287 255 202 316 260 225 279 229 322 280 418 218 382 197 428\n 243 236 416 390 209 296 432 325 445 270 216 281 234 186 208 415 399 201\n 184 411 417 497 426 274 331 188 488 219 413 205 461 444 406 405 457 385\n 403 221 398 246 317 394 277 297 264 259 422 268 395 175 261 288 310 285\n 262 220 223 409 400 272 431 210 547 309 293 247 286 466 436 404 242 351\n 250 265 430 303 292 423 318 440 450 291 323 300 435 412 284 410 474 437\n 321 472 324 312 463 490 401 239 311 519 298 512 465 414 529 424 421 301\n 334 342 248 327 494 290 407]"
        ],
        [
         "5",
         "Destination",
         "object",
         "0",
         "0.0",
         "7",
         "['Asia' 'North America' 'Europe' 'Oceania' 'Other' 'Africa'\n 'South America']"
        ],
        [
         "6",
         "Net Sales",
         "float64",
         "0",
         "0.0",
         "869",
         "[2.1600e+02 1.0000e+01 2.2000e+01 1.1200e+02 1.6000e+01 5.0000e+01\n 7.8000e+01 8.0000e+01 4.0000e+01 2.6000e+01 2.5285e+02 4.7000e+01\n 2.5000e+01 2.3000e+01 2.0000e+01 3.0000e+01 4.2000e+01 5.6000e+01\n 1.9800e+01 1.4000e+01 2.9700e+01 3.6000e+01 3.1000e+01 5.8000e+01\n 9.9000e+00 1.5000e+01 2.1000e+01 2.9000e+01 3.2000e+01 1.2500e+02\n 4.8000e+01 0.0000e+00 2.1040e+01 3.3000e+01 2.0460e+02 3.4000e+01\n 3.0550e+01 3.5000e+01 4.9500e+01 1.8000e+01 9.8000e+01 7.7000e+01\n 6.9300e+01 6.4000e+01 2.2770e+02 4.8500e+01 2.4000e+01 1.6100e+02\n 9.9000e+01 5.9400e+01 4.5000e+01 4.4000e+01 1.9000e+01 7.5000e+01\n 3.9000e+01 1.7550e+01 5.1000e+01 8.0250e+01 6.3000e+01 1.2000e+01\n 7.2000e+01 5.3000e+01 3.8000e+01 1.7000e+01 5.4000e+01 3.7000e+01\n 6.9000e+01 1.1500e+02 7.6300e+01 1.9500e+01 2.9500e+01 6.2000e+01\n 1.1000e+01 3.7300e+00 7.9000e+01 1.3860e+02 2.2500e+01 5.9000e+01\n 5.5900e+00 3.3500e+01 5.3250e+01 6.2250e+01 9.3000e+01 1.0300e+00\n 2.7000e+01 5.6500e+01 3.9600e+01 2.8000e+01 4.1000e+01 9.7000e+01\n 1.2800e+02 4.3000e+01 6.6000e+01 2.6500e+01 1.9000e-01 8.3000e+01\n 3.5500e+01 1.3500e+01 6.3500e+01 7.3000e+01 1.3000e+01 1.6100e+00\n 1.0200e+02 4.3550e+01 8.1000e+01 7.9200e+01 9.4000e+01 1.3200e+00\n 1.0900e+02 7.2500e+01 2.8080e+02 2.9175e+02 3.4500e+01 1.8500e+01\n 3.4400e+00 5.5000e+01 8.9100e+01 3.2200e+00 1.4110e+01 4.9500e+00\n 4.1500e+01 7.6000e+01 1.6700e+02 7.1000e+01 4.7500e+01 2.7750e+01\n 6.7000e+01 2.4500e+01 8.7000e+01 5.2650e+01 5.1000e-01 1.2870e+02\n 1.1510e+01 6.3700e+01 1.4950e+01 6.0000e+01 1.8785e+02 8.5000e+01\n 5.2000e+01 1.7500e+01 9.6000e+01 1.1600e+00 5.7000e+01 3.7400e+00\n 7.4000e+01 3.3300e+02 2.3400e+01 1.0600e+02 1.8070e+01 1.1880e+02\n 3.2900e+01 1.3850e+02 1.3000e+02 2.5620e+02 8.8000e-01 4.0500e+01\n 8.8500e+01 4.3700e+00 2.5920e+02 8.6300e+00 8.9000e+01 2.2980e+02\n 5.4700e+00 5.0800e+00 1.2160e+01 1.0100e+02 2.5200e+01 1.2700e+02\n 1.2675e+02 6.5000e+01 2.0790e+02 4.5500e+01 4.9000e+01 1.7820e+01\n 5.4500e+01 9.6000e-01 4.6000e+01 1.1500e+01 1.4850e+02 1.0890e+02\n 1.2100e+02 2.4050e+01 3.5100e+01 8.8000e+01 1.1775e+02 6.8000e+01\n 2.3500e+01 4.9150e+02 3.7500e+01 7.0000e+01 5.3500e+01 1.3800e+02\n 2.6400e+00 2.0590e+01 1.8500e+02 1.3500e+00 4.4850e+01 6.1000e+01\n 1.7100e+02 1.9300e+00 8.8500e+00 1.1700e+01 6.8500e+01 1.0700e+02\n 2.1200e+00 1.8000e+00 3.3790e+01 9.2000e+01 1.6200e+01 6.6900e+00\n 3.7800e+01 1.1800e+02 1.0350e+02 8.2000e+01 3.8350e+01 2.2170e+01\n 9.5000e+01 9.3600e+01 1.5840e+02 8.9100e+00 1.9320e+02 3.8935e+02\n 8.4000e+01 8.4100e+00 6.9550e+01 1.9200e+02 1.6400e+02 7.7350e+01\n 4.8900e+00 9.7700e+00 1.9200e+01 2.1780e+02 8.1500e+01 3.5250e+01\n 8.3500e+01 1.4990e+01 8.6000e+01 7.7000e-01 1.1250e+02 5.3700e+00\n 1.5200e+02 5.9500e+01 1.4400e+02 7.2500e+00 1.5500e+00 5.5800e+01\n 7.2000e+00 9.1000e+01 1.6500e+02 2.5500e+01 1.0000e+02 1.3500e+02\n 8.1750e+01 4.7600e+00 6.1500e+01 8.4000e+00 1.3120e+01 3.7600e+00\n 1.9800e+02 1.1000e+02 6.1100e+01 1.1100e+02 1.4700e+02 2.9900e+01\n 5.5500e+01 9.0000e+01 3.9900e+00 1.4800e+00 1.7820e+02 5.4600e+01\n 3.8900e+02 9.3300e+00 6.6600e+02 7.4250e+01 4.8400e+00 9.3000e-01\n 7.4400e+01 3.4080e+02 1.0040e+01 2.3950e+02 7.2750e+01 2.7885e+02\n 7.1000e-01 1.6050e+02 1.6700e+00 1.0400e+02 5.8200e+01 2.0800e+01\n 2.2100e+01 1.2900e+00 8.0500e+01 5.9250e+01 3.2400e+01 3.4300e+00\n 2.8600e+00 3.6200e+00 1.2350e+01 4.4925e+02 3.8330e+01 2.2500e+00\n 5.3500e+00 1.0050e+02 3.2000e+02 2.7200e+00 7.5500e+00 6.6300e+01\n 2.8725e+02 4.0200e+01 3.9960e+02 2.0250e+01 1.3520e+02 4.2500e+01\n 9.2000e-01 3.1500e+00 1.8000e+02 5.0500e+01 4.1700e+00 1.5500e+02\n 2.5500e+02 3.2340e+02 7.8400e+00 4.3200e+02 5.8100e+01 1.8240e+02\n 1.0800e+02 3.2500e+01 3.7050e+01 6.9500e+01 2.1070e+01 9.7800e+01\n 2.2300e+01 2.1395e+02 7.9200e+00 8.4500e+01 5.8000e+00 1.1240e+01\n 1.5950e+01 1.0900e+00 1.5800e+02 1.1300e+00 5.9900e+02 7.1800e+00\n 3.9500e+01 4.9800e+00 8.1000e-01 7.7100e+00 8.4750e+01 5.6150e+01\n 1.5700e+02 5.0250e+01 2.1350e+01 3.0100e+02 2.3300e+00 6.0750e+01\n 1.4900e+02 1.1750e+02 8.4900e+00 1.6550e+02 8.6400e+01 1.3280e+01\n 1.6830e+02 2.6063e+02 2.8900e+02 1.6920e+01 1.7325e+02 2.5180e+01\n 6.8900e+00 1.0500e+02 4.5000e-01 8.3000e-01 3.6750e+01 4.9000e+00\n 7.0850e+01 4.6300e+00 5.6600e+00 2.7950e+01 9.7200e+01 2.5900e+01\n 4.6000e+00 1.7110e+01 7.0000e+00 3.3400e+00 5.7250e+02 4.6800e+01\n 1.2200e+02 5.8000e-01 1.2421e+02 2.5030e+01 1.8590e+01 1.8900e+01\n 1.1650e+02 1.0010e+02 4.2400e+00 1.0300e+02 1.3360e+01 2.8500e+01\n 1.2420e+02 4.1200e+00 4.8800e+00 6.5600e+00 1.4350e+01 4.8700e+00\n 7.8500e+01 2.3100e+02 1.1400e+02 2.0100e+02 3.4700e+00 1.2750e+02\n 1.9900e+00 1.7800e+02 4.6800e+00 4.4200e+00 1.1570e+02 1.0510e+01\n 5.8800e+01 5.1100e+02 1.1060e+01 2.2770e+01 5.7600e+00 5.3950e+01\n 5.7500e+01 1.1300e+02 3.2025e+02 1.6330e+01 4.8300e+01 9.9450e+01\n 6.8600e+01 9.8300e+00 6.5000e+00 2.6650e+01 3.8900e+00 2.1675e+02\n 2.4700e+00 2.7230e+02 1.3650e+02 4.4200e+02 1.2660e+01 5.1750e+01\n 1.1475e+02 1.7900e+02 2.9000e+00 2.7500e+01 8.7400e+00 8.4000e-01\n 7.3500e+00 1.2200e+00 8.8900e+01 1.1290e+01 1.3430e+01 4.4250e+01\n 1.5100e+02 5.8600e+02 1.5300e+02 9.1200e+00 3.4530e+01 1.9450e+02\n 2.4750e+02 7.6000e-01 2.8100e+00 6.4300e+00 2.0450e+01 2.8740e+02\n 4.3600e+00 5.9110e+01 1.0750e+01 2.0450e+02 2.5440e+01 1.4390e+01\n 4.4500e+01 1.4280e+01 3.3100e+01 4.2200e+00 2.3000e+02 5.0100e+01\n 6.8490e+01 1.4800e+02 2.0050e+02 3.5400e+01 3.6500e+01 1.1950e+01\n 4.3290e+02 1.1930e+01 4.9900e+00 4.0425e+02 1.9370e+02 4.6500e+01\n 1.4070e+01 1.1710e+01 2.5350e+02 2.4500e+00 7.6500e+01 4.6150e+01\n 7.3400e+00 1.6450e+02 1.0560e+02 3.1850e+01 1.8810e+02 3.5210e+01\n 2.9300e+02 4.8200e+02 1.8340e+01 1.2400e+02 7.2100e+00 2.7600e+00\n 7.0100e+00 2.0930e+02 5.9150e+01 2.5100e+00 2.8710e+02 3.1200e+01\n 1.8100e+02 2.2850e+02 5.6200e+00 1.4250e+02 4.8000e-01 6.5650e+01\n 4.7000e+00 1.3900e+02 5.0400e+01 9.7000e+00 1.1270e+02 3.4300e+01\n 1.1900e+02 1.0550e+01 1.4200e+02 2.3600e+02 6.9400e+00 1.1010e+01\n 5.0900e+00 3.3650e+01 1.2900e+02 2.3470e+01 4.4400e+00 2.9900e+00\n 4.0290e+01 1.9480e+01 2.4600e+01 1.1450e+01 2.2610e+01 1.0740e+01\n 3.1800e+01 3.4780e+01 2.0800e+02 3.4400e+01 8.7000e+00 1.9150e+02\n 6.3100e+00 1.3750e+02 3.1850e+02 2.3600e+00 2.7720e+02 5.2800e+01\n 2.1800e+02 1.2000e+02 9.0000e-01 5.6250e+01 2.9400e+01 2.4400e+00\n 1.2870e+01 5.9200e+00 1.6100e+01 1.0980e+01 5.1500e+02 3.2300e+02\n 3.9900e+01 1.2920e+01 2.2200e+01 3.1710e+01 1.1580e+01 4.6600e+00\n 1.6900e+02 2.9950e+02 9.1300e+00 1.4600e+02 6.8200e+02 1.5045e+02\n 8.3400e+01 1.6650e+01 1.7250e+01 3.1500e+01 1.4150e+02 8.0600e+01\n 2.0200e+02 6.2430e+01 4.6900e+01 1.1740e+01 2.0500e+01 1.8260e+01\n 1.9070e+01 3.4800e+01 5.7850e+01 5.4750e+01 4.5200e+00 3.2175e+02\n 2.8850e+02 8.3300e+01 1.3065e+02 5.5300e+01 9.6600e+01 5.2500e+00\n 5.4000e+00 1.0420e+01 1.3800e+01 7.0900e+00 9.2250e+01 5.3900e+02\n 1.4300e+02 2.5590e+01 8.5710e+01 5.5000e-01 2.8100e+02 2.5500e+00\n 1.8200e+02 1.0080e+02 3.9750e+01 1.6930e+01 1.0530e+01 5.7240e+01\n 2.6400e+02 3.2450e+02 8.2550e+01 6.1200e+00 5.0700e+02 2.3760e+02\n 4.6400e+01 7.6200e+01 1.1000e+00 6.0900e+00 7.8000e-01 7.3500e+01\n 3.0530e+01 1.2580e+01 1.6380e+02 2.7100e+02 3.5900e+00 1.7625e+02\n 6.4200e+01 1.9580e+01 1.2550e+02 2.2100e+00 2.9190e+01 3.8200e+02\n 6.0000e+00 2.9705e+02 7.4000e-01 2.1900e+00 8.2800e+01 1.6200e+02\n 5.8500e+01 1.4400e+01 2.2940e+01 7.0500e+01 3.8200e+00 2.4900e+01\n 6.4350e+01 7.3200e+01 1.5600e+02 2.3800e+02 3.7740e+01 7.9700e+00\n 2.5600e+02 6.9050e+01 1.3840e+02 1.0890e+01 3.9800e+00 1.6800e+02\n 1.9800e+00 1.5400e+02 3.2200e+02 3.5750e+02 2.7700e+02 1.3100e+02\n 4.1300e+01 6.4950e+01 1.1121e+02 6.7800e+01 2.0500e+00 6.6800e+00\n 8.8400e+00 1.8300e+02 1.7700e+00 3.0690e+02 3.2250e+01 1.1600e+01\n 1.4520e+02 9.4500e+01 5.2700e+00 6.0500e+01 1.9860e+02 1.3700e+02\n 1.3290e+01 1.5400e+00 7.9950e+01 1.8780e+01 3.1670e+01 2.4150e+02\n 5.5100e+00 1.1150e+01 4.7250e+01 3.1700e+02 6.2300e+01 1.7225e+02\n 1.5690e+01 2.4790e+01 1.6190e+01 1.2300e+02 6.9500e+00 1.7400e+00\n 9.5250e+01 4.4110e+01 1.2090e+01 8.3080e+01 2.5700e+01 8.9650e+01\n 3.0240e+02 1.8442e+02 2.5740e+02 1.1880e+01 1.2500e+01 4.0600e+01\n 3.6500e+00 4.9200e+01 2.2120e+01 2.0625e+02 3.9000e-01 1.1070e+01\n 1.7620e+01 1.4000e+02 7.4500e+01 3.7900e+00 3.4670e+01 2.9600e+00\n 5.2300e+00 1.7000e+02 2.0600e+02 1.4625e+02 2.5020e+01 2.8500e+02\n 5.2500e+01 4.4300e+00 7.5900e+00 3.6000e+00 1.0205e+02 1.0620e+02\n 4.3100e+00 2.2400e+01 1.1940e+01 1.1190e+01 4.0440e+01 6.2000e+00\n 3.0300e+00 2.0230e+02 2.6600e+00 1.7160e+01 1.6300e+02 4.2700e+00\n 8.7700e+00 2.3800e+00 5.1400e+00 3.1900e+02 1.0001e+02 2.6000e+02\n 2.1500e+01 3.8600e+00 1.3140e+01 3.3900e+00 5.6700e+01 3.0850e+02\n 3.8880e+02 5.2350e+01 1.0220e+01 1.7530e+01 3.3200e+00 1.5260e+01\n 6.4000e-01 2.8800e+00 6.3600e+01 1.1600e+02 6.2400e+01 1.8150e+02\n 1.1830e+02 5.7300e+00 3.1750e+01 3.4700e+01 1.4680e+01 3.8400e+00\n 2.5750e+02 7.5960e+01 2.7900e+02 1.3570e+01 8.8100e+00 1.4500e+02\n 2.4200e+02 2.0700e+02 2.5700e+00 2.5070e+01 3.6800e+00 1.7870e+01\n 1.8800e+02 2.8900e+00 1.0650e+02 1.2375e+02 3.1000e+00 1.8700e+02\n 4.4330e+02 7.1900e+00 8.2800e+00 1.0200e+00 1.9240e+01 6.5600e+01\n 2.2400e+02 8.7100e+01 1.8760e+01 2.8140e+01 6.5800e+01 2.4260e+01\n 2.8700e+02 7.2800e+01 1.7400e+02 5.4400e+00 4.2750e+01 7.2150e+01\n 1.8270e+01 2.4600e+00 4.5700e+02 3.0900e+00 4.7200e+02 6.5400e+01\n 1.6380e+01 2.3410e+01 7.6000e+00 1.3250e+02 3.0950e+01 2.3340e+02\n 8.2600e+00 1.9880e+01 4.3500e+01 4.7430e+01 3.7020e+01 3.3650e+02\n 7.1400e+01 7.1500e+00 5.7500e+00 1.6400e+01 4.4000e+00 8.6200e+00\n 6.7100e+00 7.5750e+01 4.2400e+01 2.9250e+01 3.4050e+02 1.4710e+01\n 2.1960e+02 4.6160e+01 2.6730e+02 7.8000e+00 3.6100e+00 3.5000e+00\n 4.8000e+00 7.6500e+00 6.4200e+00 4.6490e+01 3.9760e+01 2.6500e+02\n 1.0460e+01 4.1900e+00 4.3800e+00 1.6540e+01 4.9390e+01]"
        ],
        [
         "7",
         "Commision (in value)",
         "float64",
         "0",
         "0.0",
         "884",
         "[5.4000e+01 0.0000e+00 7.7000e+00 4.0000e+00 9.1000e+00 6.3210e+01\n 1.0500e+01 1.1880e+01 1.7820e+01 2.3400e+01 7.5000e+00 5.9400e+00\n 4.3750e+01 2.3760e+01 7.3600e+00 1.3299e+02 9.5700e+00 7.6400e+00\n 1.2250e+01 2.9700e+01 6.3000e+00 5.6300e+00 4.1580e+01 5.2500e+00\n 6.0000e+00 1.3662e+02 3.1530e+01 1.1550e+01 4.0250e+01 5.9400e+01\n 3.5640e+01 1.5750e+01 2.8500e+01 9.7500e+00 4.3900e+00 2.0060e+01\n 1.8000e+01 4.2500e+00 1.9070e+01 4.8800e+00 7.3800e+00 1.5500e+01\n 1.0500e+00 8.3160e+01 1.4700e+01 1.5400e+01 1.5700e+00 8.3800e+00\n 1.3310e+01 1.5560e+01 2.9000e-01 8.0000e+00 3.6730e+01 1.3650e+01\n 2.0300e+01 5.0000e+00 1.0000e+01 6.6300e+00 5.0000e-02 2.4150e+01\n 2.9050e+01 8.8800e+00 1.4000e+01 3.3800e+00 1.5880e+01 4.5000e-01\n 1.0890e+01 4.7520e+01 3.7000e-01 2.7250e+01 1.8130e+01 7.0200e+01\n 1.2400e+01 7.2940e+01 8.6300e+00 4.6300e+00 6.7500e+00 1.1250e+01\n 9.6000e-01 5.3460e+01 7.7220e+01 1.1300e+00 4.9400e+00 1.7300e+00\n 1.0380e+01 5.8450e+01 2.3500e+01 6.9400e+00 6.1300e+00 4.1420e+01\n 1.7500e+01 1.3160e+01 1.4000e-01 1.2950e+01 3.2300e+00 1.5930e+01\n 3.7400e+00 4.6960e+01 1.6250e+01 9.2000e+00 4.3800e+00 3.7500e+00\n 3.2000e-01 1.4250e+01 1.2050e+02 1.3100e+00 8.3250e+01 1.2540e+01\n 5.8500e+00 6.3200e+00 2.8350e+01 1.7230e+01 7.1280e+01 1.5000e+01\n 7.2500e+00 8.2200e+00 1.3250e+01 3.4630e+01 4.9400e+01 1.6653e+02\n 5.7500e+00 2.5000e-01 3.0450e+01 1.0130e+01 2.2130e+01 3.8150e+01\n 1.2200e+00 6.4800e+01 2.4200e+00 1.4937e+02 1.5300e+00 1.4300e+00\n 3.4100e+00 3.1750e+01 3.1690e+01 1.2474e+02 1.1380e+01 8.9100e+01\n 3.0200e+00 4.9900e+00 1.6500e+01 1.3630e+01 9.2500e+00 2.7000e-01\n 2.8800e+00 6.5340e+01 4.2350e+01 6.0100e+00 4.5000e+00 8.7800e+00\n 2.0750e+01 2.9440e+01 5.8800e+00 1.2288e+02 2.4380e+01 1.3380e+01\n 4.8300e+01 7.4000e-01 2.0150e+01 1.2130e+01 7.2100e+00 4.6250e+01\n 3.8000e-01 1.1210e+01 2.5500e+01 3.6860e+01 5.4000e-01 3.1000e+00\n 3.2800e+00 1.0640e+01 1.7130e+01 1.2600e+01 2.6750e+01 5.9000e-01\n 5.0000e-01 1.1830e+01 4.0500e+00 1.8800e+00 9.4500e+00 1.9500e+01\n 4.4840e+01 2.5880e+01 9.5900e+00 1.8620e+01 7.7600e+00 3.6100e+01\n 9.5040e+01 2.5000e+00 9.7340e+01 2.3600e+00 1.0725e+02 1.7390e+01\n 1.3500e+01 5.7400e+01 1.9340e+01 1.7100e+00 2.7400e+00 4.8000e+00\n 1.3068e+02 2.0380e+01 1.1750e+01 8.8100e+00 2.0880e+01 4.2000e+00\n 2.2000e-01 2.8130e+01 1.5100e+00 3.8000e+01 2.8600e+01 1.4880e+01\n 3.6000e+01 2.0300e+00 1.3950e+01 2.0200e+00 3.2200e+01 6.3800e+00\n 3.3750e+01 2.5250e+01 1.6450e+01 2.1350e+01 2.0440e+01 1.3300e+00\n 1.5380e+01 7.1300e+00 7.2800e+01 2.3500e+00 2.0000e+01 1.6750e+01\n 3.6800e+00 1.1880e+02 1.5280e+01 4.2180e+01 1.2380e+01 7.4700e+00\n 1.4440e+01 1.3880e+01 1.1200e+00 1.2500e+01 4.1000e-01 1.0692e+02\n 1.4130e+01 2.1450e+01 9.7250e+01 2.6200e+00 1.6650e+02 1.8560e+01\n 1.6900e+01 1.6900e+00 2.6000e-01 1.8600e+01 1.7750e+01 8.5200e+01\n 8.3600e+00 2.8100e+00 5.9880e+01 4.7290e+01 1.7150e+01 1.9140e+01\n 6.9710e+01 2.0000e-01 4.0130e+01 4.7000e-01 2.2910e+01 4.1270e+01\n 3.6400e+01 1.4550e+01 5.2000e+00 5.5300e+00 3.6000e-01 2.0130e+01\n 1.6610e+01 8.1000e+00 1.2000e+00 4.3550e+01 8.0000e-01 1.2700e+00\n 2.2050e+01 3.4600e+00 1.1231e+02 1.3420e+01 6.3000e-01 1.5000e+00\n 2.5130e+01 2.3450e+01 2.0800e+02 9.5000e-01 2.6400e+00 1.6570e+01\n 1.8671e+02 1.0050e+01 9.9900e+01 5.0600e+00 3.3800e+01 4.0950e+01\n 1.0630e+01 6.5330e+01 8.8000e-01 1.2630e+01 1.1700e+00 1.1020e+01\n 6.3750e+01 2.1021e+02 2.2000e+00 1.0800e+02 1.4530e+01 1.3200e+01\n 4.5600e+01 8.1300e+00 2.2000e+01 9.2600e+00 1.7380e+01 5.9100e+00\n 4.9500e+01 2.4450e+01 7.8000e+00 3.2680e+01 2.2040e+01 5.3490e+01\n 1.9600e+01 2.2200e+00 2.1130e+01 1.6300e+00 3.1500e+00 4.4700e+00\n 3.1000e-01 6.0040e+01 2.5550e+01 1.1700e+01 3.2300e+01 1.4975e+02\n 2.5100e+00 2.5680e+01 1.7400e+00 2.3000e-01 2.1600e+00 1.0113e+02\n 5.5090e+01 1.9650e+01 3.9250e+01 1.2560e+01 2.1500e+01 3.3600e+01\n 5.9800e+00 1.7710e+01 7.5250e+01 6.5000e-01 1.5190e+01 5.2150e+01\n 6.2500e+00 2.9380e+01 2.3800e+00 4.1380e+01 1.9250e+01 2.1600e+01\n 4.6500e+00 1.0098e+02 1.0850e+01 3.1200e+01 6.5160e+01 7.2250e+01\n 8.0500e+00 4.7400e+00 1.1261e+02 2.4100e+00 1.3000e-01 9.1900e+00\n 1.5450e+02 1.3700e+00 1.3000e+00 1.5900e+00 6.9900e+00 2.4300e+01\n 6.4700e+00 1.2900e+00 4.2900e+01 1.2750e+01 1.9600e+00 9.4000e-01\n 1.4313e+02 1.7550e+01 3.0500e+01 2.2250e+01 1.6000e-01 4.3470e+01\n 1.4750e+01 7.0200e+00 6.5100e+00 4.7200e+00 2.9130e+01 2.5020e+01\n 1.1900e+00 2.0500e+01 3.1050e+01 1.1600e+00 1.8400e+00 4.0200e+00\n 1.7000e+00 1.9630e+01 1.5015e+02 1.6800e+01 1.6000e+01 5.0250e+01\n 1.7250e+01 9.7000e-01 3.1880e+01 5.6000e-01 4.4500e+01 1.6400e+00\n 8.5000e+00 1.2400e+00 2.8930e+01 5.0700e+01 1.2775e+02 9.0090e+01\n 1.3490e+01 2.6000e+01 3.2830e+01 1.4380e+01 2.7300e+01 2.8250e+01\n 2.0816e+02 5.7200e+00 1.2070e+01 2.4860e+01 2.7600e+00 1.8200e+00\n 5.5860e+01 6.6600e+00 1.0900e+00 5.4190e+01 6.9000e-01 9.0000e-01\n 6.9300e+01 6.8080e+01 3.4130e+01 2.6600e+01 1.4500e+01 1.1050e+02\n 3.5500e+00 3.8500e+01 1.2940e+01 2.8690e+01 6.2650e+01 8.1000e-01\n 2.3750e+01 6.8800e+00 2.4500e+00 2.4000e-01 2.0600e+00 3.4000e-01\n 2.2230e+01 3.9500e+00 1.2100e+00 3.7700e+00 2.8760e+01 5.2850e+01\n 1.4650e+02 5.0490e+01 2.5600e+00 1.2090e+01 4.5800e+00 5.1450e+01\n 4.8630e+01 1.4850e+02 2.1000e-01 7.9000e-01 1.8000e+00 7.1600e+00\n 7.1850e+01 1.1500e+01 9.0000e+00 2.0690e+01 5.1130e+01 3.1250e+01\n 8.9000e+00 5.0400e+00 1.1130e+01 1.8250e+01 1.1580e+01 1.1800e+00\n 8.2500e+00 1.4950e+02 1.7540e+01 2.3970e+01 3.7000e+01 5.0130e+01\n 8.8500e+00 2.3730e+01 1.0320e+01 3.3500e+00 6.8900e+01 1.0822e+02\n 2.6500e+01 4.1800e+00 1.7500e+00 7.3450e+01 2.4750e+01 2.6276e+02\n 4.8420e+01 1.5960e+01 1.1630e+01 9.3800e+00 3.9400e+00 7.3250e+01\n 6.3380e+01 1.9130e+01 1.1540e+01 2.5700e+00 4.1130e+01 2.6400e+01\n 7.9600e+00 1.1286e+02 9.8700e+00 6.4200e+00 3.1000e+01 3.7130e+01\n 1.9950e+01 7.7000e-01 5.2330e+01 4.5400e+00 1.4790e+01 2.2750e+01\n 7.0000e-01 1.7226e+02 3.0550e+01 2.0280e+01 6.3350e+01 5.7130e+01\n 1.9700e+00 3.5630e+01 1.9000e+01 1.6410e+01 1.6500e+00 3.4750e+01\n 1.0150e+01 2.7200e+00 2.8180e+01 8.5700e+00 2.9750e+01 2.9600e+00\n 6.9160e+01 5.9000e+01 1.9500e+00 3.8500e+00 1.1060e+01 1.0250e+01\n 1.1780e+01 8.2100e+00 1.2500e+00 8.4000e-01 1.4100e+01 6.8200e+00\n 6.9000e+00 2.7360e+01 8.7500e+00 3.2100e+00 7.9100e+00 3.0100e+00\n 7.9500e+00 1.2170e+01 2.2360e+01 3.0400e+00 4.7880e+01 2.2100e+00\n 3.4380e+01 7.9630e+01 2.7000e+01 6.6000e-01 9.1300e+00 1.6632e+02\n 5.4500e+01 3.6560e+01 7.3500e+00 6.8000e-01 3.6100e+00 1.2000e+01\n 1.6600e+00 4.0300e+00 3.0800e+00 1.2875e+02 2.0995e+02 9.9700e+00\n 3.6200e+00 5.5500e+00 1.1100e+01 3.2500e+00 5.9150e+01 7.4880e+01\n 1.8200e+01 5.5480e+01 1.7050e+02 1.8240e+01 2.0850e+01 4.6700e+00\n 3.3950e+01 4.3100e+00 2.0480e+01 3.5380e+01 6.5000e+00 3.7600e+00\n 5.0500e+01 2.1850e+01 1.1720e+01 3.2900e+00 5.1300e+00 6.3900e+00\n 6.6700e+00 3.8250e+01 8.7000e+00 1.4460e+01 3.5590e+01 2.6980e+01\n 8.0440e+01 7.2130e+01 2.0820e+01 4.5900e+00 3.2660e+01 2.2400e+01\n 1.9350e+01 7.4100e+01 1.4700e+00 2.9200e+00 2.1000e+01 1.8850e+01\n 3.4500e+00 3.4500e+01 8.2600e+01 5.2650e+01 1.9900e+00 2.3060e+01\n 1.3475e+02 2.8000e+01 8.9600e+00 3.0000e+01 1.5000e-01 7.0250e+01\n 7.1000e-01 1.7850e+01 4.5500e+01 2.5200e+01 2.5840e+01 5.9300e+00\n 2.9500e+00 2.0030e+01 1.7160e+02 8.1130e+01 2.0800e+01 2.0640e+01\n 1.7200e+00 1.2675e+02 1.4256e+02 3.0160e+01 5.1980e+01 1.9050e+01\n 2.1300e+00 1.8380e+01 1.0690e+01 3.5300e+00 6.7750e+01 1.2600e+00\n 1.1200e+01 4.4060e+01 3.1540e+01 1.6050e+01 6.8500e+00 5.5000e+00\n 3.1380e+01 2.0250e+01 1.0220e+01 9.5500e+01 1.6800e+00 7.4260e+01\n 6.1000e-01 2.0700e+01 3.8020e+01 3.6000e+00 8.0300e+00 1.7630e+01\n 1.3400e+00 8.7100e+00 1.6090e+01 2.5620e+01 3.9000e+01 5.9500e+01\n 1.3210e+01 2.2300e+00 1.6640e+02 2.4170e+01 8.9960e+01 3.0500e+00\n 1.3690e+01 1.3900e+00 4.2000e+01 8.0500e+01 8.9380e+01 6.9250e+01\n 1.3200e+00 2.2730e+01 3.8920e+01 1.6950e+01 5.8000e-01 2.3400e+00\n 3.0900e+00 6.4050e+01 4.9000e-01 5.4600e+01 1.6700e+01 1.8414e+02\n 8.0600e+00 4.0600e+00 4.9600e+01 3.7700e+01 3.6300e+01 2.3630e+01\n 1.4800e+00 3.9330e+01 5.7750e+01 2.1750e+01 2.4850e+01 4.9650e+01\n 3.4250e+01 4.1250e+01 3.7300e+00 4.3000e-01 1.9990e+01 5.2600e+00\n 6.0380e+01 1.5500e+00 3.9000e+00 3.0710e+01 7.9250e+01 1.5570e+01\n 4.3060e+01 4.4000e+00 8.6800e+00 1.6038e+02 4.9730e+01 3.0750e+01\n 2.3810e+01 1.5440e+01 1.0800e+00 3.3900e+00 2.3290e+01 1.0700e+00\n 8.9900e+00 7.5600e+01 6.4550e+01 1.5444e+02 3.3300e+00 1.0200e+00\n 1.2300e+01 6.2000e+00 1.3406e+02 1.1000e-01 3.8700e+00 6.1700e+00\n 1.8630e+01 1.0600e+00 8.3000e-01 7.8280e+01 8.7600e+00 7.1250e+01\n 1.0100e+00 2.5510e+01 2.6550e+01 2.8950e+01 5.6000e+00 3.1400e+00\n 1.1340e+01 2.1700e+00 8.5000e-01 3.5340e+01 1.4630e+01 5.0580e+01\n 7.5000e-01 4.0750e+01 2.0960e+01 3.8350e+01 2.4600e+00 6.7000e-01\n 2.7500e+01 2.3250e+01 7.9750e+01 3.5000e+01 6.5000e+01 5.3800e+00\n 2.4090e+01 4.6000e+00 1.4180e+01 7.7130e+01 1.6100e+00 9.7200e+01\n 1.8320e+01 2.8700e+00 4.9100e+00 1.3750e+01 9.3000e-01 2.4500e+01\n 1.3860e+01 5.3400e+00 1.8000e-01 1.5900e+01 1.0255e+02 5.5250e+01\n 1.5600e+01 2.7300e+00 4.5380e+01 2.9570e+01 2.0100e+00 1.1110e+01\n 1.2140e+01 5.1400e+00 3.2500e+01 3.0250e+01 6.4380e+01 2.6590e+01\n 1.0602e+02 3.8000e+00 2.4700e+00 6.0500e+01 5.1750e+01 2.3600e+01\n 8.7700e+00 1.2390e+01 1.0300e+00 2.6630e+01 1.1083e+02 2.5200e+00\n 2.9000e+00 2.8000e-01 6.7300e+00 2.2960e+01 5.6000e+01 2.1770e+01\n 6.5700e+00 7.8900e+00 1.1000e+01 8.4900e+00 1.8655e+02 2.5480e+01\n 1.9000e+00 1.8040e+01 3.8510e+01 5.1200e+00 8.6000e-01 1.1425e+02\n 8.7000e-01 1.1800e+02 1.6350e+01 5.7300e+00 6.5600e+00 1.3000e+01\n 2.6600e+00 3.3130e+01 1.0830e+01 5.8350e+01 2.8900e+00 6.9600e+00\n 2.8280e+01 1.6600e+01 1.2960e+01 8.4130e+01 2.0000e+00 1.5400e+00\n 4.9240e+01 2.7560e+01 1.9010e+01 8.5130e+01 4.1300e+00 5.4900e+01\n 1.6160e+01 2.1900e+00 9.8000e-01 2.1500e+00 2.2500e+00 7.1700e+00\n 1.6270e+01 1.3920e+01 6.6250e+01 3.6600e+00 1.2300e+00 4.6400e+00\n 1.7290e+01 3.2180e+01]"
        ],
        [
         "8",
         "Age",
         "int64",
         "0",
         "0.0",
         "89",
         "[ 57  33  26  59  28  36  22  39  27  48  43  51  65  47  35  54  23  46\n  58  42  31  29  37  68   8  32  61  49  56  25  50  34  38  44  45  53\n  20  30  69  52  40  41  70  76  74  66  63  55  21  60  75  24  62  73\n  64  71   5  14  72  84  81  16  19  67  83  13  79  18   9  80  17  82\n  78  15 118  77  87  88  11  12  86   7  10   2   3   1   4  85   0]"
        ],
        [
         "9",
         "Claim",
         "int64",
         "0",
         "0.0",
         "2",
         "[0 1]"
        ],
        [
         "10",
         "AgeGroup",
         "category",
         "8",
         "0.02",
         "5",
         "['51-65', '18-35', '36-50', '65+', '<18', NaN]\nCategories (5, object): ['<18' < '18-35' < '36-50' < '51-65' < '65+']"
        ]
       ],
       "shape": {
        "columns": 6,
        "rows": 11
       }
      },
      "text/html": [
       "<div>\n",
       "<style scoped>\n",
       "    .dataframe tbody tr th:only-of-type {\n",
       "        vertical-align: middle;\n",
       "    }\n",
       "\n",
       "    .dataframe tbody tr th {\n",
       "        vertical-align: top;\n",
       "    }\n",
       "\n",
       "    .dataframe thead th {\n",
       "        text-align: right;\n",
       "    }\n",
       "</style>\n",
       "<table border=\"1\" class=\"dataframe\">\n",
       "  <thead>\n",
       "    <tr style=\"text-align: right;\">\n",
       "      <th></th>\n",
       "      <th>Column Name</th>\n",
       "      <th>Data Type</th>\n",
       "      <th>Null</th>\n",
       "      <th>Null Percentage</th>\n",
       "      <th>Number of Unique</th>\n",
       "      <th>Unique Sample</th>\n",
       "    </tr>\n",
       "  </thead>\n",
       "  <tbody>\n",
       "    <tr>\n",
       "      <th>0</th>\n",
       "      <td>Agency</td>\n",
       "      <td>object</td>\n",
       "      <td>0</td>\n",
       "      <td>0.00</td>\n",
       "      <td>4</td>\n",
       "      <td>[C2B, EPX, Others, CWT]</td>\n",
       "    </tr>\n",
       "    <tr>\n",
       "      <th>1</th>\n",
       "      <td>Agency Type</td>\n",
       "      <td>object</td>\n",
       "      <td>0</td>\n",
       "      <td>0.00</td>\n",
       "      <td>2</td>\n",
       "      <td>[Airlines, Travel Agency]</td>\n",
       "    </tr>\n",
       "    <tr>\n",
       "      <th>2</th>\n",
       "      <td>Distribution Channel</td>\n",
       "      <td>object</td>\n",
       "      <td>0</td>\n",
       "      <td>0.00</td>\n",
       "      <td>2</td>\n",
       "      <td>[Online, Offline]</td>\n",
       "    </tr>\n",
       "    <tr>\n",
       "      <th>3</th>\n",
       "      <td>Product Name</td>\n",
       "      <td>object</td>\n",
       "      <td>0</td>\n",
       "      <td>0.00</td>\n",
       "      <td>6</td>\n",
       "      <td>[Annual Silver Plan, Others, 2 way Comprehensive Plan, Bronze Plan, Rental Vehicle Excess Insurance, Silver Plan]</td>\n",
       "    </tr>\n",
       "    <tr>\n",
       "      <th>4</th>\n",
       "      <td>Duration</td>\n",
       "      <td>int64</td>\n",
       "      <td>0</td>\n",
       "      <td>0.00</td>\n",
       "      <td>421</td>\n",
       "      <td>[365, 4, 19, 20, 8, 2, 25, 90, 24, 43, 103, 376, 6, 16, 27, 34, 3, 14, 12, 31, 5, 7, 56, 29, 30, 58, 9, 38, 42, 11, 13, 40, 79, 370, 366, 26, 83, 55, 18, 100, 1, 35, 36, 75, 23, 73, 32, 232, 37, 10, 15, 17, 99, 173, 74, 82, 66, 156, 39, 95, 98, 111, 53, 87, 70, 151, 45, 54, 114, 118, 62, 28, 112, 326, 22, 59, 44, 21, 97, 63, 60, 51, 180, 160, 368, 65, 93, 71, 0, 76, 69, 110, 146, 116, 129, 84, 33, 149, 68, 64, ...]</td>\n",
       "    </tr>\n",
       "    <tr>\n",
       "      <th>5</th>\n",
       "      <td>Destination</td>\n",
       "      <td>object</td>\n",
       "      <td>0</td>\n",
       "      <td>0.00</td>\n",
       "      <td>7</td>\n",
       "      <td>[Asia, North America, Europe, Oceania, Other, Africa, South America]</td>\n",
       "    </tr>\n",
       "    <tr>\n",
       "      <th>6</th>\n",
       "      <td>Net Sales</td>\n",
       "      <td>float64</td>\n",
       "      <td>0</td>\n",
       "      <td>0.00</td>\n",
       "      <td>869</td>\n",
       "      <td>[216.0, 10.0, 22.0, 112.0, 16.0, 50.0, 78.0, 80.0, 40.0, 26.0, 252.85, 47.0, 25.0, 23.0, 20.0, 30.0, 42.0, 56.0, 19.8, 14.0, 29.7, 36.0, 31.0, 58.0, 9.9, 15.0, 21.0, 29.0, 32.0, 125.0, 48.0, 0.0, 21.04, 33.0, 204.6, 34.0, 30.55, 35.0, 49.5, 18.0, 98.0, 77.0, 69.3, 64.0, 227.7, 48.5, 24.0, 161.0, 99.0, 59.4, 45.0, 44.0, 19.0, 75.0, 39.0, 17.55, 51.0, 80.25, 63.0, 12.0, 72.0, 53.0, 38.0, 17.0, 54.0, 37.0, 69.0, 115.0, 76.3, 19.5, 29.5, 62.0, 11.0, 3.73, 79.0, 138.6, 22.5, 59.0, 5.59, 33.5, 53.25, 62.25, 93.0, 1.03, 27.0, 56.5, 39.6, 28.0, 41.0, 97.0, 128.0, 43.0, 66.0, 26.5, 0.19, 83.0, 35.5, 13.5, 63.5, 73.0, ...]</td>\n",
       "    </tr>\n",
       "    <tr>\n",
       "      <th>7</th>\n",
       "      <td>Commision (in value)</td>\n",
       "      <td>float64</td>\n",
       "      <td>0</td>\n",
       "      <td>0.00</td>\n",
       "      <td>884</td>\n",
       "      <td>[54.0, 0.0, 7.7, 4.0, 9.1, 63.21, 10.5, 11.88, 17.82, 23.4, 7.5, 5.94, 43.75, 23.76, 7.36, 132.99, 9.57, 7.64, 12.25, 29.7, 6.3, 5.63, 41.58, 5.25, 6.0, 136.62, 31.53, 11.55, 40.25, 59.4, 35.64, 15.75, 28.5, 9.75, 4.39, 20.06, 18.0, 4.25, 19.07, 4.88, 7.38, 15.5, 1.05, 83.16, 14.7, 15.4, 1.57, 8.38, 13.31, 15.56, 0.29, 8.0, 36.73, 13.65, 20.3, 5.0, 10.0, 6.63, 0.05, 24.15, 29.05, 8.88, 14.0, 3.38, 15.88, 0.45, 10.89, 47.52, 0.37, 27.25, 18.13, 70.2, 12.4, 72.94, 8.63, 4.63, 6.75, 11.25, 0.96, 53.46, 77.22, 1.13, 4.94, 1.73, 10.38, 58.45, 23.5, 6.94, 6.13, 41.42, 17.5, 13.16, 0.14, 12.95, 3.23, 15.93, 3.74, 46.96, 16.25, 9.2, ...]</td>\n",
       "    </tr>\n",
       "    <tr>\n",
       "      <th>8</th>\n",
       "      <td>Age</td>\n",
       "      <td>int64</td>\n",
       "      <td>0</td>\n",
       "      <td>0.00</td>\n",
       "      <td>89</td>\n",
       "      <td>[57, 33, 26, 59, 28, 36, 22, 39, 27, 48, 43, 51, 65, 47, 35, 54, 23, 46, 58, 42, 31, 29, 37, 68, 8, 32, 61, 49, 56, 25, 50, 34, 38, 44, 45, 53, 20, 30, 69, 52, 40, 41, 70, 76, 74, 66, 63, 55, 21, 60, 75, 24, 62, 73, 64, 71, 5, 14, 72, 84, 81, 16, 19, 67, 83, 13, 79, 18, 9, 80, 17, 82, 78, 15, 118, 77, 87, 88, 11, 12, 86, 7, 10, 2, 3, 1, 4, 85, 0]</td>\n",
       "    </tr>\n",
       "    <tr>\n",
       "      <th>9</th>\n",
       "      <td>Claim</td>\n",
       "      <td>int64</td>\n",
       "      <td>0</td>\n",
       "      <td>0.00</td>\n",
       "      <td>2</td>\n",
       "      <td>[0, 1]</td>\n",
       "    </tr>\n",
       "    <tr>\n",
       "      <th>10</th>\n",
       "      <td>AgeGroup</td>\n",
       "      <td>category</td>\n",
       "      <td>8</td>\n",
       "      <td>0.02</td>\n",
       "      <td>5</td>\n",
       "      <td>['51-65', '18-35', '36-50', '65+', '&lt;18', NaN]\n",
       "Categories (5, object): ['&lt;18' &lt; '18-35' &lt; '36-50' &lt; '51-65' &lt; '65+']</td>\n",
       "    </tr>\n",
       "  </tbody>\n",
       "</table>\n",
       "</div>"
      ],
      "text/plain": [
       "             Column Name Data Type  Null  Null Percentage  Number of Unique  \\\n",
       "0   Agency                object    0     0.00             4                  \n",
       "1   Agency Type           object    0     0.00             2                  \n",
       "2   Distribution Channel  object    0     0.00             2                  \n",
       "3   Product Name          object    0     0.00             6                  \n",
       "4   Duration              int64     0     0.00             421                \n",
       "5   Destination           object    0     0.00             7                  \n",
       "6   Net Sales             float64   0     0.00             869                \n",
       "7   Commision (in value)  float64   0     0.00             884                \n",
       "8   Age                   int64     0     0.00             89                 \n",
       "9   Claim                 int64     0     0.00             2                  \n",
       "10  AgeGroup              category  8     0.02             5                  \n",
       "\n",
       "                                                                                                                                                                                                                                                                                                                                                                                                                                                                                                                                                                                                                                                    Unique Sample  \n",
       "0   [C2B, EPX, Others, CWT]                                                                                                                                                                                                                                                                                                                                                                                                                                                                                                                                                                                                                                        \n",
       "1   [Airlines, Travel Agency]                                                                                                                                                                                                                                                                                                                                                                                                                                                                                                                                                                                                                                      \n",
       "2   [Online, Offline]                                                                                                                                                                                                                                                                                                                                                                                                                                                                                                                                                                                                                                              \n",
       "3   [Annual Silver Plan, Others, 2 way Comprehensive Plan, Bronze Plan, Rental Vehicle Excess Insurance, Silver Plan]                                                                                                                                                                                                                                                                                                                                                                                                                                                                                                                                              \n",
       "4   [365, 4, 19, 20, 8, 2, 25, 90, 24, 43, 103, 376, 6, 16, 27, 34, 3, 14, 12, 31, 5, 7, 56, 29, 30, 58, 9, 38, 42, 11, 13, 40, 79, 370, 366, 26, 83, 55, 18, 100, 1, 35, 36, 75, 23, 73, 32, 232, 37, 10, 15, 17, 99, 173, 74, 82, 66, 156, 39, 95, 98, 111, 53, 87, 70, 151, 45, 54, 114, 118, 62, 28, 112, 326, 22, 59, 44, 21, 97, 63, 60, 51, 180, 160, 368, 65, 93, 71, 0, 76, 69, 110, 146, 116, 129, 84, 33, 149, 68, 64, ...]                                                                                                                                                                                                                             \n",
       "5   [Asia, North America, Europe, Oceania, Other, Africa, South America]                                                                                                                                                                                                                                                                                                                                                                                                                                                                                                                                                                                           \n",
       "6   [216.0, 10.0, 22.0, 112.0, 16.0, 50.0, 78.0, 80.0, 40.0, 26.0, 252.85, 47.0, 25.0, 23.0, 20.0, 30.0, 42.0, 56.0, 19.8, 14.0, 29.7, 36.0, 31.0, 58.0, 9.9, 15.0, 21.0, 29.0, 32.0, 125.0, 48.0, 0.0, 21.04, 33.0, 204.6, 34.0, 30.55, 35.0, 49.5, 18.0, 98.0, 77.0, 69.3, 64.0, 227.7, 48.5, 24.0, 161.0, 99.0, 59.4, 45.0, 44.0, 19.0, 75.0, 39.0, 17.55, 51.0, 80.25, 63.0, 12.0, 72.0, 53.0, 38.0, 17.0, 54.0, 37.0, 69.0, 115.0, 76.3, 19.5, 29.5, 62.0, 11.0, 3.73, 79.0, 138.6, 22.5, 59.0, 5.59, 33.5, 53.25, 62.25, 93.0, 1.03, 27.0, 56.5, 39.6, 28.0, 41.0, 97.0, 128.0, 43.0, 66.0, 26.5, 0.19, 83.0, 35.5, 13.5, 63.5, 73.0, ...]                   \n",
       "7   [54.0, 0.0, 7.7, 4.0, 9.1, 63.21, 10.5, 11.88, 17.82, 23.4, 7.5, 5.94, 43.75, 23.76, 7.36, 132.99, 9.57, 7.64, 12.25, 29.7, 6.3, 5.63, 41.58, 5.25, 6.0, 136.62, 31.53, 11.55, 40.25, 59.4, 35.64, 15.75, 28.5, 9.75, 4.39, 20.06, 18.0, 4.25, 19.07, 4.88, 7.38, 15.5, 1.05, 83.16, 14.7, 15.4, 1.57, 8.38, 13.31, 15.56, 0.29, 8.0, 36.73, 13.65, 20.3, 5.0, 10.0, 6.63, 0.05, 24.15, 29.05, 8.88, 14.0, 3.38, 15.88, 0.45, 10.89, 47.52, 0.37, 27.25, 18.13, 70.2, 12.4, 72.94, 8.63, 4.63, 6.75, 11.25, 0.96, 53.46, 77.22, 1.13, 4.94, 1.73, 10.38, 58.45, 23.5, 6.94, 6.13, 41.42, 17.5, 13.16, 0.14, 12.95, 3.23, 15.93, 3.74, 46.96, 16.25, 9.2, ...]  \n",
       "8   [57, 33, 26, 59, 28, 36, 22, 39, 27, 48, 43, 51, 65, 47, 35, 54, 23, 46, 58, 42, 31, 29, 37, 68, 8, 32, 61, 49, 56, 25, 50, 34, 38, 44, 45, 53, 20, 30, 69, 52, 40, 41, 70, 76, 74, 66, 63, 55, 21, 60, 75, 24, 62, 73, 64, 71, 5, 14, 72, 84, 81, 16, 19, 67, 83, 13, 79, 18, 9, 80, 17, 82, 78, 15, 118, 77, 87, 88, 11, 12, 86, 7, 10, 2, 3, 1, 4, 85, 0]                                                                                                                                                                                                                                                                                                   \n",
       "9   [0, 1]                                                                                                                                                                                                                                                                                                                                                                                                                                                                                                                                                                                                                                                         \n",
       "10  ['51-65', '18-35', '36-50', '65+', '<18', NaN]\n",
       "Categories (5, object): ['<18' < '18-35' < '36-50' < '51-65' < '65+']                                                                                                                                                                                                                                                                                                                                                                                                                                                                                                                                           "
      ]
     },
     "execution_count": 45,
     "metadata": {},
     "output_type": "execute_result"
    }
   ],
   "source": [
    "pd.set_option('display.max_colwidth', 1)\n",
    "\n",
    "listItem = []\n",
    "for col in df.columns:\n",
    "    listItem.append([col, df[col].dtype, df[col].isna().sum(), round((((df[col].isna().sum())/len(df))*100),2), df[col].nunique(),\n",
    "                     df[col].unique()])\n",
    "    \n",
    "tabel1Desc = pd.DataFrame(columns=['Column Name', 'Data Type', 'Null', 'Null Percentage', 'Number of Unique', 'Unique Sample'],\n",
    "                          data=listItem)\n",
    "tabel1Desc"
   ]
  },
  {
   "cell_type": "markdown",
   "id": "7a462243",
   "metadata": {},
   "source": [
    "Data awal berisi 44328 baris dan 11 kolom dan setelah drop *missing values* dan outliers yang tidak diperlukan serta binning pada kolomh Age, data menjadi 38425 baris dan 11 kolom dengan kolom Age yang berubah menjadi AgeGroup."
   ]
  },
  {
   "cell_type": "code",
   "execution_count": 46,
   "id": "dbcb82ef",
   "metadata": {},
   "outputs": [],
   "source": [
    "# save to csv\n",
    "df.to_csv('Data Train Travel_Insurance.csv', index=False)"
   ]
  },
  {
   "cell_type": "code",
   "execution_count": 47,
   "id": "709f67e4",
   "metadata": {},
   "outputs": [],
   "source": [
    "X = df.drop(columns=['Claim']).copy()\n",
    "y = df['Claim'].copy()"
   ]
  },
  {
   "cell_type": "markdown",
   "id": "863a3a21",
   "metadata": {},
   "source": [
    "#### Encoding\n",
    "\n",
    "Selanjutnya kita akan melakukan encoding pada kolom kategorikal."
   ]
  },
  {
   "cell_type": "code",
   "execution_count": 48,
   "id": "f289bbc1",
   "metadata": {},
   "outputs": [],
   "source": [
    "df_encode = pd.get_dummies(df, columns=['Agency', 'Agency Type', 'Distribution Channel', 'Product Name', 'Destination', 'AgeGroup'  ], dtype=int, drop_first=True)"
   ]
  },
  {
   "cell_type": "code",
   "execution_count": 49,
   "id": "4ead7e8d",
   "metadata": {},
   "outputs": [
    {
     "data": {
      "application/vnd.microsoft.datawrangler.viewer.v0+json": {
       "columns": [
        {
         "name": "index",
         "rawType": "int64",
         "type": "integer"
        },
        {
         "name": "Duration",
         "rawType": "int64",
         "type": "integer"
        },
        {
         "name": "Net Sales",
         "rawType": "float64",
         "type": "float"
        },
        {
         "name": "Commision (in value)",
         "rawType": "float64",
         "type": "float"
        },
        {
         "name": "Age",
         "rawType": "int64",
         "type": "integer"
        },
        {
         "name": "Claim",
         "rawType": "int64",
         "type": "integer"
        },
        {
         "name": "Agency_CWT",
         "rawType": "int64",
         "type": "integer"
        },
        {
         "name": "Agency_EPX",
         "rawType": "int64",
         "type": "integer"
        },
        {
         "name": "Agency_Others",
         "rawType": "int64",
         "type": "integer"
        },
        {
         "name": "Agency Type_Travel Agency",
         "rawType": "int64",
         "type": "integer"
        },
        {
         "name": "Distribution Channel_Online",
         "rawType": "int64",
         "type": "integer"
        },
        {
         "name": "Product Name_Annual Silver Plan",
         "rawType": "int64",
         "type": "integer"
        },
        {
         "name": "Product Name_Bronze Plan",
         "rawType": "int64",
         "type": "integer"
        },
        {
         "name": "Product Name_Others",
         "rawType": "int64",
         "type": "integer"
        },
        {
         "name": "Product Name_Rental Vehicle Excess Insurance",
         "rawType": "int64",
         "type": "integer"
        },
        {
         "name": "Product Name_Silver Plan",
         "rawType": "int64",
         "type": "integer"
        },
        {
         "name": "Destination_Asia",
         "rawType": "int64",
         "type": "integer"
        },
        {
         "name": "Destination_Europe",
         "rawType": "int64",
         "type": "integer"
        },
        {
         "name": "Destination_North America",
         "rawType": "int64",
         "type": "integer"
        },
        {
         "name": "Destination_Oceania",
         "rawType": "int64",
         "type": "integer"
        },
        {
         "name": "Destination_Other",
         "rawType": "int64",
         "type": "integer"
        },
        {
         "name": "Destination_South America",
         "rawType": "int64",
         "type": "integer"
        },
        {
         "name": "AgeGroup_18-35",
         "rawType": "int64",
         "type": "integer"
        },
        {
         "name": "AgeGroup_36-50",
         "rawType": "int64",
         "type": "integer"
        },
        {
         "name": "AgeGroup_51-65",
         "rawType": "int64",
         "type": "integer"
        },
        {
         "name": "AgeGroup_65+",
         "rawType": "int64",
         "type": "integer"
        }
       ],
       "ref": "861c05c5-67ff-474e-ae41-19467fab3989",
       "rows": [
        [
         "0",
         "365",
         "216.0",
         "54.0",
         "57",
         "0",
         "0",
         "0",
         "0",
         "0",
         "1",
         "1",
         "0",
         "0",
         "0",
         "0",
         "1",
         "0",
         "0",
         "0",
         "0",
         "0",
         "0",
         "0",
         "1",
         "0"
        ],
        [
         "1",
         "4",
         "10.0",
         "0.0",
         "33",
         "0",
         "0",
         "1",
         "0",
         "1",
         "1",
         "0",
         "0",
         "1",
         "0",
         "0",
         "1",
         "0",
         "0",
         "0",
         "0",
         "0",
         "1",
         "0",
         "0",
         "0"
        ],
        [
         "2",
         "19",
         "22.0",
         "7.7",
         "26",
         "0",
         "0",
         "0",
         "1",
         "0",
         "1",
         "0",
         "0",
         "1",
         "0",
         "0",
         "1",
         "0",
         "0",
         "0",
         "0",
         "0",
         "1",
         "0",
         "0",
         "0"
        ],
        [
         "3",
         "20",
         "112.0",
         "0.0",
         "59",
         "0",
         "0",
         "1",
         "0",
         "1",
         "1",
         "0",
         "0",
         "0",
         "0",
         "0",
         "0",
         "0",
         "1",
         "0",
         "0",
         "0",
         "0",
         "0",
         "1",
         "0"
        ],
        [
         "4",
         "8",
         "16.0",
         "4.0",
         "28",
         "0",
         "0",
         "0",
         "0",
         "0",
         "1",
         "0",
         "1",
         "0",
         "0",
         "0",
         "1",
         "0",
         "0",
         "0",
         "0",
         "0",
         "1",
         "0",
         "0",
         "0"
        ]
       ],
       "shape": {
        "columns": 25,
        "rows": 5
       }
      },
      "text/html": [
       "<div>\n",
       "<style scoped>\n",
       "    .dataframe tbody tr th:only-of-type {\n",
       "        vertical-align: middle;\n",
       "    }\n",
       "\n",
       "    .dataframe tbody tr th {\n",
       "        vertical-align: top;\n",
       "    }\n",
       "\n",
       "    .dataframe thead th {\n",
       "        text-align: right;\n",
       "    }\n",
       "</style>\n",
       "<table border=\"1\" class=\"dataframe\">\n",
       "  <thead>\n",
       "    <tr style=\"text-align: right;\">\n",
       "      <th></th>\n",
       "      <th>Duration</th>\n",
       "      <th>Net Sales</th>\n",
       "      <th>Commision (in value)</th>\n",
       "      <th>Age</th>\n",
       "      <th>Claim</th>\n",
       "      <th>Agency_CWT</th>\n",
       "      <th>Agency_EPX</th>\n",
       "      <th>Agency_Others</th>\n",
       "      <th>Agency Type_Travel Agency</th>\n",
       "      <th>Distribution Channel_Online</th>\n",
       "      <th>...</th>\n",
       "      <th>Destination_Asia</th>\n",
       "      <th>Destination_Europe</th>\n",
       "      <th>Destination_North America</th>\n",
       "      <th>Destination_Oceania</th>\n",
       "      <th>Destination_Other</th>\n",
       "      <th>Destination_South America</th>\n",
       "      <th>AgeGroup_18-35</th>\n",
       "      <th>AgeGroup_36-50</th>\n",
       "      <th>AgeGroup_51-65</th>\n",
       "      <th>AgeGroup_65+</th>\n",
       "    </tr>\n",
       "  </thead>\n",
       "  <tbody>\n",
       "    <tr>\n",
       "      <th>0</th>\n",
       "      <td>365</td>\n",
       "      <td>216.0</td>\n",
       "      <td>54.0</td>\n",
       "      <td>57</td>\n",
       "      <td>0</td>\n",
       "      <td>0</td>\n",
       "      <td>0</td>\n",
       "      <td>0</td>\n",
       "      <td>0</td>\n",
       "      <td>1</td>\n",
       "      <td>...</td>\n",
       "      <td>1</td>\n",
       "      <td>0</td>\n",
       "      <td>0</td>\n",
       "      <td>0</td>\n",
       "      <td>0</td>\n",
       "      <td>0</td>\n",
       "      <td>0</td>\n",
       "      <td>0</td>\n",
       "      <td>1</td>\n",
       "      <td>0</td>\n",
       "    </tr>\n",
       "    <tr>\n",
       "      <th>1</th>\n",
       "      <td>4</td>\n",
       "      <td>10.0</td>\n",
       "      <td>0.0</td>\n",
       "      <td>33</td>\n",
       "      <td>0</td>\n",
       "      <td>0</td>\n",
       "      <td>1</td>\n",
       "      <td>0</td>\n",
       "      <td>1</td>\n",
       "      <td>1</td>\n",
       "      <td>...</td>\n",
       "      <td>1</td>\n",
       "      <td>0</td>\n",
       "      <td>0</td>\n",
       "      <td>0</td>\n",
       "      <td>0</td>\n",
       "      <td>0</td>\n",
       "      <td>1</td>\n",
       "      <td>0</td>\n",
       "      <td>0</td>\n",
       "      <td>0</td>\n",
       "    </tr>\n",
       "    <tr>\n",
       "      <th>2</th>\n",
       "      <td>19</td>\n",
       "      <td>22.0</td>\n",
       "      <td>7.7</td>\n",
       "      <td>26</td>\n",
       "      <td>0</td>\n",
       "      <td>0</td>\n",
       "      <td>0</td>\n",
       "      <td>1</td>\n",
       "      <td>0</td>\n",
       "      <td>1</td>\n",
       "      <td>...</td>\n",
       "      <td>1</td>\n",
       "      <td>0</td>\n",
       "      <td>0</td>\n",
       "      <td>0</td>\n",
       "      <td>0</td>\n",
       "      <td>0</td>\n",
       "      <td>1</td>\n",
       "      <td>0</td>\n",
       "      <td>0</td>\n",
       "      <td>0</td>\n",
       "    </tr>\n",
       "    <tr>\n",
       "      <th>3</th>\n",
       "      <td>20</td>\n",
       "      <td>112.0</td>\n",
       "      <td>0.0</td>\n",
       "      <td>59</td>\n",
       "      <td>0</td>\n",
       "      <td>0</td>\n",
       "      <td>1</td>\n",
       "      <td>0</td>\n",
       "      <td>1</td>\n",
       "      <td>1</td>\n",
       "      <td>...</td>\n",
       "      <td>0</td>\n",
       "      <td>0</td>\n",
       "      <td>1</td>\n",
       "      <td>0</td>\n",
       "      <td>0</td>\n",
       "      <td>0</td>\n",
       "      <td>0</td>\n",
       "      <td>0</td>\n",
       "      <td>1</td>\n",
       "      <td>0</td>\n",
       "    </tr>\n",
       "    <tr>\n",
       "      <th>4</th>\n",
       "      <td>8</td>\n",
       "      <td>16.0</td>\n",
       "      <td>4.0</td>\n",
       "      <td>28</td>\n",
       "      <td>0</td>\n",
       "      <td>0</td>\n",
       "      <td>0</td>\n",
       "      <td>0</td>\n",
       "      <td>0</td>\n",
       "      <td>1</td>\n",
       "      <td>...</td>\n",
       "      <td>1</td>\n",
       "      <td>0</td>\n",
       "      <td>0</td>\n",
       "      <td>0</td>\n",
       "      <td>0</td>\n",
       "      <td>0</td>\n",
       "      <td>1</td>\n",
       "      <td>0</td>\n",
       "      <td>0</td>\n",
       "      <td>0</td>\n",
       "    </tr>\n",
       "  </tbody>\n",
       "</table>\n",
       "<p>5 rows × 25 columns</p>\n",
       "</div>"
      ],
      "text/plain": [
       "   Duration  Net Sales  Commision (in value)  Age  Claim  Agency_CWT  \\\n",
       "0  365       216.0      54.0                  57   0      0            \n",
       "1  4         10.0       0.0                   33   0      0            \n",
       "2  19        22.0       7.7                   26   0      0            \n",
       "3  20        112.0      0.0                   59   0      0            \n",
       "4  8         16.0       4.0                   28   0      0            \n",
       "\n",
       "   Agency_EPX  Agency_Others  Agency Type_Travel Agency  \\\n",
       "0  0           0              0                           \n",
       "1  1           0              1                           \n",
       "2  0           1              0                           \n",
       "3  1           0              1                           \n",
       "4  0           0              0                           \n",
       "\n",
       "   Distribution Channel_Online  ...  Destination_Asia  Destination_Europe  \\\n",
       "0  1                            ...  1                 0                    \n",
       "1  1                            ...  1                 0                    \n",
       "2  1                            ...  1                 0                    \n",
       "3  1                            ...  0                 0                    \n",
       "4  1                            ...  1                 0                    \n",
       "\n",
       "   Destination_North America  Destination_Oceania  Destination_Other  \\\n",
       "0  0                          0                    0                   \n",
       "1  0                          0                    0                   \n",
       "2  0                          0                    0                   \n",
       "3  1                          0                    0                   \n",
       "4  0                          0                    0                   \n",
       "\n",
       "   Destination_South America  AgeGroup_18-35  AgeGroup_36-50  AgeGroup_51-65  \\\n",
       "0  0                          0               0               1                \n",
       "1  0                          1               0               0                \n",
       "2  0                          1               0               0                \n",
       "3  0                          0               0               1                \n",
       "4  0                          1               0               0                \n",
       "\n",
       "   AgeGroup_65+  \n",
       "0  0             \n",
       "1  0             \n",
       "2  0             \n",
       "3  0             \n",
       "4  0             \n",
       "\n",
       "[5 rows x 25 columns]"
      ]
     },
     "execution_count": 49,
     "metadata": {},
     "output_type": "execute_result"
    }
   ],
   "source": [
    "df_encode.head()"
   ]
  },
  {
   "cell_type": "code",
   "execution_count": 50,
   "id": "607a9e1b",
   "metadata": {},
   "outputs": [],
   "source": [
    "X = df_encode.drop(columns=['Claim']).copy()\n",
    "y = df_encode['Claim'].copy()"
   ]
  },
  {
   "cell_type": "code",
   "execution_count": 51,
   "id": "3aa5b0b6",
   "metadata": {},
   "outputs": [],
   "source": [
    "X_train, X_test, y_train, y_test = train_test_split(X, y, test_size=0.2, random_state=42, stratify=y)"
   ]
  },
  {
   "cell_type": "markdown",
   "id": "26963940",
   "metadata": {},
   "source": [
    "### Modeling\n",
    "Beberapa model akan dicoba untuk mengetahui model apa yang memiliki nilai paling bagus dan sesuai untuk kasus ini. Untuk scaling data, karena terdapat outliers pada data ini, maka akan menggunakan Robust Scaler. "
   ]
  },
  {
   "cell_type": "markdown",
   "id": "c76d3505",
   "metadata": {},
   "source": [
    "Selain itu, karena jumlah kelas dari target Claim sangat tidak seimbang, maka perlu dilakukan balancing. Beberapa strategi balancing akan dicoba pada setiap model untuk mengetahui strategi mana yang paling tepat."
   ]
  },
  {
   "cell_type": "code",
   "execution_count": 52,
   "id": "133128f5",
   "metadata": {},
   "outputs": [
    {
     "name": "stdout",
     "output_type": "stream",
     "text": [
      "\n",
      " Handling method: No Handling\n",
      "  Random Forest: F1 CV Mean = 0.0180\n",
      "  Logistic Regression: F1 CV Mean = 0.0036\n",
      "  Decision Tree: F1 CV Mean = 0.0915\n",
      "  KNN: F1 CV Mean = 0.0209\n",
      "\n",
      " Handling method: SMOTE\n",
      "  Random Forest: F1 CV Mean = 0.0884\n",
      "  Logistic Regression: F1 CV Mean = 0.1134\n",
      "  Decision Tree: F1 CV Mean = 0.0784\n",
      "  KNN: F1 CV Mean = 0.0818\n",
      "\n",
      " Handling method: RandomOverSampler\n",
      "  Random Forest: F1 CV Mean = 0.0487\n",
      "  Logistic Regression: F1 CV Mean = 0.1147\n",
      "  Decision Tree: F1 CV Mean = 0.0652\n",
      "  KNN: F1 CV Mean = 0.0871\n",
      "\n",
      " Handling method: RandomUnderSampler\n",
      "  Random Forest: F1 CV Mean = 0.0851\n",
      "  Logistic Regression: F1 CV Mean = 0.1163\n",
      "  Decision Tree: F1 CV Mean = 0.0660\n",
      "  KNN: F1 CV Mean = 0.0868\n",
      "\n",
      " Perbandingan F1-score:\n",
      "\n"
     ]
    },
    {
     "data": {
      "application/vnd.microsoft.datawrangler.viewer.v0+json": {
       "columns": [
        {
         "name": "index",
         "rawType": "object",
         "type": "string"
        },
        {
         "name": "Random Forest",
         "rawType": "float64",
         "type": "float"
        },
        {
         "name": "Logistic Regression",
         "rawType": "float64",
         "type": "float"
        },
        {
         "name": "Decision Tree",
         "rawType": "float64",
         "type": "float"
        },
        {
         "name": "KNN",
         "rawType": "float64",
         "type": "float"
        }
       ],
       "ref": "4802f3e4-02d5-415b-87b9-70f6590e2bb5",
       "rows": [
        [
         "No Handling",
         "0.018",
         "0.0036",
         "0.0915",
         "0.0209"
        ],
        [
         "SMOTE",
         "0.0884",
         "0.1134",
         "0.0784",
         "0.0818"
        ],
        [
         "RandomOverSampler",
         "0.0487",
         "0.1147",
         "0.0652",
         "0.0871"
        ],
        [
         "RandomUnderSampler",
         "0.0851",
         "0.1163",
         "0.066",
         "0.0868"
        ]
       ],
       "shape": {
        "columns": 4,
        "rows": 4
       }
      },
      "text/html": [
       "<div>\n",
       "<style scoped>\n",
       "    .dataframe tbody tr th:only-of-type {\n",
       "        vertical-align: middle;\n",
       "    }\n",
       "\n",
       "    .dataframe tbody tr th {\n",
       "        vertical-align: top;\n",
       "    }\n",
       "\n",
       "    .dataframe thead th {\n",
       "        text-align: right;\n",
       "    }\n",
       "</style>\n",
       "<table border=\"1\" class=\"dataframe\">\n",
       "  <thead>\n",
       "    <tr style=\"text-align: right;\">\n",
       "      <th></th>\n",
       "      <th>Random Forest</th>\n",
       "      <th>Logistic Regression</th>\n",
       "      <th>Decision Tree</th>\n",
       "      <th>KNN</th>\n",
       "    </tr>\n",
       "  </thead>\n",
       "  <tbody>\n",
       "    <tr>\n",
       "      <th>No Handling</th>\n",
       "      <td>0.0180</td>\n",
       "      <td>0.0036</td>\n",
       "      <td>0.0915</td>\n",
       "      <td>0.0209</td>\n",
       "    </tr>\n",
       "    <tr>\n",
       "      <th>SMOTE</th>\n",
       "      <td>0.0884</td>\n",
       "      <td>0.1134</td>\n",
       "      <td>0.0784</td>\n",
       "      <td>0.0818</td>\n",
       "    </tr>\n",
       "    <tr>\n",
       "      <th>RandomOverSampler</th>\n",
       "      <td>0.0487</td>\n",
       "      <td>0.1147</td>\n",
       "      <td>0.0652</td>\n",
       "      <td>0.0871</td>\n",
       "    </tr>\n",
       "    <tr>\n",
       "      <th>RandomUnderSampler</th>\n",
       "      <td>0.0851</td>\n",
       "      <td>0.1163</td>\n",
       "      <td>0.0660</td>\n",
       "      <td>0.0868</td>\n",
       "    </tr>\n",
       "  </tbody>\n",
       "</table>\n",
       "</div>"
      ],
      "text/plain": [
       "                    Random Forest  Logistic Regression  Decision Tree     KNN\n",
       "No Handling         0.0180         0.0036               0.0915         0.0209\n",
       "SMOTE               0.0884         0.1134               0.0784         0.0818\n",
       "RandomOverSampler   0.0487         0.1147               0.0652         0.0871\n",
       "RandomUnderSampler  0.0851         0.1163               0.0660         0.0868"
      ]
     },
     "execution_count": 52,
     "metadata": {},
     "output_type": "execute_result"
    }
   ],
   "source": [
    "def evaluate_models_with_pipeline(X_train, y_train, cv=5):\n",
    "    methods = {\n",
    "        'No Handling': None,\n",
    "        'SMOTE': SMOTE(random_state=42),\n",
    "        'RandomOverSampler': RandomOverSampler(random_state=42),\n",
    "        'RandomUnderSampler': RandomUnderSampler(random_state=42)\n",
    "    }\n",
    "\n",
    "    models = {\n",
    "        'Random Forest': RandomForestClassifier(random_state=42),\n",
    "        'Logistic Regression': LogisticRegression(random_state=42),\n",
    "        'Decision Tree': DecisionTreeClassifier(random_state=42),\n",
    "        'KNN': KNeighborsClassifier()\n",
    "    }\n",
    "\n",
    "    results = defaultdict(dict)\n",
    "\n",
    "    for method_name, sampler in methods.items():\n",
    "        print(f\"\\n Handling method: {method_name}\")\n",
    "        for model_name, model in models.items():\n",
    "            steps = [('scaler', RobustScaler())]\n",
    "            if sampler:\n",
    "                steps.append(('sampler', sampler))\n",
    "            steps.append(('classifier', model))\n",
    "\n",
    "            pipeline = Pipeline(steps=steps)\n",
    "            cv_scores = cross_val_score(pipeline, X_train, y_train, cv=cv, scoring='f1')\n",
    "            mean_score = cv_scores.mean()\n",
    "            results[method_name][model_name] = mean_score\n",
    "            print(f\"  {model_name}: F1 CV Mean = {mean_score:.4f}\")\n",
    "\n",
    "    return pd.DataFrame(results)\n",
    "\n",
    "results_df_pipeline = evaluate_models_with_pipeline(X_train, y_train, cv=5)\n",
    "print(\"\\n Perbandingan F1-score:\\n\")\n",
    "results_df_pipeline.T.round(4)"
   ]
  },
  {
   "cell_type": "markdown",
   "id": "b077e06e",
   "metadata": {},
   "source": [
    "Berdasarkan hasil tersebut, SMOTE yang akan digunakan untuk handling imbalance data."
   ]
  },
  {
   "cell_type": "code",
   "execution_count": 53,
   "id": "b9eae11c",
   "metadata": {},
   "outputs": [
    {
     "data": {
      "application/vnd.microsoft.datawrangler.viewer.v0+json": {
       "columns": [
        {
         "name": "index",
         "rawType": "int64",
         "type": "integer"
        },
        {
         "name": "Model",
         "rawType": "object",
         "type": "string"
        },
        {
         "name": "F1 Score",
         "rawType": "float64",
         "type": "float"
        },
        {
         "name": "Precision",
         "rawType": "float64",
         "type": "float"
        },
        {
         "name": "Recall",
         "rawType": "float64",
         "type": "float"
        }
       ],
       "ref": "f7043ebb-cfd5-40b9-a58e-71d73365970b",
       "rows": [
        [
         "0",
         "Random Forest",
         "0.1198",
         "0.1005",
         "0.1481"
        ],
        [
         "1",
         "Logistic Regression",
         "0.1126",
         "0.0614",
         "0.6741"
        ],
        [
         "2",
         "Decision Tree",
         "0.0743",
         "0.0558",
         "0.1111"
        ],
        [
         "3",
         "KNN",
         "0.1048",
         "0.0598",
         "0.4222"
        ]
       ],
       "shape": {
        "columns": 4,
        "rows": 4
       }
      },
      "text/html": [
       "<div>\n",
       "<style scoped>\n",
       "    .dataframe tbody tr th:only-of-type {\n",
       "        vertical-align: middle;\n",
       "    }\n",
       "\n",
       "    .dataframe tbody tr th {\n",
       "        vertical-align: top;\n",
       "    }\n",
       "\n",
       "    .dataframe thead th {\n",
       "        text-align: right;\n",
       "    }\n",
       "</style>\n",
       "<table border=\"1\" class=\"dataframe\">\n",
       "  <thead>\n",
       "    <tr style=\"text-align: right;\">\n",
       "      <th></th>\n",
       "      <th>Model</th>\n",
       "      <th>F1 Score</th>\n",
       "      <th>Precision</th>\n",
       "      <th>Recall</th>\n",
       "    </tr>\n",
       "  </thead>\n",
       "  <tbody>\n",
       "    <tr>\n",
       "      <th>0</th>\n",
       "      <td>Random Forest</td>\n",
       "      <td>0.1198</td>\n",
       "      <td>0.1005</td>\n",
       "      <td>0.1481</td>\n",
       "    </tr>\n",
       "    <tr>\n",
       "      <th>1</th>\n",
       "      <td>Logistic Regression</td>\n",
       "      <td>0.1126</td>\n",
       "      <td>0.0614</td>\n",
       "      <td>0.6741</td>\n",
       "    </tr>\n",
       "    <tr>\n",
       "      <th>2</th>\n",
       "      <td>Decision Tree</td>\n",
       "      <td>0.0743</td>\n",
       "      <td>0.0558</td>\n",
       "      <td>0.1111</td>\n",
       "    </tr>\n",
       "    <tr>\n",
       "      <th>3</th>\n",
       "      <td>KNN</td>\n",
       "      <td>0.1048</td>\n",
       "      <td>0.0598</td>\n",
       "      <td>0.4222</td>\n",
       "    </tr>\n",
       "  </tbody>\n",
       "</table>\n",
       "</div>"
      ],
      "text/plain": [
       "                 Model  F1 Score  Precision  Recall\n",
       "0  Random Forest        0.1198    0.1005     0.1481\n",
       "1  Logistic Regression  0.1126    0.0614     0.6741\n",
       "2  Decision Tree        0.0743    0.0558     0.1111\n",
       "3  KNN                  0.1048    0.0598     0.4222"
      ]
     },
     "execution_count": 53,
     "metadata": {},
     "output_type": "execute_result"
    }
   ],
   "source": [
    "results_test_before_tuning = []\n",
    "\n",
    "methods_for_test = {\n",
    "    'SMOTE': SMOTE(random_state=42)\n",
    "}\n",
    "\n",
    "models_for_test = {\n",
    "    'Random Forest': RandomForestClassifier(random_state=42),\n",
    "    'Logistic Regression': LogisticRegression(random_state=42),\n",
    "    'Decision Tree': DecisionTreeClassifier(random_state=42),\n",
    "    'KNN': KNeighborsClassifier()\n",
    "}\n",
    "\n",
    "for method_name, sampler in methods_for_test.items():\n",
    "    for model_name, model in models_for_test.items():\n",
    "        steps = [('scaler', RobustScaler()), ('sampler', sampler), ('classifier', model)]\n",
    "        pipeline = Pipeline(steps=steps)\n",
    "        pipeline.fit(X_train, y_train)\n",
    "        y_pred = pipeline.predict(X_test)\n",
    "        f1 = f1_score(y_test, y_pred)\n",
    "        precision = precision_score(y_test, y_pred)\n",
    "        recall = recall_score(y_test, y_pred)\n",
    "\n",
    "        results_test_before_tuning.append({\n",
    "            'Model': model_name,\n",
    "            'F1 Score': f1,\n",
    "            'Precision': precision,\n",
    "            'Recall': recall,\n",
    "        })\n",
    "\n",
    "results_df_test_before_tuning = pd.DataFrame(results_test_before_tuning)\n",
    "results_df_test_before_tuning.round(4)\n",
    "# print(\"\\n Evaluasi Test Set Sebelum Tuning:\\n\")\n",
    "# print(results_df_test_before_tuning.pivot(index='Model', columns='Handling Method').round(4))"
   ]
  },
  {
   "cell_type": "markdown",
   "id": "8de9d534",
   "metadata": {},
   "source": [
    "Dari hasil tersebut diketahui bahwa model Random Forest memiliki F1 score yang paling baik. Oleh karena itu model Random Forest akan dipilih untuk kasus ini namun akan kita coba lakukan hyperparameter tuning terlebih dulu untuk melihat hasil yang paling baik."
   ]
  },
  {
   "cell_type": "markdown",
   "id": "b9e9a790",
   "metadata": {},
   "source": [
    "### Hyperparameter Tuning\n",
    "Dilakukan untuk mendapatkan parameter model terbaik. Pada kasus ini akan menggunakan RandomizedSearchCV."
   ]
  },
  {
   "cell_type": "code",
   "execution_count": 55,
   "id": "4aadf61b",
   "metadata": {},
   "outputs": [
    {
     "name": "stdout",
     "output_type": "stream",
     "text": [
      "\n",
      " Best Parameters (Random Forest): {'classifier__n_estimators': 100, 'classifier__min_samples_split': 5, 'classifier__max_depth': 10}\n",
      "Best F1 Score: 0.13399602289706306\n"
     ]
    }
   ],
   "source": [
    "param_dist_rf = {\n",
    "    'classifier__n_estimators': [100, 200, 300, 400],\n",
    "    'classifier__max_depth': [10, 20, 30, None],\n",
    "    'classifier__min_samples_split': [2, 5, 10]\n",
    "}\n",
    "\n",
    "pipeline_rf = Pipeline(steps=[\n",
    "    ('scaler', RobustScaler()),\n",
    "    ('sampler', SMOTE(random_state=42)),\n",
    "    ('classifier', RandomForestClassifier(random_state=42))\n",
    "])\n",
    "\n",
    "random_search_rf = RandomizedSearchCV(pipeline_rf, param_distributions=param_dist_rf, cv=5, scoring='f1', n_iter=10, random_state=42, n_jobs=-1)\n",
    "random_search_rf.fit(X_train, y_train)\n",
    "\n",
    "print(\"\\n Best Parameters (Random Forest):\", random_search_rf.best_params_)\n",
    "print(\"Best F1 Score:\", random_search_rf.best_score_)"
   ]
  },
  {
   "cell_type": "code",
   "execution_count": 56,
   "id": "09af8de6",
   "metadata": {},
   "outputs": [
    {
     "name": "stdout",
     "output_type": "stream",
     "text": [
      "\n",
      " Random Forest Sesudah Tuning:\n",
      "              precision    recall  f1-score   support\n",
      "\n",
      "           0       0.99      0.89      0.94      7550\n",
      "           1       0.08      0.53      0.13       135\n",
      "\n",
      "    accuracy                           0.88      7685\n",
      "   macro avg       0.53      0.71      0.54      7685\n",
      "weighted avg       0.97      0.88      0.92      7685\n",
      "\n",
      "Final Test Set F1 Scores:\n",
      "Random Forest: 0.1347\n"
     ]
    }
   ],
   "source": [
    "y_pred_best_rf = random_search_rf.best_estimator_.predict(X_test)\n",
    "print(\"\\n Random Forest Sesudah Tuning:\")\n",
    "print(classification_report(y_test, y_pred_best_rf))\n",
    "\n",
    "print(\"Final Test Set F1 Scores:\")\n",
    "print(f\"Random Forest: {f1_score(y_test, y_pred_best_rf):.4f}\")"
   ]
  },
  {
   "cell_type": "markdown",
   "id": "388435ac",
   "metadata": {},
   "source": [
    "Sebelum menggunakan hyperparameter tuning:"
   ]
  },
  {
   "cell_type": "code",
   "execution_count": 57,
   "id": "a2ee72e1",
   "metadata": {},
   "outputs": [
    {
     "name": "stdout",
     "output_type": "stream",
     "text": [
      "0.1198\n"
     ]
    }
   ],
   "source": [
    "print((results_df_test_before_tuning[results_df_test_before_tuning['Model'] == 'Random Forest']['F1 Score'].values[0]).round(4))"
   ]
  },
  {
   "cell_type": "markdown",
   "id": "5b6b25c7",
   "metadata": {},
   "source": [
    "Setelah menggunakan hyperparameter tuning:"
   ]
  },
  {
   "cell_type": "code",
   "execution_count": 58,
   "id": "d907b580",
   "metadata": {},
   "outputs": [
    {
     "name": "stdout",
     "output_type": "stream",
     "text": [
      "0.1347\n"
     ]
    }
   ],
   "source": [
    "print(f\"{f1_score(y_test, y_pred_best_rf):.4f}\")"
   ]
  },
  {
   "cell_type": "markdown",
   "id": "39f148fc",
   "metadata": {},
   "source": [
    "Terlihat F1 score sesudah menggunakan hyperparameter tuning menjadi lebih baik dari sebelum menggunakannya. Berdasarkan hasil perbandingan tersebut, maka model yang akan digunakan adalah yang telah menggunakan hyperparameter tuning."
   ]
  },
  {
   "cell_type": "code",
   "execution_count": 59,
   "id": "a87a8df5",
   "metadata": {},
   "outputs": [
    {
     "name": "stdout",
     "output_type": "stream",
     "text": [
      "\n",
      " Classification Report:\n",
      "               precision    recall  f1-score   support\n",
      "\n",
      "           0       0.99      0.89      0.94      7550\n",
      "           1       0.08      0.53      0.13       135\n",
      "\n",
      "    accuracy                           0.88      7685\n",
      "   macro avg       0.53      0.71      0.54      7685\n",
      "weighted avg       0.97      0.88      0.92      7685\n",
      "\n"
     ]
    },
    {
     "data": {
      "image/png": "[encoded data removed]",
      "text/plain": [
       "<Figure size 300x200 with 1 Axes>"
      ]
     },
     "metadata": {},
     "output_type": "display_data"
    },
    {
     "data": {
      "image/png": "[encoded data removed]",
      "text/plain": [
       "<Figure size 300x200 with 1 Axes>"
      ]
     },
     "metadata": {},
     "output_type": "display_data"
    }
   ],
   "source": [
    "from sklearn.model_selection import cross_val_predict\n",
    "\n",
    "train_preds_rf = cross_val_predict(random_search_rf.best_estimator_, X_train, y_train, cv=5)\n",
    "test_preds_rf = y_pred_best_rf\n",
    "\n",
    "print(\"\\n Classification Report:\\n\", classification_report(y_test, y_pred_best_rf))\n",
    "\n",
    "# Visualisasi Confusion Matrix Random Forest\n",
    "def plot_conf_matrix(cm, title):\n",
    "    plt.figure(figsize=(3,2))\n",
    "    sns.heatmap(cm, annot=True, fmt='d', cmap='Blues', cbar=False)\n",
    "    plt.xlabel('Predicted Label')\n",
    "    plt.ylabel('True Label')\n",
    "    plt.title(title)\n",
    "    plt.show()\n",
    "\n",
    "# Visualisasi Train dan Test\n",
    "cm_train_rf = confusion_matrix(y_train, train_preds_rf)\n",
    "cm_test_rf = confusion_matrix(y_test, test_preds_rf)\n",
    "\n",
    "plot_conf_matrix(cm_train_rf, 'Confusion Matrix - Random Forest (Train Set)')\n",
    "plot_conf_matrix(cm_test_rf, 'Confusion Matrix - Random Forest (Test Set)')"
   ]
  },
  {
   "cell_type": "markdown",
   "id": "928a66e5",
   "metadata": {},
   "source": [
    "### Save to Pickle"
   ]
  },
  {
   "cell_type": "code",
   "execution_count": 60,
   "id": "b0b263c2",
   "metadata": {},
   "outputs": [],
   "source": [
    "pickle.dump(y_pred_best_rf, open('ClaimDetector_RandomForest.pkl', 'wb'))"
   ]
  },
  {
   "cell_type": "markdown",
   "id": "c0891543",
   "metadata": {},
   "source": [
    "### Kesimpulan"
   ]
  },
  {
   "cell_type": "markdown",
   "id": "1045d840",
   "metadata": {},
   "source": [
    "Berdasarkan hasil tersebut, model Random Forest setelah hyperparameter tuning sudah cukup baik untuk digunakan. Walau hasil F1 score hanya sebesar 13%, namun pada kondisi imbalance yang ekstrem dimana kelas positif hanya 1.7%, model masih layak untuk digunakan."
   ]
  },
  {
   "cell_type": "markdown",
   "id": "353c9140",
   "metadata": {},
   "source": [
    "Model sudah cukup baik dalam mendeteksi klaim yang terjadi dengan nilai recall sebesar 53%, namun masih perlu optimasi lebih lanjut agar agar prediksi bisa lebih akurat."
   ]
  },
  {
   "cell_type": "markdown",
   "id": "1f2628d5",
   "metadata": {},
   "source": [
    "### Rekomendasi"
   ]
  },
  {
   "cell_type": "markdown",
   "id": "2a64fc50",
   "metadata": {},
   "source": [
    "1.  Memakai GridSearchCV untuk Hyperparameter Tuningnya untuk kemungkinan F1 score yang lebih baik, namun dengan konsekuensi waktu fitting yang akan menjadi lebih lama.\n",
    "2. Dalam melakukan handling imbalance data bisa kombinasikan dengan metode lain yang kemungkinan dapat mengoptimalkan model.\n",
    "3. Mencoba lebih banyak variasi model, terutama yang lebih robust terhadap imbalance data. \n"
   ]
  }
 ],
 "metadata": {
  "kernelspec": {
   "display_name": "Python 3",
   "language": "python",
   "name": "python3"
  },
  "language_info": {
   "codemirror_mode": {
    "name": "ipython",
    "version": 3
   },
   "file_extension": ".py",
   "mimetype": "text/x-python",
   "name": "python",
   "nbconvert_exporter": "python",
   "pygments_lexer": "ipython3",
   "version": "3.11.1"
  }
 },
 "nbformat": 4,
 "nbformat_minor": 5
}
